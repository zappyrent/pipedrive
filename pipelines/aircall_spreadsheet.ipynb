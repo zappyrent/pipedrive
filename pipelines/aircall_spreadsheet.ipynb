{
 "cells": [
  {
   "cell_type": "code",
   "execution_count": 47,
   "id": "initial_id",
   "metadata": {
    "collapsed": true,
    "ExecuteTime": {
     "end_time": "2024-05-07T07:14:15.549662Z",
     "start_time": "2024-05-07T07:14:15.543309Z"
    }
   },
   "outputs": [],
   "source": [
    "import gspread\n",
    "import mysqlcredentials as mc\n",
    "import mysql.connector\n",
    "from oauth2client.service_account import ServiceAccountCredentials"
   ]
  },
  {
   "cell_type": "code",
   "outputs": [],
   "source": [
    "# initialize variables for gspread\n",
    "scope = ['https://spreadsheets.google.com/feeds',\n",
    "'https://www.googleapis.com/auth/drive']\n",
    "creds = ServiceAccountCredentials.from_json_keyfile_name('GoogleSheetsToMySQL.json', scope)\n",
    "client = gspread.authorize(creds)"
   ],
   "metadata": {
    "collapsed": false,
    "ExecuteTime": {
     "end_time": "2024-05-07T07:14:15.660869Z",
     "start_time": "2024-05-07T07:14:15.588674Z"
    }
   },
   "id": "b0c539a36215e094",
   "execution_count": 48
  },
  {
   "cell_type": "code",
   "outputs": [],
   "source": [
    "# define method to pull data from spreadsheet\n",
    "def GetSpreadsheetData(sheetName, worksheetIndex):\n",
    "    sheet = client.open(sheetName).get_worksheet(worksheetIndex)\n",
    "    return sheet.get_all_values()[1:]"
   ],
   "metadata": {
    "collapsed": false,
    "ExecuteTime": {
     "end_time": "2024-05-07T07:14:15.673185Z",
     "start_time": "2024-05-07T07:14:15.664881Z"
    }
   },
   "id": "385835b979f4be8a",
   "execution_count": 49
  },
  {
   "cell_type": "code",
   "outputs": [],
   "source": [
    "def PreserveNULLValues(listName):\n",
    "    print('Preserving NULL values…')\n",
    "    for x in range(len(listName)):\n",
    "        for y in range(len(listName[x])):\n",
    "            if listName[x][y] == '':\n",
    "                listName[x][y] = None\n",
    "    print('NULL values preserved.')"
   ],
   "metadata": {
    "collapsed": false,
    "ExecuteTime": {
     "end_time": "2024-05-07T07:14:15.691853Z",
     "start_time": "2024-05-07T07:14:15.675204Z"
    }
   },
   "id": "965b4d834b354fa6",
   "execution_count": 50
  },
  {
   "cell_type": "code",
   "outputs": [],
   "source": [
    "data=GetSpreadsheetData('db_aircall', 2)"
   ],
   "metadata": {
    "collapsed": false,
    "ExecuteTime": {
     "end_time": "2024-05-07T07:14:23.094212Z",
     "start_time": "2024-05-07T07:14:15.695868Z"
    }
   },
   "id": "e561e5bb79131f9a",
   "execution_count": 51
  },
  {
   "cell_type": "code",
   "outputs": [
    {
     "name": "stdout",
     "output_type": "stream",
     "text": [
      "['CAdde3ac5bf4be8bb3b6ad9539b0b90555', '', 'Inbound - Abandoned', '', 'short_abandoned', '5/6/2024 19:21:54', '5/6/2024 19:21:55', '5/6/2024 19:21:55', '1', '', '', '', '[No associated user]', '', '', '', '', '', '', '', '']\n",
      "50724\n"
     ]
    }
   ],
   "source": [
    "print(data[0])\n",
    "print(len(data))"
   ],
   "metadata": {
    "collapsed": false,
    "ExecuteTime": {
     "end_time": "2024-05-07T07:14:23.101844Z",
     "start_time": "2024-05-07T07:14:23.096220Z"
    }
   },
   "id": "4547ccdcc0ade7dc",
   "execution_count": 52
  },
  {
   "cell_type": "code",
   "outputs": [],
   "source": [
    "def insert_update_call(call_data):\n",
    "    \n",
    "    try:\n",
    "        connection = mysql.connector.connect(\n",
    "        user = mc.user,\n",
    "        password = mc.password,\n",
    "        host = mc.host,\n",
    "        database = mc.database\n",
    "        )\n",
    "        \n",
    "        drop_table = \" DROP TABLE IF EXISTS aircalls_calls \"\n",
    "        create_table = \"\"\" CREATE TABLE  aircalls_calls (\n",
    "                    id INT,\n",
    "                    direct_link VARCHAR(255),\n",
    "                    direction VARCHAR(255),\n",
    "                    status VARCHAR(255),\n",
    "                    missed_call_reason VARCHAR(255),\n",
    "                    started_at DATETIME,\n",
    "                    answered_at DATETIME,\n",
    "                    ended_at DATETIME,\n",
    "                    duration INT,\n",
    "                    voicemail BOOLEAN,\n",
    "                    asset VARCHAR(255),\n",
    "                    raw_digits VARCHAR(255),\n",
    "                    user_id INT,\n",
    "                    archived BOOLEAN,\n",
    "                    assigned_to INT,\n",
    "                    transferred_by INT,\n",
    "                    transferred_to INT,\n",
    "                    number_id INT,\n",
    "                    cost FLOAT,\n",
    "                    country_code_a2 VARCHAR(255),\n",
    "                    pricing_type VARCHAR(255)\n",
    "                    ); \"\"\"\n",
    "        \n",
    "        script_insert_or_update_calls = \"\"\"\n",
    "        INSERT INTO aircalls_calls (id, direct_link, direction, status, missed_call_reason, started_at, answered_at, ended_at, duration, voicemail, asset, raw_digits, user_id, archived, assigned_to, transferred_by, transferred_to, number_id, cost, country_code_a2, pricing_type) \n",
    "        VALUES (%s, %s,%s, %s,%s, %s,%s, %s,%s, %s,%s, %s,%s, %s,%s, %s,%s, %s,%s, %s,%s);\n",
    "                    \"\"\"                              \n",
    "        cursor = connection.cursor()\n",
    "        cursor.execute(drop_table)\n",
    "        print(f\"Call dropped\")\n",
    "        cursor.execute(create_table)\n",
    "        print(f\"Call Table Created\")\n",
    "              \n",
    "        for i in data:\n",
    "            cursor.execute(script_insert_or_update_calls, i)\n",
    "        \n",
    "        connection.commit()\n",
    "        print(f\"Call Updated\")\n",
    "        #print(f\"Call Values: {values}\")\n",
    "\n",
    "    except mysql.connector.Error as error :\n",
    "        connection.rollback()\n",
    "        print(\"Error: {}. Table {} not updated!\".format(error,'aircalls_calls'))\n",
    "# We need to close the cursor and the connection, and this needs to be done regardless of what happened above.\n",
    "    finally:\n",
    "        cursor.execute('SELECT COUNT(*) FROM {}'.format('aircalls_calls'))\n",
    "        rowCount = cursor.fetchone()[0]\n",
    "        print('aircall_calls', 'row count:', rowCount)\n",
    "        if connection.is_connected():\n",
    "            cursor.close()\n",
    "            connection.close()\n",
    "            print(\"MySQL connection is closed.\")        \n",
    "    "
   ],
   "metadata": {
    "collapsed": false,
    "ExecuteTime": {
     "end_time": "2024-05-07T07:14:23.186440Z",
     "start_time": "2024-05-07T07:14:23.104854Z"
    }
   },
   "id": "3bebe60441c00edc",
   "execution_count": 53
  },
  {
   "cell_type": "code",
   "outputs": [
    {
     "name": "stdout",
     "output_type": "stream",
     "text": [
      "Call dropped\n",
      "Call Table Created\n",
      "aircall_calls row count: 44265\n",
      "MySQL connection is closed.\n"
     ]
    },
    {
     "ename": "KeyboardInterrupt",
     "evalue": "",
     "output_type": "error",
     "traceback": [
      "\u001B[1;31m---------------------------------------------------------------------------\u001B[0m",
      "\u001B[1;31mKeyboardInterrupt\u001B[0m                         Traceback (most recent call last)",
      "Cell \u001B[1;32mIn[54], line 1\u001B[0m\n\u001B[1;32m----> 1\u001B[0m insert_update_call(data)\n",
      "Cell \u001B[1;32mIn[53], line 47\u001B[0m, in \u001B[0;36minsert_update_call\u001B[1;34m(call_data)\u001B[0m\n\u001B[0;32m     44\u001B[0m \u001B[38;5;28mprint\u001B[39m(\u001B[38;5;124mf\u001B[39m\u001B[38;5;124m\"\u001B[39m\u001B[38;5;124mCall Table Created\u001B[39m\u001B[38;5;124m\"\u001B[39m)\n\u001B[0;32m     46\u001B[0m \u001B[38;5;28;01mfor\u001B[39;00m i \u001B[38;5;129;01min\u001B[39;00m data:\n\u001B[1;32m---> 47\u001B[0m     cursor\u001B[38;5;241m.\u001B[39mexecute(script_insert_or_update_calls, i)\n\u001B[0;32m     49\u001B[0m connection\u001B[38;5;241m.\u001B[39mcommit()\n\u001B[0;32m     50\u001B[0m \u001B[38;5;28mprint\u001B[39m(\u001B[38;5;124mf\u001B[39m\u001B[38;5;124m\"\u001B[39m\u001B[38;5;124mCall Updated\u001B[39m\u001B[38;5;124m\"\u001B[39m)\n",
      "File \u001B[1;32m~\\anaconda3\\Lib\\site-packages\\mysql\\connector\\cursor_cext.py:374\u001B[0m, in \u001B[0;36mCMySQLCursor.execute\u001B[1;34m(self, operation, params, multi)\u001B[0m\n\u001B[0;32m    369\u001B[0m             \u001B[38;5;28;01mraise\u001B[39;00m ProgrammingError(\n\u001B[0;32m    370\u001B[0m                 \u001B[38;5;124m\"\u001B[39m\u001B[38;5;124mNot all parameters were used in the SQL statement\u001B[39m\u001B[38;5;124m\"\u001B[39m\n\u001B[0;32m    371\u001B[0m             )\n\u001B[0;32m    373\u001B[0m \u001B[38;5;28;01mtry\u001B[39;00m:\n\u001B[1;32m--> 374\u001B[0m     result \u001B[38;5;241m=\u001B[39m \u001B[38;5;28mself\u001B[39m\u001B[38;5;241m.\u001B[39m_cnx\u001B[38;5;241m.\u001B[39mcmd_query(\n\u001B[0;32m    375\u001B[0m         stmt,\n\u001B[0;32m    376\u001B[0m         raw\u001B[38;5;241m=\u001B[39m\u001B[38;5;28mself\u001B[39m\u001B[38;5;241m.\u001B[39m_raw,\n\u001B[0;32m    377\u001B[0m         buffered\u001B[38;5;241m=\u001B[39m\u001B[38;5;28mself\u001B[39m\u001B[38;5;241m.\u001B[39m_buffered,\n\u001B[0;32m    378\u001B[0m         raw_as_string\u001B[38;5;241m=\u001B[39m\u001B[38;5;28mself\u001B[39m\u001B[38;5;241m.\u001B[39m_raw_as_string,\n\u001B[0;32m    379\u001B[0m     )\n\u001B[0;32m    380\u001B[0m \u001B[38;5;28;01mexcept\u001B[39;00m MySQLInterfaceError \u001B[38;5;28;01mas\u001B[39;00m err:\n\u001B[0;32m    381\u001B[0m     \u001B[38;5;28;01mraise\u001B[39;00m get_mysql_exception(\n\u001B[0;32m    382\u001B[0m         msg\u001B[38;5;241m=\u001B[39merr\u001B[38;5;241m.\u001B[39mmsg, errno\u001B[38;5;241m=\u001B[39merr\u001B[38;5;241m.\u001B[39merrno, sqlstate\u001B[38;5;241m=\u001B[39merr\u001B[38;5;241m.\u001B[39msqlstate\n\u001B[0;32m    383\u001B[0m     ) \u001B[38;5;28;01mfrom\u001B[39;00m \u001B[38;5;21;01merr\u001B[39;00m\n",
      "File \u001B[1;32m~\\anaconda3\\Lib\\site-packages\\mysql\\connector\\opentelemetry\\context_propagation.py:83\u001B[0m, in \u001B[0;36mwith_context_propagation.<locals>.wrapper\u001B[1;34m(cnx, *args, **kwargs)\u001B[0m\n\u001B[0;32m     80\u001B[0m     cnx\u001B[38;5;241m.\u001B[39mquery_attrs_append(value\u001B[38;5;241m=\u001B[39m(TRACEPARENT_HEADER_NAME, tp_header))\n\u001B[0;32m     82\u001B[0m \u001B[38;5;28;01mtry\u001B[39;00m:\n\u001B[1;32m---> 83\u001B[0m     result \u001B[38;5;241m=\u001B[39m method(cnx, \u001B[38;5;241m*\u001B[39margs, \u001B[38;5;241m*\u001B[39m\u001B[38;5;241m*\u001B[39mkwargs)\n\u001B[0;32m     84\u001B[0m \u001B[38;5;28;01mfinally\u001B[39;00m:\n\u001B[0;32m     85\u001B[0m     \u001B[38;5;28;01mif\u001B[39;00m tp_header \u001B[38;5;129;01mis\u001B[39;00m \u001B[38;5;129;01mnot\u001B[39;00m \u001B[38;5;28;01mNone\u001B[39;00m:\n",
      "File \u001B[1;32m~\\anaconda3\\Lib\\site-packages\\mysql\\connector\\connection_cext.py:661\u001B[0m, in \u001B[0;36mCMySQLConnection.cmd_query\u001B[1;34m(self, query, raw, buffered, raw_as_string)\u001B[0m\n\u001B[0;32m    659\u001B[0m     \u001B[38;5;28;01mif\u001B[39;00m \u001B[38;5;129;01mnot\u001B[39;00m \u001B[38;5;28misinstance\u001B[39m(query, \u001B[38;5;28mbytes\u001B[39m):\n\u001B[0;32m    660\u001B[0m         query \u001B[38;5;241m=\u001B[39m query\u001B[38;5;241m.\u001B[39mencode(\u001B[38;5;124m\"\u001B[39m\u001B[38;5;124mutf-8\u001B[39m\u001B[38;5;124m\"\u001B[39m)\n\u001B[1;32m--> 661\u001B[0m     \u001B[38;5;28mself\u001B[39m\u001B[38;5;241m.\u001B[39m_cmysql\u001B[38;5;241m.\u001B[39mquery(\n\u001B[0;32m    662\u001B[0m         query,\n\u001B[0;32m    663\u001B[0m         raw\u001B[38;5;241m=\u001B[39mraw,\n\u001B[0;32m    664\u001B[0m         buffered\u001B[38;5;241m=\u001B[39mbuffered,\n\u001B[0;32m    665\u001B[0m         raw_as_string\u001B[38;5;241m=\u001B[39mraw_as_string,\n\u001B[0;32m    666\u001B[0m         query_attrs\u001B[38;5;241m=\u001B[39m\u001B[38;5;28mself\u001B[39m\u001B[38;5;241m.\u001B[39mquery_attrs,\n\u001B[0;32m    667\u001B[0m     )\n\u001B[0;32m    668\u001B[0m \u001B[38;5;28;01mexcept\u001B[39;00m MySQLInterfaceError \u001B[38;5;28;01mas\u001B[39;00m err:\n\u001B[0;32m    669\u001B[0m     \u001B[38;5;28;01mraise\u001B[39;00m get_mysql_exception(\n\u001B[0;32m    670\u001B[0m         err\u001B[38;5;241m.\u001B[39merrno, msg\u001B[38;5;241m=\u001B[39merr\u001B[38;5;241m.\u001B[39mmsg, sqlstate\u001B[38;5;241m=\u001B[39merr\u001B[38;5;241m.\u001B[39msqlstate\n\u001B[0;32m    671\u001B[0m     ) \u001B[38;5;28;01mfrom\u001B[39;00m \u001B[38;5;21;01merr\u001B[39;00m\n",
      "\u001B[1;31mKeyboardInterrupt\u001B[0m: "
     ]
    }
   ],
   "source": [
    "insert_update_call(data)"
   ],
   "metadata": {
    "collapsed": false,
    "ExecuteTime": {
     "end_time": "2024-05-07T07:31:05.347996Z",
     "start_time": "2024-05-07T07:14:23.190449Z"
    }
   },
   "id": "93c2de829877f9b9",
   "execution_count": 54
  }
 ],
 "metadata": {
  "kernelspec": {
   "display_name": "Python 3",
   "language": "python",
   "name": "python3"
  },
  "language_info": {
   "codemirror_mode": {
    "name": "ipython",
    "version": 2
   },
   "file_extension": ".py",
   "mimetype": "text/x-python",
   "name": "python",
   "nbconvert_exporter": "python",
   "pygments_lexer": "ipython2",
   "version": "2.7.6"
  }
 },
 "nbformat": 4,
 "nbformat_minor": 5
}
