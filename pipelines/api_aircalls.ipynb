{
 "cells": [
  {
   "cell_type": "code",
   "outputs": [],
   "source": [
    "# Create a DAG to run the ETL process for the leads data consuming the data from the leads REST API\n",
    "## The API connection ID is pipe_leads returns a JSON on an object with the following structure: 'data'\n",
    "\n",
    "#from airflow.providers.mysql.operators.mysql import MySqlOperator\n",
    "#from airflow.operators.dummy_operator import DummyOperator\n",
    "#from airflow.providers.mysql.hooks.mysql import MySqlHook\n",
    "from datetime import datetime, timedelta\n",
    "#from airflow.decorators import dag, task\n",
    "#from airflow.models import Variable\n",
    "from mysql.connector import Error\n",
    "from dateutil import parser\n",
    "import mysql.connector\n",
    "import calendar\n",
    "import requests\n",
    "import base64\n",
    "import json\n",
    "import time\n",
    "import re"
   ],
   "metadata": {
    "collapsed": false,
    "ExecuteTime": {
     "end_time": "2024-05-07T05:58:14.547371Z",
     "start_time": "2024-05-07T05:58:13.016828Z"
    }
   },
   "id": "14bd2d12fe430162",
   "execution_count": 1
  },
  {
   "cell_type": "code",
   "outputs": [],
   "source": [
    "# Retrieve database configuration from Airflow Variable\n",
    "#aircalls_cron_schedule = Variable.get(\"aircalls_cron_schedule\", default_var=\"*/2 * * * *\")\n",
    "api_test = 'True'\n",
    "api_limit = 500\n",
    "api_start = 0\n",
    "##api_token = Variable.get(\"pipedrive_api_token\")\n",
    "api_aircalls_url = 'https://api.aircall.io/v1/calls?order=desc&per_page=50'\n",
    "api_user = '36f1f8c50b6d4e5fdcdd5f06db496b69'\n",
    "api_pass = '0627dc5681942153e6ac0788ebd3340a'\n",
    "batch_size = 100\n",
    "mysql_conn_id = 'my_sql'"
   ],
   "metadata": {
    "collapsed": false,
    "ExecuteTime": {
     "end_time": "2024-05-07T05:58:14.568700Z",
     "start_time": "2024-05-07T05:58:14.559386Z"
    }
   },
   "id": "9a27a6244a946326",
   "execution_count": 2
  },
  {
   "cell_type": "code",
   "outputs": [],
   "source": [
    "connection = mysql.connector.connect(\n",
    "            user = 'pipedrive',\n",
    "            password = '#8LsH25%ZD',\n",
    "            host = 'scraper.cx53soegx3qk.eu-west-1.rds.amazonaws.com',\n",
    "            database= 'pipedrive')"
   ],
   "metadata": {
    "collapsed": false,
    "ExecuteTime": {
     "end_time": "2024-05-07T05:58:15.151723Z",
     "start_time": "2024-05-07T05:58:14.572711Z"
    }
   },
   "id": "30434b89eed68997",
   "execution_count": 3
  },
  {
   "cell_type": "code",
   "outputs": [],
   "source": [
    "def format_raw_digits(raw_digits):\n",
    "    if raw_digits is None:\n",
    "        return None\n",
    "    # Remove all spaces from the string\n",
    "    return raw_digits.replace(\" \", \"\")"
   ],
   "metadata": {
    "collapsed": false,
    "ExecuteTime": {
     "end_time": "2024-05-07T05:58:15.168069Z",
     "start_time": "2024-05-07T05:58:15.159739Z"
    }
   },
   "id": "e27e284be3b606a2",
   "execution_count": 4
  },
  {
   "cell_type": "code",
   "outputs": [],
   "source": [
    "def insert_update_number(number_data):\n",
    "    connection = mysql.connector.connect(\n",
    "            user = 'pipedrive',\n",
    "            password = '#8LsH25%ZD',\n",
    "            host = 'scraper.cx53soegx3qk.eu-west-1.rds.amazonaws.com',\n",
    "            database= 'pipedrive')\n",
    "    #print(\"Inserting/Updating number:\", number_data)\n",
    "    # Extract data from the number_data dictionary\n",
    "    number_id = number_data.get(\"id\")\n",
    "    direct_link = number_data.get(\"direct_link\")\n",
    "    name = number_data.get(\"name\")\n",
    "    digits = number_data.get(\"digits\")\n",
    "    country = number_data.get(\"country\")\n",
    "    time_zone = number_data.get(\"time_zone\")\n",
    "    open = number_data.get(\"open\")\n",
    "    availability_status = number_data.get(\"availability_status\")\n",
    "    is_ivr = number_data.get(\"is_ivr\")\n",
    "    live_recording_activated = number_data.get(\"live_recording_activated\")\n",
    "    priority = number_data.get(\"priority\")\n",
    "    created_at = number_data.get(\"created_at\")\n",
    "    created_at_datetime = None\n",
    "    if created_at is not None:\n",
    "        # Parse the ISO formatted datetime string to a datetime object\n",
    "        created_at_datetime = parser.parse(created_at)\n",
    "\n",
    "    values = ( number_id, direct_link, name, digits, country, time_zone, open, availability_status, is_ivr, live_recording_activated, priority, created_at_datetime)\n",
    "    \n",
    "    script_insert_or_update_users = \"\"\"\n",
    "    INSERT INTO aircalls_users_dag (id, direct_link, name, email, available, availability_status, created_at, time_zone, language, wrap_up_time) VALUES (%s, %s, %s, %s, %s, %s, %s, %s, %s, %s) ON DUPLICATE KEY UPDATE \n",
    "                direct_link = VALUES(direct_link), \n",
    "                name = VALUES(name), \n",
    "                email = VALUES(email), \n",
    "                available = VALUES(available), \n",
    "                availability_status = VALUES(availability_status), \n",
    "                created_at = VALUES(created_at), \n",
    "                time_zone = VALUES(time_zone), \n",
    "                language = VALUES(language), \n",
    "                wrap_up_time = VALUES(wrap_up_time);\n",
    "    \"\"\"\n",
    "    try:\n",
    "        cursor = connection.cursor()\n",
    "        cursor.execute(script_insert_or_update_users, values)\n",
    "        connection.commit()\n",
    "       # print(\"User insert/update successful.\")\n",
    "        #print(f\"User Values: {values}\")\n",
    "    except mysql.connector.Error as error:\n",
    "        connection.rollback()\n",
    "    # We need to close the cursor and the connection, and this needs to be done regardless of what happened above.\n",
    "    return number_id"
   ],
   "metadata": {
    "collapsed": false,
    "ExecuteTime": {
     "end_time": "2024-05-07T05:58:15.189001Z",
     "start_time": "2024-05-07T05:58:15.174085Z"
    }
   },
   "id": "898a7dcffadc2fd5",
   "execution_count": 5
  },
  {
   "cell_type": "code",
   "outputs": [],
   "source": [
    "def insert_update_user(user_data):\n",
    "    connection = mysql.connector.connect(\n",
    "            user = 'pipedrive',\n",
    "            password = '#8LsH25%ZD',\n",
    "            host = 'scraper.cx53soegx3qk.eu-west-1.rds.amazonaws.com',\n",
    "            database= 'pipedrive')\n",
    "    #print(\"Inserting/Updating user:\", user_data)\n",
    "    # Extract data from the user_data dictionary\n",
    "    user_id = user_data.get(\"id\")\n",
    "    direct_link = user_data.get(\"direct_link\")\n",
    "    name = user_data.get(\"name\")\n",
    "    email = user_data.get(\"email\")\n",
    "    available = user_data.get(\"available\")\n",
    "    availability_status = user_data.get(\"availability_status\")\n",
    "    created_at = user_data.get(\"created_at\")\n",
    "    created_at_datetime = None\n",
    "    if created_at is not None:\n",
    "        # Parse the ISO formatted datetime string to a datetime object\n",
    "        created_at_datetime = parser.parse(created_at)\n",
    "    time_zone = user_data.get(\"time_zone\")\n",
    "    language = user_data.get(\"language\")\n",
    "    wrap_up_time = user_data.get(\"wrap_up_time\")\n",
    "\n",
    "    values = (user_id, direct_link, name, email, available, availability_status, created_at_datetime, time_zone, language, wrap_up_time)\n",
    "    \n",
    "    script_insert_or_update_users = \"\"\"\n",
    "    INSERT INTO aircalls_users_dag (id, direct_link, name, email, available, availability_status, created_at, time_zone, language, wrap_up_time) VALUES (%s, %s, %s, %s, %s, %s, %s, %s, %s, %s) ON DUPLICATE KEY UPDATE \n",
    "    direct_link = VALUES(direct_link), \n",
    "    name = VALUES(name), \n",
    "    email = VALUES(email), \n",
    "    available = VALUES(available), \n",
    "    availability_status = VALUES(availability_status), \n",
    "    created_at = VALUES(created_at), \n",
    "    time_zone = VALUES(time_zone), \n",
    "    language = VALUES(language), \n",
    "    wrap_up_time = VALUES(wrap_up_time);\n",
    "    \"\"\"\n",
    "    try:\n",
    "        cursor = connection.cursor()\n",
    "        cursor.execute(script_insert_or_update_users, values)\n",
    "        connection.commit()\n",
    "        #print(\"User insert/update successful.\")\n",
    "        #print(f\"User Values: {values}\")\n",
    "    except mysql.connector.Error as error:\n",
    "        connection.rollback()\n",
    "        print(\"Error: {}\")\n",
    "    # We need to close the cursor and the connection, and this needs to be done regardless of what happened above.\n",
    "    return user_id"
   ],
   "metadata": {
    "collapsed": false,
    "ExecuteTime": {
     "end_time": "2024-05-06T18:35:06.612562Z",
     "start_time": "2024-05-06T18:35:06.600699Z"
    }
   },
   "id": "9351d5d43df6d346",
   "execution_count": 23
  },
  {
   "cell_type": "code",
   "outputs": [],
   "source": [
    "def insert_update_call(call_data):\n",
    "    \n",
    "    \n",
    "    #print(\"Inserting/Updating call:\", call_data)\n",
    "    # Extract data from the call_data dictionary\n",
    "    call_id = call_data.get(\"id\")\n",
    "    direct_link = call_data.get(\"direct_link\")\n",
    "    direction = call_data.get(\"direction\")\n",
    "    status = call_data.get(\"status\")\n",
    "    missed_call_reason = call_data.get(\"missed_call_reason\")\n",
    "    started_at = call_data.get(\"started_at\")\n",
    "    started_at_datetime = None\n",
    "    if started_at is not None:\n",
    "        # Parse the ISO formatted datetime string to a datetime object\n",
    "        started_at_datetime = datetime.fromtimestamp(started_at)\n",
    "    answered_at = call_data.get(\"answered_at\")\n",
    "    answered_at_datetime = None\n",
    "    if answered_at is not None:\n",
    "        # Parse the ISO formatted datetime string to a datetime object\n",
    "        answered_at_datetime = datetime.fromtimestamp(answered_at)\n",
    "    ended_at = call_data.get(\"ended_at\")\n",
    "    ended_at_datetime = None\n",
    "    if ended_at is not None:\n",
    "        # Parse the ISO formatted datetime string to a datetime object\n",
    "        ended_at_datetime = datetime.fromtimestamp(ended_at)\n",
    "    duration = call_data.get(\"duration\")\n",
    "    voicemail = call_data.get(\"voicemail\")\n",
    "    asset = call_data.get(\"asset\")\n",
    "    raw_digits = format_raw_digits(call_data.get(\"raw_digits\"))\n",
    "    # Validate and insert/update the user\n",
    "    if call_data.get(\"user\") is not None:\n",
    "        user_id = None\n",
    "        user_id = insert_update_user(call_data.get(\"user\"))\n",
    "    else:\n",
    "        user_id = None\n",
    "    archived = call_data.get(\"archived\")\n",
    "    assigned_to = call_data.get(\"assigned_to\")\n",
    "    transferred_by = call_data.get(\"transferred_by\")\n",
    "    transferred_to = call_data.get(\"transferred_to\")\n",
    "    # Validate and insert/update the number\n",
    "    if call_data.get(\"number\") is not None:\n",
    "        number_id = None\n",
    "        number_id = insert_update_number(call_data.get(\"number\"))\n",
    "    else:\n",
    "        number_id = None\n",
    "\n",
    "    cost = call_data.get(\"cost\")\n",
    "    country_code_a2 = call_data.get(\"country_code_a2\")\n",
    "    pricing_type = call_data.get(\"pricing_type\")\n",
    "\n",
    "    values = (call_id, direct_link, direction, status, missed_call_reason, started_at_datetime, answered_at_datetime,\n",
    "        ended_at_datetime, duration, voicemail, asset, raw_digits, user_id, archived, assigned_to, transferred_by,\n",
    "        transferred_to, number_id, cost, country_code_a2, pricing_type)\n",
    "    \n",
    "    script_insert_or_update_calls = \"\"\"\n",
    "    INSERT INTO aircalls_calls_dag (id, direct_link, direction, status, missed_call_reason, started_at, answered_at, ended_at, duration, voicemail, asset, raw_digits, user_id, archived, assigned_to, transferred_by, transferred_to, number_id, cost, country_code_a2, pricing_type) \n",
    "    VALUES (%s, %s,%s, %s,%s, %s,%s, %s,%s, %s,%s, %s,%s, %s,%s, %s,%s, %s,%s, %s,%s) ON DUPLICATE KEY UPDATE \n",
    "                direct_link = VALUES(direct_link),\n",
    "                direction = VALUES(direction),\n",
    "                status = VALUES(status),\n",
    "                missed_call_reason = VALUES(missed_call_reason),\n",
    "                started_at = VALUES(started_at),\n",
    "                answered_at = VALUES(answered_at),\n",
    "                ended_at = VALUES(ended_at),\n",
    "                duration = VALUES(duration),\n",
    "                voicemail = VALUES(voicemail),\n",
    "                asset = VALUES(asset),\n",
    "                raw_digits = VALUES(raw_digits),\n",
    "                user_id = VALUES(user_id),\n",
    "                archived = VALUES(archived),\n",
    "                assigned_to = VALUES(assigned_to),\n",
    "                transferred_by = VALUES(transferred_by),\n",
    "                transferred_to = VALUES(transferred_to),\n",
    "                number_id = VALUES(number_id),\n",
    "                cost = VALUES(cost),\n",
    "                country_code_a2 = VALUES(country_code_a2),\n",
    "                pricing_type = VALUES(pricing_type);\n",
    "                \"\"\"                              \n",
    "    try:\n",
    "        cursor = connection.cursor()\n",
    "        cursor.execute(script_insert_or_update_calls, values)\n",
    "        connection.commit()\n",
    "        print(f\"Call insert/update successful: {started_at_datetime}\")\n",
    "        #print(f\"Call Values: {values}\")\n",
    "        \n",
    "    except mysql.connector.Error as error:\n",
    "        connection.rollback()\n",
    "        print(\"Error: {}. not updated!\".format(error))\n",
    "    # We need to close the cursor and the connection, and this needs to be done regardless of what happened above."
   ],
   "metadata": {
    "collapsed": false,
    "ExecuteTime": {
     "end_time": "2024-05-06T18:35:06.635575Z",
     "start_time": "2024-05-06T18:35:06.615574Z"
    }
   },
   "id": "862f8c36375d4e2c",
   "execution_count": 24
  },
  {
   "cell_type": "code",
   "outputs": [],
   "source": [
    "def get_primary_contact(contacts):\n",
    "    print(\"Extracting primary contact from:\", contacts)\n",
    "    for contact in contacts:\n",
    "        if contact.get(\"primary\", False):\n",
    "            primary_contact = contact.get(\"value\")\n",
    "            #print(f\"Primary contact found: {primary_contact}\")\n",
    "            return primary_contact\n",
    "    print(\"No primary contact found.\")\n",
    "    return None"
   ],
   "metadata": {
    "collapsed": false,
    "ExecuteTime": {
     "end_time": "2024-05-06T18:35:06.651717Z",
     "start_time": "2024-05-06T18:35:06.639590Z"
    }
   },
   "id": "1d81d2b965a533a3",
   "execution_count": 25
  },
  {
   "cell_type": "code",
   "outputs": [],
   "source": [
    "def format_phone_number(phone_number):\n",
    "    print(f\"Formatting phone number: {phone_number}\")\n",
    "    if not phone_number:\n",
    "        print(\"No phone number provided.\")\n",
    "        return None  # Or an empty string or any default value you prefer\n",
    "\n",
    "    cleaned_number = re.sub(r\"(?!^\\+)\\D\", \"\", phone_number)\n",
    "    #print(f\"Cleaned number: {cleaned_number}\")\n",
    "\n",
    "    if cleaned_number.startswith(\"+\"):\n",
    "        return cleaned_number\n",
    "    elif cleaned_number.startswith(\"800\"):\n",
    "        return cleaned_number\n",
    "    elif cleaned_number.startswith(\"39\"):\n",
    "        return \"+\" + cleaned_number\n",
    "    elif not cleaned_number.startswith(\"39\") and len(cleaned_number) <= 10:\n",
    "        return \"+39\" + cleaned_number\n",
    "    else:\n",
    "        return \"+\" + cleaned_number"
   ],
   "metadata": {
    "collapsed": false,
    "ExecuteTime": {
     "end_time": "2024-05-06T18:35:06.667147Z",
     "start_time": "2024-05-06T18:35:06.653726Z"
    }
   },
   "id": "c6ed5c48fd50cbd9",
   "execution_count": 26
  },
  {
   "cell_type": "code",
   "outputs": [],
   "source": [
    "def parse_date_time(data, field_name):\n",
    "    raw_date_time = data.get(field_name)\n",
    "    print(f\"Parsing date/time for {field_name}: {raw_date_time}\")\n",
    "    if raw_date_time:\n",
    "        try:\n",
    "            parsed_date_time = datetime.strptime(raw_date_time, \"%Y-%m-%d %H:%M:%S\")\n",
    "            #print(f\"Parsed date/time: {parsed_date_time}\")\n",
    "            return parsed_date_time\n",
    "        except ValueError as e:\n",
    "            print(f\"Error parsing date/time for {field_name}: {e}\")\n",
    "    return None"
   ],
   "metadata": {
    "collapsed": false,
    "ExecuteTime": {
     "end_time": "2024-05-06T18:35:06.684282Z",
     "start_time": "2024-05-06T18:35:06.674159Z"
    }
   },
   "id": "2723a79228c2d4dd",
   "execution_count": 27
  },
  {
   "cell_type": "code",
   "outputs": [],
   "source": [
    "def parse_date(data, field_name):\n",
    "    raw_date = data.get(field_name)\n",
    "    print(f\"Attempting to parse date for '{field_name}': {raw_date}\")\n",
    "    if raw_date:\n",
    "        try:\n",
    "            parsed_date = datetime.strptime(raw_date, \"%Y-%m-%d\").date()\n",
    "            #print(f\"Parsed date for '{field_name}': {parsed_date}\")\n",
    "            return parsed_date\n",
    "        except ValueError as e:\n",
    "            print(f\"Error parsing date for '{field_name}': {raw_date}, Error: {e}\")\n",
    "    else:\n",
    "        print(f\"No date found for '{field_name}'.\")\n",
    "    return None"
   ],
   "metadata": {
    "collapsed": false,
    "ExecuteTime": {
     "end_time": "2024-05-06T18:35:06.743509Z",
     "start_time": "2024-05-06T18:35:06.735296Z"
    }
   },
   "id": "11e7265dd3ed6b53",
   "execution_count": 28
  },
  {
   "cell_type": "code",
   "outputs": [],
   "source": [
    "def parse_double(data, field_name):\n",
    "    value = data.get(field_name)\n",
    "    print(f\"Attempting to parse double for '{field_name}': {value}\")\n",
    "    try:\n",
    "        if value is None:\n",
    "            print(f\"No value provided for '{field_name}', returning None.\")\n",
    "            return None\n",
    "        parsed_double = float(value)\n",
    "        #print(f\"Parsed double for '{field_name}': {parsed_double}\")\n",
    "        return parsed_double\n",
    "    except (TypeError, ValueError) as e:\n",
    "        print(f\"Error parsing double for '{field_name}': {value}, Error: {e}\")\n",
    "        return None"
   ],
   "metadata": {
    "collapsed": false,
    "ExecuteTime": {
     "end_time": "2024-05-06T18:35:06.792802Z",
     "start_time": "2024-05-06T18:35:06.788028Z"
    }
   },
   "id": "284892096311a48b",
   "execution_count": 29
  },
  {
   "cell_type": "code",
   "outputs": [],
   "source": [
    "def datetime_to_unix_timestamp(date):\n",
    "    return int(time.mktime(date.timetuple()))"
   ],
   "metadata": {
    "collapsed": false,
    "ExecuteTime": {
     "end_time": "2024-05-06T18:35:06.874572Z",
     "start_time": "2024-05-06T18:35:06.869809Z"
    }
   },
   "id": "5e924ec8ee4c1b1f",
   "execution_count": 30
  },
  {
   "cell_type": "code",
   "outputs": [],
   "source": [
    "def make_api_call_v2(url, user, passw):\n",
    "    max_retries = 3\n",
    "    retry_delay = 2  # seconds\n",
    "    headers = {\n",
    "        \"Authorization\": \"Basic \" + base64.b64encode(f\"{user}:{passw}\".encode()).decode()\n",
    "    }\n",
    "\n",
    "    for attempt in range(max_retries):\n",
    "        try:\n",
    "            response = requests.get(url, headers=headers)\n",
    "            response.raise_for_status()\n",
    "            return response.json()\n",
    "        except requests.RequestException as e:\n",
    "            print(f\"API call failed, attempt {attempt + 1}. Retrying in {retry_delay} seconds.\")\n",
    "            if attempt + 1 == max_retries:\n",
    "                raise\n",
    "            time.sleep(retry_delay)"
   ],
   "metadata": {
    "collapsed": false,
    "ExecuteTime": {
     "end_time": "2024-05-06T18:35:06.891403Z",
     "start_time": "2024-05-06T18:35:06.877584Z"
    }
   },
   "id": "74393891b4fea960",
   "execution_count": 31
  },
  {
   "cell_type": "code",
   "outputs": [],
   "source": [
    "def process_response_and_insert_calls(response):\n",
    "    # Assuming `response` is a JSON object similar to what's returned from an API call\n",
    "    calls = response.get('calls', [])\n",
    "    total_processed = 0\n",
    "\n",
    "    # Initialize MySqlHook\n",
    "    \n",
    "#mysql_hook = MySqlHook(mysql_conn_id=mysql_conn_id)\n",
    "\n",
    "    for call in calls:\n",
    "        # Here, you would have the logic to insert or update the call data\n",
    "        # For simplicity, we assume a function `insert_or_update_call_data` exists\n",
    "        insert_update_call(call)\n",
    "        total_processed += 1\n",
    "\n",
    "    #print(f\"Processed {total_processed} records\")\n",
    "\n",
    "    # Fetching the next page link from the response for pagination\n",
    "    meta = response.get('meta', {})\n",
    "    next_page_link = meta.get('next_page_link', None)\n",
    "    print(f\"Page processed, next page link: {next_page_link}\")\n",
    "    print(f\"Current page: {meta.get('current_page')}\")\n",
    "\n",
    "    return next_page_link, bool(next_page_link)\n"
   ],
   "metadata": {
    "collapsed": false,
    "ExecuteTime": {
     "end_time": "2024-05-06T18:35:06.909654Z",
     "start_time": "2024-05-06T18:35:06.894414Z"
    }
   },
   "id": "921e3cdf4491361b",
   "execution_count": 32
  },
  {
   "cell_type": "code",
   "outputs": [],
   "source": [
    "# First DAG - Original\n",
    "def fetch_all_calls():\n",
    "    connection = mysql.connector.connect(\n",
    "            user = 'pipedrive',\n",
    "            password = '#8LsH25%ZD',\n",
    "            host = 'scraper.cx53soegx3qk.eu-west-1.rds.amazonaws.com',\n",
    "            database= 'pipedrive')\n",
    "    start_date_str = \"2024-04-02\"\n",
    "    end_date_str = \"2024-05-04\"\n",
    "    start_date = datetime.strptime(start_date_str, \"%Y-%m-%d\")\n",
    "    end_date = datetime.strptime(end_date_str, \"%Y-%m-%d\")\n",
    "    print(f\"Start date: {start_date}, End date: {end_date}\")\n",
    "    current_date = start_date\n",
    "    while current_date <= end_date:\n",
    "        print(\"Processing date:\", current_date)\n",
    "        start_of_day = datetime(current_date.year, current_date.month, current_date.day)\n",
    "        end_of_day = start_of_day + timedelta(days=1, seconds=-1)\n",
    "        end_timestamp = datetime_to_unix_timestamp(end_of_day)\n",
    "        start_timestamp = datetime_to_unix_timestamp(start_of_day)\n",
    "\n",
    "        # Constructing the API call with date filters for the current day\n",
    "        api_url = f\"{api_aircalls_url}&from={start_timestamp}&to={end_timestamp}\"\n",
    "        print(\"API URL:\", api_url)\n",
    "        has_more_data = True\n",
    "        try:\n",
    "            while has_more_data:\n",
    "                    response = make_api_call_v2(api_url, api_user, api_pass)\n",
    "                    calls = response.get(\"calls\", [])\n",
    "                    meta = response.get(\"meta\", {})\n",
    "                    print(f\"API meta repsonse: {meta}\")\n",
    "                    print(f'API calls to process: {len(calls)}')\n",
    "                    # Process the response, insert data into the database, etc.\n",
    "                    next_page_link, has_more_data = process_response_and_insert_calls(response)\n",
    "            if next_page_link:\n",
    "                    api_url = next_page_link\n",
    "            else:\n",
    "                    has_more_data = False\n",
    "    \n",
    "        except Exception as e:\n",
    "            print(f\"Failed to make API call: {e}\")\n",
    "        finally:\n",
    "            if connection.is_connected():\n",
    "                connection.close()\n",
    "                print(\"MySQL connection is closed.\")\n",
    "        current_date += timedelta(days=1)"
   ],
   "metadata": {
    "collapsed": false,
    "ExecuteTime": {
     "end_time": "2024-05-06T18:35:06.927089Z",
     "start_time": "2024-05-06T18:35:06.912675Z"
    }
   },
   "id": "6507145edd2e84c1",
   "execution_count": 33
  },
  {
   "cell_type": "code",
   "outputs": [
    {
     "name": "stdout",
     "output_type": "stream",
     "text": [
      "Start date: 2024-04-02 00:00:00, End date: 2024-05-04 00:00:00\n",
      "Processing date: 2024-04-02 00:00:00\n",
      "API URL: https://api.aircall.io/v1/calls?order=desc&per_page=50&from=1712012400&to=1712098799\n",
      "API meta repsonse: {'count': 50, 'total': 5314, 'current_page': 1, 'per_page': 50, 'next_page_link': 'https://api.aircall.io/v1/calls?from=1712012400&order=desc&page=2&per_page=50&to=1712098799', 'previous_page_link': None}\n",
      "API calls to process: 50\n",
      "Call insert/update successful: 2024-04-02 23:31:36\n",
      "Call insert/update successful: 2024-04-02 20:40:31\n",
      "Call insert/update successful: 2024-04-02 20:38:00\n",
      "Call insert/update successful: 2024-04-02 19:58:13\n",
      "Call insert/update successful: 2024-04-02 19:29:18\n",
      "Call insert/update successful: 2024-04-02 19:02:49\n",
      "Call insert/update successful: 2024-04-02 18:48:36\n",
      "Call insert/update successful: 2024-04-02 18:47:43\n",
      "Call insert/update successful: 2024-04-02 18:47:20\n",
      "Call insert/update successful: 2024-04-02 18:46:55\n",
      "Call insert/update successful: 2024-04-02 18:46:19\n",
      "Call insert/update successful: 2024-04-02 18:45:43\n",
      "Call insert/update successful: 2024-04-02 18:45:24\n",
      "Call insert/update successful: 2024-04-02 18:44:55\n",
      "Call insert/update successful: 2024-04-02 18:43:32\n",
      "Call insert/update successful: 2024-04-02 18:43:29\n",
      "Call insert/update successful: 2024-04-02 18:43:26\n",
      "Call insert/update successful: 2024-04-02 18:43:20\n",
      "Call insert/update successful: 2024-04-02 18:43:02\n",
      "Call insert/update successful: 2024-04-02 18:40:47\n",
      "Error: 1205 (HY000): Lock wait timeout exceeded; try restarting transaction. not updated!\n",
      "Call insert/update successful: 2024-04-02 18:35:44\n",
      "Call insert/update successful: 2024-04-02 18:35:12\n",
      "Call insert/update successful: 2024-04-02 18:34:54\n",
      "Call insert/update successful: 2024-04-02 18:34:34\n",
      "Call insert/update successful: 2024-04-02 18:34:19\n",
      "Call insert/update successful: 2024-04-02 18:34:02\n",
      "Call insert/update successful: 2024-04-02 18:33:47\n",
      "Call insert/update successful: 2024-04-02 18:33:41\n",
      "Call insert/update successful: 2024-04-02 18:33:33\n",
      "Call insert/update successful: 2024-04-02 18:33:20\n",
      "Call insert/update successful: 2024-04-02 18:32:59\n",
      "Call insert/update successful: 2024-04-02 18:32:06\n",
      "Call insert/update successful: 2024-04-02 18:27:28\n",
      "Call insert/update successful: 2024-04-02 18:27:14\n",
      "Call insert/update successful: 2024-04-02 18:26:54\n",
      "Call insert/update successful: 2024-04-02 18:26:38\n",
      "Call insert/update successful: 2024-04-02 18:26:23\n",
      "Call insert/update successful: 2024-04-02 18:26:09\n",
      "Call insert/update successful: 2024-04-02 18:25:55\n",
      "Call insert/update successful: 2024-04-02 18:25:24\n",
      "Call insert/update successful: 2024-04-02 18:25:14\n",
      "Call insert/update successful: 2024-04-02 18:25:09\n",
      "Call insert/update successful: 2024-04-02 18:24:20\n",
      "Call insert/update successful: 2024-04-02 18:24:02\n",
      "Call insert/update successful: 2024-04-02 18:23:45\n",
      "Call insert/update successful: 2024-04-02 18:23:21\n",
      "Call insert/update successful: 2024-04-02 18:21:11\n",
      "Call insert/update successful: 2024-04-02 18:20:06\n",
      "Call insert/update successful: 2024-04-02 18:18:33\n",
      "Page processed, next page link: https://api.aircall.io/v1/calls?from=1712012400&order=desc&page=2&per_page=50&to=1712098799\n",
      "Current page: 1\n",
      "API meta repsonse: {'count': 50, 'total': 5314, 'current_page': 1, 'per_page': 50, 'next_page_link': 'https://api.aircall.io/v1/calls?from=1712012400&order=desc&page=2&per_page=50&to=1712098799', 'previous_page_link': None}\n",
      "API calls to process: 50\n",
      "Call insert/update successful: 2024-04-02 23:31:36\n",
      "Call insert/update successful: 2024-04-02 20:40:31\n",
      "Call insert/update successful: 2024-04-02 20:38:00\n",
      "Call insert/update successful: 2024-04-02 19:58:13\n",
      "Call insert/update successful: 2024-04-02 19:29:18\n",
      "Call insert/update successful: 2024-04-02 19:02:49\n",
      "Call insert/update successful: 2024-04-02 18:48:36\n",
      "Call insert/update successful: 2024-04-02 18:47:43\n",
      "Call insert/update successful: 2024-04-02 18:47:20\n",
      "Call insert/update successful: 2024-04-02 18:46:55\n",
      "Call insert/update successful: 2024-04-02 18:46:19\n",
      "Call insert/update successful: 2024-04-02 18:45:43\n",
      "Call insert/update successful: 2024-04-02 18:45:24\n",
      "Call insert/update successful: 2024-04-02 18:44:55\n",
      "Call insert/update successful: 2024-04-02 18:43:32\n",
      "Call insert/update successful: 2024-04-02 18:43:29\n",
      "Call insert/update successful: 2024-04-02 18:43:26\n",
      "Call insert/update successful: 2024-04-02 18:43:20\n",
      "Call insert/update successful: 2024-04-02 18:43:02\n",
      "Call insert/update successful: 2024-04-02 18:40:47\n",
      "Error: 1205 (HY000): Lock wait timeout exceeded; try restarting transaction. not updated!\n",
      "Call insert/update successful: 2024-04-02 18:35:44\n",
      "Call insert/update successful: 2024-04-02 18:35:12\n",
      "Call insert/update successful: 2024-04-02 18:34:54\n",
      "Call insert/update successful: 2024-04-02 18:34:34\n",
      "Call insert/update successful: 2024-04-02 18:34:19\n",
      "Call insert/update successful: 2024-04-02 18:34:02\n",
      "Call insert/update successful: 2024-04-02 18:33:47\n",
      "Call insert/update successful: 2024-04-02 18:33:41\n",
      "Call insert/update successful: 2024-04-02 18:33:33\n",
      "Call insert/update successful: 2024-04-02 18:33:20\n",
      "Call insert/update successful: 2024-04-02 18:32:59\n",
      "Call insert/update successful: 2024-04-02 18:32:06\n",
      "Call insert/update successful: 2024-04-02 18:27:28\n",
      "Call insert/update successful: 2024-04-02 18:27:14\n",
      "Call insert/update successful: 2024-04-02 18:26:54\n",
      "Call insert/update successful: 2024-04-02 18:26:38\n",
      "Call insert/update successful: 2024-04-02 18:26:23\n",
      "Call insert/update successful: 2024-04-02 18:26:09\n",
      "MySQL connection is closed.\n"
     ]
    },
    {
     "ename": "KeyboardInterrupt",
     "evalue": "",
     "output_type": "error",
     "traceback": [
      "\u001B[1;31m---------------------------------------------------------------------------\u001B[0m",
      "\u001B[1;31mKeyboardInterrupt\u001B[0m                         Traceback (most recent call last)",
      "Cell \u001B[1;32mIn[34], line 1\u001B[0m\n\u001B[1;32m----> 1\u001B[0m fetch_all_calls()\n",
      "Cell \u001B[1;32mIn[33], line 33\u001B[0m, in \u001B[0;36mfetch_all_calls\u001B[1;34m()\u001B[0m\n\u001B[0;32m     31\u001B[0m         \u001B[38;5;28mprint\u001B[39m(\u001B[38;5;124mf\u001B[39m\u001B[38;5;124m'\u001B[39m\u001B[38;5;124mAPI calls to process: \u001B[39m\u001B[38;5;132;01m{\u001B[39;00m\u001B[38;5;28mlen\u001B[39m(calls)\u001B[38;5;132;01m}\u001B[39;00m\u001B[38;5;124m'\u001B[39m)\n\u001B[0;32m     32\u001B[0m         \u001B[38;5;66;03m# Process the response, insert data into the database, etc.\u001B[39;00m\n\u001B[1;32m---> 33\u001B[0m         next_page_link, has_more_data \u001B[38;5;241m=\u001B[39m process_response_and_insert_calls(response)\n\u001B[0;32m     34\u001B[0m \u001B[38;5;28;01mif\u001B[39;00m next_page_link:\n\u001B[0;32m     35\u001B[0m         api_url \u001B[38;5;241m=\u001B[39m next_page_link\n",
      "Cell \u001B[1;32mIn[32], line 13\u001B[0m, in \u001B[0;36mprocess_response_and_insert_calls\u001B[1;34m(response)\u001B[0m\n\u001B[0;32m      6\u001B[0m     \u001B[38;5;66;03m# Initialize MySqlHook\u001B[39;00m\n\u001B[0;32m      7\u001B[0m     \n\u001B[0;32m      8\u001B[0m \u001B[38;5;66;03m#mysql_hook = MySqlHook(mysql_conn_id=mysql_conn_id)\u001B[39;00m\n\u001B[0;32m     10\u001B[0m     \u001B[38;5;28;01mfor\u001B[39;00m call \u001B[38;5;129;01min\u001B[39;00m calls:\n\u001B[0;32m     11\u001B[0m         \u001B[38;5;66;03m# Here, you would have the logic to insert or update the call data\u001B[39;00m\n\u001B[0;32m     12\u001B[0m         \u001B[38;5;66;03m# For simplicity, we assume a function `insert_or_update_call_data` exists\u001B[39;00m\n\u001B[1;32m---> 13\u001B[0m         insert_update_call(call)\n\u001B[0;32m     14\u001B[0m         total_processed \u001B[38;5;241m+\u001B[39m\u001B[38;5;241m=\u001B[39m \u001B[38;5;241m1\u001B[39m\n\u001B[0;32m     16\u001B[0m     \u001B[38;5;66;03m#print(f\"Processed {total_processed} records\")\u001B[39;00m\n\u001B[0;32m     17\u001B[0m \n\u001B[0;32m     18\u001B[0m     \u001B[38;5;66;03m# Fetching the next page link from the response for pagination\u001B[39;00m\n",
      "Cell \u001B[1;32mIn[24], line 33\u001B[0m, in \u001B[0;36minsert_update_call\u001B[1;34m(call_data)\u001B[0m\n\u001B[0;32m     31\u001B[0m \u001B[38;5;28;01mif\u001B[39;00m call_data\u001B[38;5;241m.\u001B[39mget(\u001B[38;5;124m\"\u001B[39m\u001B[38;5;124muser\u001B[39m\u001B[38;5;124m\"\u001B[39m) \u001B[38;5;129;01mis\u001B[39;00m \u001B[38;5;129;01mnot\u001B[39;00m \u001B[38;5;28;01mNone\u001B[39;00m:\n\u001B[0;32m     32\u001B[0m     user_id \u001B[38;5;241m=\u001B[39m \u001B[38;5;28;01mNone\u001B[39;00m\n\u001B[1;32m---> 33\u001B[0m     user_id \u001B[38;5;241m=\u001B[39m insert_update_user(call_data\u001B[38;5;241m.\u001B[39mget(\u001B[38;5;124m\"\u001B[39m\u001B[38;5;124muser\u001B[39m\u001B[38;5;124m\"\u001B[39m))\n\u001B[0;32m     34\u001B[0m \u001B[38;5;28;01melse\u001B[39;00m:\n\u001B[0;32m     35\u001B[0m     user_id \u001B[38;5;241m=\u001B[39m \u001B[38;5;28;01mNone\u001B[39;00m\n",
      "Cell \u001B[1;32mIn[23], line 2\u001B[0m, in \u001B[0;36minsert_update_user\u001B[1;34m(user_data)\u001B[0m\n\u001B[0;32m      1\u001B[0m \u001B[38;5;28;01mdef\u001B[39;00m \u001B[38;5;21minsert_update_user\u001B[39m(user_data):\n\u001B[1;32m----> 2\u001B[0m     connection \u001B[38;5;241m=\u001B[39m mysql\u001B[38;5;241m.\u001B[39mconnector\u001B[38;5;241m.\u001B[39mconnect(\n\u001B[0;32m      3\u001B[0m             user \u001B[38;5;241m=\u001B[39m \u001B[38;5;124m'\u001B[39m\u001B[38;5;124mpipedrive\u001B[39m\u001B[38;5;124m'\u001B[39m,\n\u001B[0;32m      4\u001B[0m             password \u001B[38;5;241m=\u001B[39m \u001B[38;5;124m'\u001B[39m\u001B[38;5;124m#8LsH25\u001B[39m\u001B[38;5;124m%\u001B[39m\u001B[38;5;124mZD\u001B[39m\u001B[38;5;124m'\u001B[39m,\n\u001B[0;32m      5\u001B[0m             host \u001B[38;5;241m=\u001B[39m \u001B[38;5;124m'\u001B[39m\u001B[38;5;124mscraper.cx53soegx3qk.eu-west-1.rds.amazonaws.com\u001B[39m\u001B[38;5;124m'\u001B[39m,\n\u001B[0;32m      6\u001B[0m             database\u001B[38;5;241m=\u001B[39m \u001B[38;5;124m'\u001B[39m\u001B[38;5;124mpipedrive\u001B[39m\u001B[38;5;124m'\u001B[39m)\n\u001B[0;32m      7\u001B[0m     \u001B[38;5;66;03m#print(\"Inserting/Updating user:\", user_data)\u001B[39;00m\n\u001B[0;32m      8\u001B[0m     \u001B[38;5;66;03m# Extract data from the user_data dictionary\u001B[39;00m\n\u001B[0;32m      9\u001B[0m     user_id \u001B[38;5;241m=\u001B[39m user_data\u001B[38;5;241m.\u001B[39mget(\u001B[38;5;124m\"\u001B[39m\u001B[38;5;124mid\u001B[39m\u001B[38;5;124m\"\u001B[39m)\n",
      "File \u001B[1;32m~\\anaconda3\\Lib\\site-packages\\mysql\\connector\\pooling.py:322\u001B[0m, in \u001B[0;36mconnect\u001B[1;34m(*args, **kwargs)\u001B[0m\n\u001B[0;32m    319\u001B[0m         \u001B[38;5;28;01mraise\u001B[39;00m \u001B[38;5;167;01mImportError\u001B[39;00m(ERROR_NO_CEXT)\n\u001B[0;32m    321\u001B[0m \u001B[38;5;28;01mif\u001B[39;00m CMySQLConnection \u001B[38;5;129;01mand\u001B[39;00m \u001B[38;5;129;01mnot\u001B[39;00m use_pure:\n\u001B[1;32m--> 322\u001B[0m     \u001B[38;5;28;01mreturn\u001B[39;00m CMySQLConnection(\u001B[38;5;241m*\u001B[39margs, \u001B[38;5;241m*\u001B[39m\u001B[38;5;241m*\u001B[39mkwargs)\n\u001B[0;32m    323\u001B[0m \u001B[38;5;28;01mreturn\u001B[39;00m MySQLConnection(\u001B[38;5;241m*\u001B[39margs, \u001B[38;5;241m*\u001B[39m\u001B[38;5;241m*\u001B[39mkwargs)\n",
      "File \u001B[1;32m~\\anaconda3\\Lib\\site-packages\\mysql\\connector\\connection_cext.py:140\u001B[0m, in \u001B[0;36mCMySQLConnection.__init__\u001B[1;34m(self, **kwargs)\u001B[0m\n\u001B[0;32m    138\u001B[0m \u001B[38;5;28;01mif\u001B[39;00m kwargs:\n\u001B[0;32m    139\u001B[0m     \u001B[38;5;28;01mtry\u001B[39;00m:\n\u001B[1;32m--> 140\u001B[0m         \u001B[38;5;28mself\u001B[39m\u001B[38;5;241m.\u001B[39mconnect(\u001B[38;5;241m*\u001B[39m\u001B[38;5;241m*\u001B[39mkwargs)\n\u001B[0;32m    141\u001B[0m     \u001B[38;5;28;01mexcept\u001B[39;00m \u001B[38;5;167;01mException\u001B[39;00m:\n\u001B[0;32m    142\u001B[0m         \u001B[38;5;28mself\u001B[39m\u001B[38;5;241m.\u001B[39mclose()\n",
      "File \u001B[1;32m~\\anaconda3\\Lib\\site-packages\\mysql\\connector\\abstracts.py:1363\u001B[0m, in \u001B[0;36mMySQLConnectionAbstract.connect\u001B[1;34m(self, **kwargs)\u001B[0m\n\u001B[0;32m   1360\u001B[0m     \u001B[38;5;28mself\u001B[39m\u001B[38;5;241m.\u001B[39mconfig(\u001B[38;5;241m*\u001B[39m\u001B[38;5;241m*\u001B[39mkwargs)\n\u001B[0;32m   1362\u001B[0m \u001B[38;5;28mself\u001B[39m\u001B[38;5;241m.\u001B[39mdisconnect()\n\u001B[1;32m-> 1363\u001B[0m \u001B[38;5;28mself\u001B[39m\u001B[38;5;241m.\u001B[39m_open_connection()\n\u001B[0;32m   1365\u001B[0m charset, collation \u001B[38;5;241m=\u001B[39m (\n\u001B[0;32m   1366\u001B[0m     kwargs\u001B[38;5;241m.\u001B[39mpop(\u001B[38;5;124m\"\u001B[39m\u001B[38;5;124mcharset\u001B[39m\u001B[38;5;124m\"\u001B[39m, \u001B[38;5;28;01mNone\u001B[39;00m),\n\u001B[0;32m   1367\u001B[0m     kwargs\u001B[38;5;241m.\u001B[39mpop(\u001B[38;5;124m\"\u001B[39m\u001B[38;5;124mcollation\u001B[39m\u001B[38;5;124m\"\u001B[39m, \u001B[38;5;28;01mNone\u001B[39;00m),\n\u001B[0;32m   1368\u001B[0m )\n\u001B[0;32m   1369\u001B[0m \u001B[38;5;28;01mif\u001B[39;00m charset \u001B[38;5;129;01mor\u001B[39;00m collation:\n",
      "File \u001B[1;32m~\\anaconda3\\Lib\\site-packages\\mysql\\connector\\connection_cext.py:323\u001B[0m, in \u001B[0;36mCMySQLConnection._open_connection\u001B[1;34m(self)\u001B[0m\n\u001B[0;32m    320\u001B[0m     cnx_kwargs[\u001B[38;5;124m\"\u001B[39m\u001B[38;5;124muse_kerberos_gssapi\u001B[39m\u001B[38;5;124m\"\u001B[39m] \u001B[38;5;241m=\u001B[39m \u001B[38;5;28;01mTrue\u001B[39;00m\n\u001B[0;32m    322\u001B[0m \u001B[38;5;28;01mtry\u001B[39;00m:\n\u001B[1;32m--> 323\u001B[0m     \u001B[38;5;28mself\u001B[39m\u001B[38;5;241m.\u001B[39m_cmysql\u001B[38;5;241m.\u001B[39mconnect(\u001B[38;5;241m*\u001B[39m\u001B[38;5;241m*\u001B[39mcnx_kwargs)\n\u001B[0;32m    324\u001B[0m     \u001B[38;5;28mself\u001B[39m\u001B[38;5;241m.\u001B[39m_cmysql\u001B[38;5;241m.\u001B[39mconverter_str_fallback \u001B[38;5;241m=\u001B[39m \u001B[38;5;28mself\u001B[39m\u001B[38;5;241m.\u001B[39m_converter_str_fallback\n\u001B[0;32m    325\u001B[0m     \u001B[38;5;28;01mif\u001B[39;00m \u001B[38;5;28mself\u001B[39m\u001B[38;5;241m.\u001B[39mconverter:\n",
      "\u001B[1;31mKeyboardInterrupt\u001B[0m: "
     ]
    }
   ],
   "source": [
    "fetch_all_calls()"
   ],
   "metadata": {
    "collapsed": false,
    "ExecuteTime": {
     "end_time": "2024-05-06T18:37:33.705981Z",
     "start_time": "2024-05-06T18:35:06.934105Z"
    }
   },
   "id": "98ef76c6fdf9c862",
   "execution_count": 34
  }
 ],
 "metadata": {
  "kernelspec": {
   "display_name": "Python 3",
   "language": "python",
   "name": "python3"
  },
  "language_info": {
   "codemirror_mode": {
    "name": "ipython",
    "version": 2
   },
   "file_extension": ".py",
   "mimetype": "text/x-python",
   "name": "python",
   "nbconvert_exporter": "python",
   "pygments_lexer": "ipython2",
   "version": "2.7.6"
  }
 },
 "nbformat": 4,
 "nbformat_minor": 5
}
