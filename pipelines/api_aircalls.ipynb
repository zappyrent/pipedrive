{
 "cells": [
  {
   "cell_type": "code",
   "source": [
    "# Create a DAG to run the ETL process for the leads data consuming the data from the leads REST API\n",
    "## The API connection ID is pipe_leads returns a JSON on an object with the following structure: 'data'\n",
    "\n",
    "#from airflow.providers.mysql.operators.mysql import MySqlOperator\n",
    "#from airflow.operators.dummy_operator import DummyOperator\n",
    "#from airflow.providers.mysql.hooks.mysql import MySqlHook\n",
    "from datetime import datetime, timedelta\n",
    "#from airflow.decorators import dag, task\n",
    "#from airflow.models import Variable\n",
    "from mysql.connector import Error\n",
    "from dateutil import parser\n",
    "import mysql.connector\n",
    "import calendar\n",
    "import requests\n",
    "import base64\n",
    "import json\n",
    "import time\n",
    "import re"
   ],
   "metadata": {
    "collapsed": false,
    "ExecuteTime": {
     "end_time": "2024-05-07T05:58:14.547371Z",
     "start_time": "2024-05-07T05:58:13.016828Z"
    }
   },
   "id": "14bd2d12fe430162",
   "execution_count": 1,
   "outputs": []
  },
  {
   "cell_type": "code",
   "source": [
    "# Retrieve database configuration from Airflow Variable\n",
    "#aircalls_cron_schedule = Variable.get(\"aircalls_cron_schedule\", default_var=\"*/2 * * * *\")\n",
    "api_test = 'True'\n",
    "api_limit = 500\n",
    "api_start = 0\n",
    "##api_token = Variable.get(\"pipedrive_api_token\")\n",
    "api_aircalls_url = 'https://api.aircall.io/v1/calls?order=desc&per_page=50'\n",
    "api_user = '36f1f8c50b6d4e5fdcdd5f06db496b69'\n",
    "api_pass = '0627dc5681942153e6ac0788ebd3340a'\n",
    "batch_size = 100\n",
    "mysql_conn_id = 'my_sql'"
   ],
   "metadata": {
    "collapsed": false,
    "ExecuteTime": {
     "end_time": "2024-05-07T05:58:14.568700Z",
     "start_time": "2024-05-07T05:58:14.559386Z"
    }
   },
   "id": "9a27a6244a946326",
   "execution_count": 2,
   "outputs": []
  },
  {
   "cell_type": "code",
   "source": [
    "connection = mysql.connector.connect(\n",
    "            user = 'pipedrive',\n",
    "            password = '#8LsH25%ZD',\n",
    "            host = 'scraper.cx53soegx3qk.eu-west-1.rds.amazonaws.com',\n",
    "            database= 'pipedrive')"
   ],
   "metadata": {
    "collapsed": false,
    "ExecuteTime": {
     "end_time": "2024-05-07T05:58:15.151723Z",
     "start_time": "2024-05-07T05:58:14.572711Z"
    }
   },
   "id": "30434b89eed68997",
   "execution_count": 3,
   "outputs": []
  },
  {
   "cell_type": "code",
   "source": [
    "def format_raw_digits(raw_digits):\n",
    "    if raw_digits is None:\n",
    "        return None\n",
    "    # Remove all spaces from the string\n",
    "    return raw_digits.replace(\" \", \"\")"
   ],
   "metadata": {
    "collapsed": false,
    "ExecuteTime": {
     "end_time": "2024-05-07T05:58:15.168069Z",
     "start_time": "2024-05-07T05:58:15.159739Z"
    }
   },
   "id": "e27e284be3b606a2",
   "execution_count": 4,
   "outputs": []
  },
  {
   "cell_type": "code",
   "source": [
    "def insert_update_number(number_data):\n",
    "    connection = mysql.connector.connect(\n",
    "            user = 'pipedrive',\n",
    "            password = '#8LsH25%ZD',\n",
    "            host = 'scraper.cx53soegx3qk.eu-west-1.rds.amazonaws.com',\n",
    "            database= 'pipedrive')\n",
    "    #print(\"Inserting/Updating number:\", number_data)\n",
    "    # Extract data from the number_data dictionary\n",
    "    number_id = number_data.get(\"id\")\n",
    "    direct_link = number_data.get(\"direct_link\")\n",
    "    name = number_data.get(\"name\")\n",
    "    digits = number_data.get(\"digits\")\n",
    "    country = number_data.get(\"country\")\n",
    "    time_zone = number_data.get(\"time_zone\")\n",
    "    open = number_data.get(\"open\")\n",
    "    availability_status = number_data.get(\"availability_status\")\n",
    "    is_ivr = number_data.get(\"is_ivr\")\n",
    "    live_recording_activated = number_data.get(\"live_recording_activated\")\n",
    "    priority = number_data.get(\"priority\")\n",
    "    created_at = number_data.get(\"created_at\")\n",
    "    created_at_datetime = None\n",
    "    if created_at is not None:\n",
    "        # Parse the ISO formatted datetime string to a datetime object\n",
    "        created_at_datetime = parser.parse(created_at)\n",
    "\n",
    "    values = ( number_id, direct_link, name, digits, country, time_zone, open, availability_status, is_ivr, live_recording_activated, priority, created_at_datetime)\n",
    "    \n",
    "    script_insert_or_update_users = \"\"\"\n",
    "    INSERT INTO aircalls_users_dag (id, direct_link, name, email, available, availability_status, created_at, time_zone, language, wrap_up_time) VALUES (%s, %s, %s, %s, %s, %s, %s, %s, %s, %s) ON DUPLICATE KEY UPDATE \n",
    "                direct_link = VALUES(direct_link), \n",
    "                name = VALUES(name), \n",
    "                email = VALUES(email), \n",
    "                available = VALUES(available), \n",
    "                availability_status = VALUES(availability_status), \n",
    "                created_at = VALUES(created_at), \n",
    "                time_zone = VALUES(time_zone), \n",
    "                language = VALUES(language), \n",
    "                wrap_up_time = VALUES(wrap_up_time);\n",
    "    \"\"\"\n",
    "    try:\n",
    "        cursor = connection.cursor()\n",
    "        cursor.execute(script_insert_or_update_users, values)\n",
    "        connection.commit()\n",
    "       # print(\"User insert/update successful.\")\n",
    "        #print(f\"User Values: {values}\")\n",
    "    except mysql.connector.Error as error:\n",
    "        connection.rollback()\n",
    "    # We need to close the cursor and the connection, and this needs to be done regardless of what happened above.\n",
    "    return number_id"
   ],
   "metadata": {
    "collapsed": false,
    "ExecuteTime": {
     "end_time": "2024-05-07T05:58:15.189001Z",
     "start_time": "2024-05-07T05:58:15.174085Z"
    }
   },
   "id": "898a7dcffadc2fd5",
   "execution_count": 5,
   "outputs": []
  },
  {
   "cell_type": "code",
   "source": [
    "def insert_update_user(user_data):\n",
    "    connection = mysql.connector.connect(\n",
    "            user = 'pipedrive',\n",
    "            password = '#8LsH25%ZD',\n",
    "            host = 'scraper.cx53soegx3qk.eu-west-1.rds.amazonaws.com',\n",
    "            database= 'pipedrive')\n",
    "    #print(\"Inserting/Updating user:\", user_data)\n",
    "    # Extract data from the user_data dictionary\n",
    "    user_id = user_data.get(\"id\")\n",
    "    direct_link = user_data.get(\"direct_link\")\n",
    "    name = user_data.get(\"name\")\n",
    "    email = user_data.get(\"email\")\n",
    "    available = user_data.get(\"available\")\n",
    "    availability_status = user_data.get(\"availability_status\")\n",
    "    created_at = user_data.get(\"created_at\")\n",
    "    created_at_datetime = None\n",
    "    if created_at is not None:\n",
    "        # Parse the ISO formatted datetime string to a datetime object\n",
    "        created_at_datetime = parser.parse(created_at)\n",
    "    time_zone = user_data.get(\"time_zone\")\n",
    "    language = user_data.get(\"language\")\n",
    "    wrap_up_time = user_data.get(\"wrap_up_time\")\n",
    "\n",
    "    values = (user_id, direct_link, name, email, available, availability_status, created_at_datetime, time_zone, language, wrap_up_time)\n",
    "    \n",
    "    script_insert_or_update_users = \"\"\"\n",
    "    INSERT INTO aircalls_users_dag (id, direct_link, name, email, available, availability_status, created_at, time_zone, language, wrap_up_time) VALUES (%s, %s, %s, %s, %s, %s, %s, %s, %s, %s) ON DUPLICATE KEY UPDATE \n",
    "    direct_link = VALUES(direct_link), \n",
    "    name = VALUES(name), \n",
    "    email = VALUES(email), \n",
    "    available = VALUES(available), \n",
    "    availability_status = VALUES(availability_status), \n",
    "    created_at = VALUES(created_at), \n",
    "    time_zone = VALUES(time_zone), \n",
    "    language = VALUES(language), \n",
    "    wrap_up_time = VALUES(wrap_up_time);\n",
    "    \"\"\"\n",
    "    try:\n",
    "        cursor = connection.cursor()\n",
    "        cursor.execute(script_insert_or_update_users, values)\n",
    "        connection.commit()\n",
    "        #print(\"User insert/update successful.\")\n",
    "        #print(f\"User Values: {values}\")\n",
    "    except mysql.connector.Error as error:\n",
    "        connection.rollback()\n",
    "        print(\"Error: {}\")\n",
    "    # We need to close the cursor and the connection, and this needs to be done regardless of what happened above.\n",
    "    return user_id"
   ],
   "metadata": {
    "collapsed": false,
    "ExecuteTime": {
     "end_time": "2024-05-06T18:35:06.612562Z",
     "start_time": "2024-05-06T18:35:06.600699Z"
    }
   },
   "id": "9351d5d43df6d346",
   "execution_count": 23,
   "outputs": []
  },
  {
   "cell_type": "code",
   "source": [
    "def insert_update_call(call_data):\n",
    "    \n",
    "    \n",
    "    #print(\"Inserting/Updating call:\", call_data)\n",
    "    # Extract data from the call_data dictionary\n",
    "    call_id = call_data.get(\"id\")\n",
    "    direct_link = call_data.get(\"direct_link\")\n",
    "    direction = call_data.get(\"direction\")\n",
    "    status = call_data.get(\"status\")\n",
    "    missed_call_reason = call_data.get(\"missed_call_reason\")\n",
    "    started_at = call_data.get(\"started_at\")\n",
    "    started_at_datetime = None\n",
    "    if started_at is not None:\n",
    "        # Parse the ISO formatted datetime string to a datetime object\n",
    "        started_at_datetime = datetime.fromtimestamp(started_at)\n",
    "    answered_at = call_data.get(\"answered_at\")\n",
    "    answered_at_datetime = None\n",
    "    if answered_at is not None:\n",
    "        # Parse the ISO formatted datetime string to a datetime object\n",
    "        answered_at_datetime = datetime.fromtimestamp(answered_at)\n",
    "    ended_at = call_data.get(\"ended_at\")\n",
    "    ended_at_datetime = None\n",
    "    if ended_at is not None:\n",
    "        # Parse the ISO formatted datetime string to a datetime object\n",
    "        ended_at_datetime = datetime.fromtimestamp(ended_at)\n",
    "    duration = call_data.get(\"duration\")\n",
    "    voicemail = call_data.get(\"voicemail\")\n",
    "    asset = call_data.get(\"asset\")\n",
    "    raw_digits = format_raw_digits(call_data.get(\"raw_digits\"))\n",
    "    # Validate and insert/update the user\n",
    "    if call_data.get(\"user\") is not None:\n",
    "        user_id = None\n",
    "        user_id = insert_update_user(call_data.get(\"user\"))\n",
    "    else:\n",
    "        user_id = None\n",
    "    archived = call_data.get(\"archived\")\n",
    "    assigned_to = call_data.get(\"assigned_to\")\n",
    "    transferred_by = call_data.get(\"transferred_by\")\n",
    "    transferred_to = call_data.get(\"transferred_to\")\n",
    "    # Validate and insert/update the number\n",
    "    if call_data.get(\"number\") is not None:\n",
    "        number_id = None\n",
    "        number_id = insert_update_number(call_data.get(\"number\"))\n",
    "    else:\n",
    "        number_id = None\n",
    "\n",
    "    cost = call_data.get(\"cost\")\n",
    "    country_code_a2 = call_data.get(\"country_code_a2\")\n",
    "    pricing_type = call_data.get(\"pricing_type\")\n",
    "\n",
    "    values = (call_id, direct_link, direction, status, missed_call_reason, started_at_datetime, answered_at_datetime,\n",
    "        ended_at_datetime, duration, voicemail, asset, raw_digits, user_id, archived, assigned_to, transferred_by,\n",
    "        transferred_to, number_id, cost, country_code_a2, pricing_type)\n",
    "    \n",
    "    script_insert_or_update_calls = \"\"\"\n",
    "    INSERT INTO aircalls_calls_dag (id, direct_link, direction, status, missed_call_reason, started_at, answered_at, ended_at, duration, voicemail, asset, raw_digits, user_id, archived, assigned_to, transferred_by, transferred_to, number_id, cost, country_code_a2, pricing_type) \n",
    "    VALUES (%s, %s,%s, %s,%s, %s,%s, %s,%s, %s,%s, %s,%s, %s,%s, %s,%s, %s,%s, %s,%s) ON DUPLICATE KEY UPDATE \n",
    "                direct_link = VALUES(direct_link),\n",
    "                direction = VALUES(direction),\n",
    "                status = VALUES(status),\n",
    "                missed_call_reason = VALUES(missed_call_reason),\n",
    "                started_at = VALUES(started_at),\n",
    "                answered_at = VALUES(answered_at),\n",
    "                ended_at = VALUES(ended_at),\n",
    "                duration = VALUES(duration),\n",
    "                voicemail = VALUES(voicemail),\n",
    "                asset = VALUES(asset),\n",
    "                raw_digits = VALUES(raw_digits),\n",
    "                user_id = VALUES(user_id),\n",
    "                archived = VALUES(archived),\n",
    "                assigned_to = VALUES(assigned_to),\n",
    "                transferred_by = VALUES(transferred_by),\n",
    "                transferred_to = VALUES(transferred_to),\n",
    "                number_id = VALUES(number_id),\n",
    "                cost = VALUES(cost),\n",
    "                country_code_a2 = VALUES(country_code_a2),\n",
    "                pricing_type = VALUES(pricing_type);\n",
    "                \"\"\"                              \n",
    "    try:\n",
    "        cursor = connection.cursor()\n",
    "        cursor.execute(script_insert_or_update_calls, values)\n",
    "        connection.commit()\n",
    "        print(f\"Call insert/update successful: {started_at_datetime}\")\n",
    "        #print(f\"Call Values: {values}\")\n",
    "        \n",
    "    except mysql.connector.Error as error:\n",
    "        connection.rollback()\n",
    "        print(\"Error: {}. not updated!\".format(error))\n",
    "    # We need to close the cursor and the connection, and this needs to be done regardless of what happened above."
   ],
   "metadata": {
    "collapsed": false,
    "ExecuteTime": {
     "end_time": "2024-05-06T18:35:06.635575Z",
     "start_time": "2024-05-06T18:35:06.615574Z"
    }
   },
   "id": "862f8c36375d4e2c",
   "execution_count": 24,
   "outputs": []
  },
  {
   "cell_type": "code",
   "source": [
    "def get_primary_contact(contacts):\n",
    "    print(\"Extracting primary contact from:\", contacts)\n",
    "    for contact in contacts:\n",
    "        if contact.get(\"primary\", False):\n",
    "            primary_contact = contact.get(\"value\")\n",
    "            #print(f\"Primary contact found: {primary_contact}\")\n",
    "            return primary_contact\n",
    "    print(\"No primary contact found.\")\n",
    "    return None"
   ],
   "metadata": {
    "collapsed": false,
    "ExecuteTime": {
     "end_time": "2024-05-06T18:35:06.651717Z",
     "start_time": "2024-05-06T18:35:06.639590Z"
    }
   },
   "id": "1d81d2b965a533a3",
   "execution_count": 25,
   "outputs": []
  },
  {
   "cell_type": "code",
   "source": [
    "def format_phone_number(phone_number):\n",
    "    print(f\"Formatting phone number: {phone_number}\")\n",
    "    if not phone_number:\n",
    "        print(\"No phone number provided.\")\n",
    "        return None  # Or an empty string or any default value you prefer\n",
    "\n",
    "    cleaned_number = re.sub(r\"(?!^\\+)\\D\", \"\", phone_number)\n",
    "    #print(f\"Cleaned number: {cleaned_number}\")\n",
    "\n",
    "    if cleaned_number.startswith(\"+\"):\n",
    "        return cleaned_number\n",
    "    elif cleaned_number.startswith(\"800\"):\n",
    "        return cleaned_number\n",
    "    elif cleaned_number.startswith(\"39\"):\n",
    "        return \"+\" + cleaned_number\n",
    "    elif not cleaned_number.startswith(\"39\") and len(cleaned_number) <= 10:\n",
    "        return \"+39\" + cleaned_number\n",
    "    else:\n",
    "        return \"+\" + cleaned_number"
   ],
   "metadata": {
    "collapsed": false,
    "ExecuteTime": {
     "end_time": "2024-05-06T18:35:06.667147Z",
     "start_time": "2024-05-06T18:35:06.653726Z"
    }
   },
   "id": "c6ed5c48fd50cbd9",
   "execution_count": 26,
   "outputs": []
  },
  {
   "cell_type": "code",
   "source": [
    "def parse_date_time(data, field_name):\n",
    "    raw_date_time = data.get(field_name)\n",
    "    print(f\"Parsing date/time for {field_name}: {raw_date_time}\")\n",
    "    if raw_date_time:\n",
    "        try:\n",
    "            parsed_date_time = datetime.strptime(raw_date_time, \"%Y-%m-%d %H:%M:%S\")\n",
    "            #print(f\"Parsed date/time: {parsed_date_time}\")\n",
    "            return parsed_date_time\n",
    "        except ValueError as e:\n",
    "            print(f\"Error parsing date/time for {field_name}: {e}\")\n",
    "    return None"
   ],
   "metadata": {
    "collapsed": false,
    "ExecuteTime": {
     "end_time": "2024-05-06T18:35:06.684282Z",
     "start_time": "2024-05-06T18:35:06.674159Z"
    }
   },
   "id": "2723a79228c2d4dd",
   "execution_count": 27,
   "outputs": []
  },
  {
   "cell_type": "code",
   "source": [
    "def parse_date(data, field_name):\n",
    "    raw_date = data.get(field_name)\n",
    "    print(f\"Attempting to parse date for '{field_name}': {raw_date}\")\n",
    "    if raw_date:\n",
    "        try:\n",
    "            parsed_date = datetime.strptime(raw_date, \"%Y-%m-%d\").date()\n",
    "            #print(f\"Parsed date for '{field_name}': {parsed_date}\")\n",
    "            return parsed_date\n",
    "        except ValueError as e:\n",
    "            print(f\"Error parsing date for '{field_name}': {raw_date}, Error: {e}\")\n",
    "    else:\n",
    "        print(f\"No date found for '{field_name}'.\")\n",
    "    return None"
   ],
   "metadata": {
    "collapsed": false,
    "ExecuteTime": {
     "end_time": "2024-05-06T18:35:06.743509Z",
     "start_time": "2024-05-06T18:35:06.735296Z"
    }
   },
   "id": "11e7265dd3ed6b53",
   "execution_count": 28,
   "outputs": []
  },
  {
   "cell_type": "code",
   "source": [
    "def parse_double(data, field_name):\n",
    "    value = data.get(field_name)\n",
    "    print(f\"Attempting to parse double for '{field_name}': {value}\")\n",
    "    try:\n",
    "        if value is None:\n",
    "            print(f\"No value provided for '{field_name}', returning None.\")\n",
    "            return None\n",
    "        parsed_double = float(value)\n",
    "        #print(f\"Parsed double for '{field_name}': {parsed_double}\")\n",
    "        return parsed_double\n",
    "    except (TypeError, ValueError) as e:\n",
    "        print(f\"Error parsing double for '{field_name}': {value}, Error: {e}\")\n",
    "        return None"
   ],
   "metadata": {
    "collapsed": false,
    "ExecuteTime": {
     "end_time": "2024-05-06T18:35:06.792802Z",
     "start_time": "2024-05-06T18:35:06.788028Z"
    }
   },
   "id": "284892096311a48b",
   "execution_count": 29,
   "outputs": []
  },
  {
   "cell_type": "code",
   "source": [
    "def datetime_to_unix_timestamp(date):\n",
    "    return int(time.mktime(date.timetuple()))"
   ],
   "metadata": {
    "collapsed": false,
    "ExecuteTime": {
     "end_time": "2024-05-06T18:35:06.874572Z",
     "start_time": "2024-05-06T18:35:06.869809Z"
    }
   },
   "id": "5e924ec8ee4c1b1f",
   "execution_count": 30,
   "outputs": []
  },
  {
   "cell_type": "code",
   "source": [
    "def make_api_call_v2(url, user, passw):\n",
    "    max_retries = 3\n",
    "    retry_delay = 2  # seconds\n",
    "    headers = {\n",
    "        \"Authorization\": \"Basic \" + base64.b64encode(f\"{user}:{passw}\".encode()).decode()\n",
    "    }\n",
    "\n",
    "    for attempt in range(max_retries):\n",
    "        try:\n",
    "            response = requests.get(url, headers=headers)\n",
    "            response.raise_for_status()\n",
    "            return response.json()\n",
    "        except requests.RequestException as e:\n",
    "            print(f\"API call failed, attempt {attempt + 1}. Retrying in {retry_delay} seconds.\")\n",
    "            if attempt + 1 == max_retries:\n",
    "                raise\n",
    "            time.sleep(retry_delay)"
   ],
   "metadata": {
    "collapsed": false,
    "ExecuteTime": {
     "end_time": "2024-05-06T18:35:06.891403Z",
     "start_time": "2024-05-06T18:35:06.877584Z"
    }
   },
   "id": "74393891b4fea960",
   "execution_count": 31,
   "outputs": []
  },
  {
   "cell_type": "code",
   "source": [
    "def process_response_and_insert_calls(response):\n",
    "    # Assuming `response` is a JSON object similar to what's returned from an API call\n",
    "    calls = response.get('calls', [])\n",
    "    total_processed = 0\n",
    "\n",
    "    # Initialize MySqlHook\n",
    "    \n",
    "#mysql_hook = MySqlHook(mysql_conn_id=mysql_conn_id)\n",
    "\n",
    "    for call in calls:\n",
    "        # Here, you would have the logic to insert or update the call data\n",
    "        # For simplicity, we assume a function `insert_or_update_call_data` exists\n",
    "        insert_update_call(call)\n",
    "        total_processed += 1\n",
    "\n",
    "    #print(f\"Processed {total_processed} records\")\n",
    "\n",
    "    # Fetching the next page link from the response for pagination\n",
    "    meta = response.get('meta', {})\n",
    "    next_page_link = meta.get('next_page_link', None)\n",
    "    print(f\"Page processed, next page link: {next_page_link}\")\n",
    "    print(f\"Current page: {meta.get('current_page')}\")\n",
    "\n",
    "    return next_page_link, bool(next_page_link)\n"
   ],
   "metadata": {
    "collapsed": false,
    "ExecuteTime": {
     "end_time": "2024-05-06T18:35:06.909654Z",
     "start_time": "2024-05-06T18:35:06.894414Z"
    }
   },
   "id": "921e3cdf4491361b",
   "execution_count": 32,
   "outputs": []
  },
  {
   "cell_type": "code",
   "source": [
    "# First DAG - Original\n",
    "def fetch_all_calls():\n",
    "    connection = mysql.connector.connect(\n",
    "            user = 'pipedrive',\n",
    "            password = '#8LsH25%ZD',\n",
    "            host = 'scraper.cx53soegx3qk.eu-west-1.rds.amazonaws.com',\n",
    "            database= 'pipedrive')\n",
    "    start_date_str = \"2024-04-02\"\n",
    "    end_date_str = \"2024-05-04\"\n",
    "    start_date = datetime.strptime(start_date_str, \"%Y-%m-%d\")\n",
    "    end_date = datetime.strptime(end_date_str, \"%Y-%m-%d\")\n",
    "    print(f\"Start date: {start_date}, End date: {end_date}\")\n",
    "    current_date = start_date\n",
    "    while current_date <= end_date:\n",
    "        print(\"Processing date:\", current_date)\n",
    "        start_of_day = datetime(current_date.year, current_date.month, current_date.day)\n",
    "        end_of_day = start_of_day + timedelta(days=1, seconds=-1)\n",
    "        end_timestamp = datetime_to_unix_timestamp(end_of_day)\n",
    "        start_timestamp = datetime_to_unix_timestamp(start_of_day)\n",
    "\n",
    "        # Constructing the API call with date filters for the current day\n",
    "        api_url = f\"{api_aircalls_url}&from={start_timestamp}&to={end_timestamp}\"\n",
    "        print(\"API URL:\", api_url)\n",
    "        has_more_data = True\n",
    "        try:\n",
    "            while has_more_data:\n",
    "                    response = make_api_call_v2(api_url, api_user, api_pass)\n",
    "                    calls = response.get(\"calls\", [])\n",
    "                    meta = response.get(\"meta\", {})\n",
    "                    print(f\"API meta repsonse: {meta}\")\n",
    "                    print(f'API calls to process: {len(calls)}')\n",
    "                    # Process the response, insert data into the database, etc.\n",
    "                    next_page_link, has_more_data = process_response_and_insert_calls(response)\n",
    "            if next_page_link:\n",
    "                    api_url = next_page_link\n",
    "            else:\n",
    "                    has_more_data = False\n",
    "    \n",
    "        except Exception as e:\n",
    "            print(f\"Failed to make API call: {e}\")\n",
    "        finally:\n",
    "            if connection.is_connected():\n",
    "                connection.close()\n",
    "                print(\"MySQL connection is closed.\")\n",
    "        current_date += timedelta(days=1)"
   ],
   "metadata": {
    "collapsed": false,
    "ExecuteTime": {
     "end_time": "2024-05-06T18:35:06.927089Z",
     "start_time": "2024-05-06T18:35:06.912675Z"
    }
   },
   "id": "6507145edd2e84c1",
   "execution_count": 33,
   "outputs": []
  },
  {
   "cell_type": "code",
   "source": [
    "fetch_all_calls()"
   ],
   "metadata": {
    "collapsed": false,
    "ExecuteTime": {
     "end_time": "2024-05-06T18:37:33.705981Z",
     "start_time": "2024-05-06T18:35:06.934105Z"
    }
   },
   "id": "98ef76c6fdf9c862",
   "execution_count": 34,
   "outputs": []
  }
 ],
 "metadata": {
  "kernelspec": {
   "display_name": "Python 3",
   "language": "python",
   "name": "python3"
  },
  "language_info": {
   "codemirror_mode": {
    "name": "ipython",
    "version": 2
   },
   "file_extension": ".py",
   "mimetype": "text/x-python",
   "name": "python",
   "nbconvert_exporter": "python",
   "pygments_lexer": "ipython2",
   "version": "2.7.6"
  }
 },
 "nbformat": 4,
 "nbformat_minor": 5
}
