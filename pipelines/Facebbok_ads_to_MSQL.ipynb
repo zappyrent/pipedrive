{
 "cells": [
  {
   "cell_type": "code",
   "execution_count": 66,
   "id": "38f52f70bde95af5",
   "metadata": {
    "ExecuteTime": {
     "end_time": "2024-05-21T06:13:43.272801600Z",
     "start_time": "2024-05-21T06:13:42.472511400Z"
    }
   },
   "source": [
    "import gspread\n",
    "import mysqlcredentials as mc\n",
    "import mysql.connector\n",
    "from oauth2client.service_account import ServiceAccountCredentials"
   ],
   "outputs": []
  },
  {
   "cell_type": "code",
   "source": [
    "# initialize variables for gspread\n",
    "scope = ['https://spreadsheets.google.com/feeds',\n",
    "'https://www.googleapis.com/auth/drive']\n",
    "creds = ServiceAccountCredentials.from_json_keyfile_name('/Users/PowerBI/Documents/GitHub/pipedrive/pipelines/GoogleSheetsToMySQL.json', scope)\n",
    "client = gspread.authorize(creds)"
   ],
   "metadata": {
    "collapsed": false,
    "ExecuteTime": {
     "end_time": "2024-05-21T06:13:44.351110600Z",
     "start_time": "2024-05-21T06:13:43.286078600Z"
    }
   },
   "id": "ba936cfa1c5b2cd3",
   "execution_count": 67,
   "outputs": []
  },
  {
   "cell_type": "code",
   "source": [
    "# define method to pull data from spreadsheet\n",
    "def GetSpreadsheetData(sheetName, worksheetIndex):\n",
    "    sheet = client.open(sheetName).get_worksheet(worksheetIndex)\n",
    "    return sheet.get_all_values()[1:]"
   ],
   "metadata": {
    "collapsed": false,
    "ExecuteTime": {
     "end_time": "2024-05-21T06:13:45.100654900Z",
     "start_time": "2024-05-21T06:13:44.331769900Z"
    }
   },
   "id": "8aa82a97d383558f",
   "execution_count": 68,
   "outputs": []
  },
  {
   "cell_type": "code",
   "source": [
    "def PreserveNULLValues(listName):\n",
    "    print('Preserving NULL values…')\n",
    "    for x in range(len(listName)):\n",
    "        for y in range(len(listName[x])):\n",
    "            if listName[x][y] == '':\n",
    "                listName[x][y] = None\n",
    "    print('NULL values preserved.')"
   ],
   "metadata": {
    "collapsed": false,
    "ExecuteTime": {
     "end_time": "2024-05-21T06:13:46.251786700Z",
     "start_time": "2024-05-21T06:13:45.113541400Z"
    }
   },
   "id": "ecb0d3b06c03b054",
   "execution_count": 69,
   "outputs": []
  },
  {
   "cell_type": "code",
   "source": [
    "data=GetSpreadsheetData('db_facebook_ads', 1)"
   ],
   "metadata": {
    "collapsed": false,
    "ExecuteTime": {
     "end_time": "2024-05-21T06:13:55.597994100Z",
     "start_time": "2024-05-21T06:13:46.272435100Z"
    }
   },
   "id": "36ee06855b0c0058",
   "execution_count": 70,
   "outputs": []
  },
  {
   "cell_type": "code",
   "source": [
    "print(data[0])\n",
    "print(len(data))"
   ],
   "metadata": {
    "collapsed": false,
    "ExecuteTime": {
     "end_time": "2024-05-21T06:13:55.599370400Z",
     "start_time": "2024-05-21T06:13:54.453701200Z"
    }
   },
   "id": "8e79e7629dadd417",
   "execution_count": 71,
   "outputs": []
  },
  {
   "cell_type": "code",
   "source": [
    "data"
   ],
   "metadata": {
    "collapsed": false,
    "ExecuteTime": {
     "end_time": "2024-05-21T06:13:55.939212700Z",
     "start_time": "2024-05-21T06:13:54.476511Z"
    }
   },
   "id": "1f0378f04c76156e",
   "execution_count": 72,
   "outputs": []
  },
  {
   "cell_type": "code",
   "source": [
    "# define method to write list of data to MySQL table\n",
    "def WriteToMySQLTable(sql_data, tableName):\n",
    "# we are using a try/except block (also called a try/catch block in other languages) which is good for error handling. It will “try” to execute anything in the “try” block, and if there is an error, it will report the error in the “except” block. Regardless of any errors, the “finally” block will always be executed.\n",
    "    try:\n",
    "# Here we include the connection credentials for MySQL. We create a connection object that we pass the credentials to, and notice that we can specify the database which is ‘sys’ in the MySQLCredentials.py file because I’m using since I’m using the default database in MySQL Workbench 8.0.\n",
    "        connection = mysql.connector.connect(\n",
    "        user = mc.user,\n",
    "        password = mc.password,\n",
    "        host = mc.host,\n",
    "        database = mc.database\n",
    "        )\n",
    "# This command will drop the table, and we could just have the table name hardcoded into the string, but instead I am using the name of the table passed into the method. {} is a placeholder for what we want to pass into this string, and using .format(blah) we can pass the string name from the variable passed into the method here.\n",
    "        sql_drop = \" DROP TABLE IF EXISTS {} \".format(tableName)\n",
    "# Now we will create the table, and the triple quotes are used so that when we go to the next line of code, we remain in a string. Otherwise it will terminate the string at the end of the line, and we want ALL of this to be one giant string. When injecting data into VALUES, we use the placeholder %s for each column of data we have.\n",
    "        sql_create_table = \"\"\"CREATE TABLE {}( \n",
    "            Day DATE,\n",
    "            Campaign_Name VARCHAR(100),\n",
    "            Adset_Name VARCHAR(100),\n",
    "            Ad_Name VARCHAR(100),\n",
    "            Landing_page VARCHAR(100),\n",
    "            Impressions VARCHAR(100),\n",
    "            Link_Clicks VARCHAR(100),\n",
    "            Amount_Spent VARCHAR(100)\n",
    "            )\"\"\".format(tableName)\n",
    " \n",
    "        sql_insert_statement = \"\"\"INSERT INTO {}( \n",
    "            Day,\n",
    "            Campaign_Name,\n",
    "            Adset_Name,\n",
    "            Ad_Name,\n",
    "            Landing_page,\n",
    "            Impressions,\n",
    "            Link_Clicks,\n",
    "            Amount_Spent)\n",
    "        VALUES ( %s,%s,%s,%s,%s,%s,%s,%s )\"\"\".format(tableName)\n",
    "# Here we create a cursor, which we will use to execute the MySQL statements above. After each statement is executed, a message will be printed to the console if the execution was successful.\n",
    "        cursor = connection.cursor()\n",
    "        cursor.execute(sql_drop)\n",
    "        print('Table {} has been dropped'.format(tableName))\n",
    "        cursor.execute(sql_create_table)\n",
    "        print('Table {} has been created'.format(tableName))\n",
    "# We need to write each row of data to the table, so we use a for loop that will insert each row of data one at a time\n",
    "        for i in sql_data:\n",
    "            cursor.execute(sql_insert_statement, i)\n",
    "# Now we execute the commit statement, and print to the console that the table was updated successfully\n",
    "        connection.commit()\n",
    "        print(\"Table {} successfully updated.\".format(tableName))\n",
    "# Errors are handled in the except block, and we will get the information printed to the console if there is an error\n",
    "    except mysql.connector.Error as error :\n",
    "        connection.rollback()\n",
    "        print(\"Error: {}. Table {} not updated!\".format(error, tableName))\n",
    "# We need to close the cursor and the connection, and this needs to be done regardless of what happened above.\n",
    "    finally:\n",
    "        cursor.execute('SELECT COUNT(*) FROM {}'.format(tableName))\n",
    "        rowCount = cursor.fetchone()[0]\n",
    "        print(tableName, 'row count:', rowCount)\n",
    "        if connection.is_connected():\n",
    "            cursor.close()\n",
    "            connection.close()\n",
    "            print(\"MySQL connection is closed.\")"
   ],
   "metadata": {
    "collapsed": false,
    "ExecuteTime": {
     "end_time": "2024-05-21T06:13:55.970867700Z",
     "start_time": "2024-05-21T06:13:54.840646100Z"
    }
   },
   "id": "5dd9e215e3e5f76d",
   "execution_count": 73,
   "outputs": []
  },
  {
   "cell_type": "code",
   "source": [
    "PreserveNULLValues(data)\n",
    "WriteToMySQLTable(data, 'marketing_facebook')"
   ],
   "metadata": {
    "collapsed": false,
    "ExecuteTime": {
     "end_time": "2024-05-21T06:14:18.446102700Z",
     "start_time": "2024-05-21T06:13:54.875096900Z"
    }
   },
   "id": "da44077344342acd",
   "execution_count": 74,
   "outputs": []
  },
  {
   "cell_type": "code",
   "source": [],
   "metadata": {
    "collapsed": false,
    "ExecuteTime": {
     "end_time": "2024-05-21T06:14:18.447255500Z",
     "start_time": "2024-05-21T06:14:18.188243600Z"
    }
   },
   "id": "afb64235a7b2c05f",
   "execution_count": 74,
   "outputs": []
  }
 ],
 "metadata": {
  "kernelspec": {
   "display_name": "Python 3 (ipykernel)",
   "language": "python",
   "name": "python3"
  },
  "language_info": {
   "codemirror_mode": {
    "name": "ipython",
    "version": 3
   },
   "file_extension": ".py",
   "mimetype": "text/x-python",
   "name": "python",
   "nbconvert_exporter": "python",
   "pygments_lexer": "ipython3",
   "version": "3.11.5"
  }
 },
 "nbformat": 4,
 "nbformat_minor": 5
}
