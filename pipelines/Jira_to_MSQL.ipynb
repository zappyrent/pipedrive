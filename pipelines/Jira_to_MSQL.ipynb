{
 "cells": [
  {
   "cell_type": "code",
   "execution_count": 1,
   "id": "38f52f70bde95af5",
   "metadata": {
    "ExecuteTime": {
     "end_time": "2024-04-23T06:59:02.684647Z",
     "start_time": "2024-04-23T06:58:58.844734Z"
    }
   },
   "outputs": [],
   "source": [
    "import gspread\n",
    "import mysqlcredentials as mc\n",
    "import mysql.connector\n",
    "from oauth2client.service_account import ServiceAccountCredentials"
   ]
  },
  {
   "cell_type": "code",
   "outputs": [],
   "source": [
    "# initialize variables for gspread\n",
    "scope = ['https://spreadsheets.google.com/feeds',\n",
    "'https://www.googleapis.com/auth/drive']\n",
    "creds = ServiceAccountCredentials.from_json_keyfile_name('GoogleSheetsToMySQL.json', scope)\n",
    "client = gspread.authorize(creds)"
   ],
   "metadata": {
    "collapsed": false,
    "ExecuteTime": {
     "end_time": "2024-04-23T06:59:02.887511Z",
     "start_time": "2024-04-23T06:59:02.690358Z"
    }
   },
   "id": "ba936cfa1c5b2cd3",
   "execution_count": 2
  },
  {
   "cell_type": "code",
   "outputs": [],
   "source": [
    "# define method to pull data from spreadsheet\n",
    "def GetSpreadsheetData(sheetName, worksheetIndex):\n",
    "    sheet = client.open(sheetName).get_worksheet(worksheetIndex)\n",
    "    return sheet.get_all_values()[1:]"
   ],
   "metadata": {
    "collapsed": false,
    "ExecuteTime": {
     "end_time": "2024-04-23T06:59:02.898521Z",
     "start_time": "2024-04-23T06:59:02.890519Z"
    }
   },
   "id": "8aa82a97d383558f",
   "execution_count": 3
  },
  {
   "cell_type": "code",
   "outputs": [],
   "source": [
    "def PreserveNULLValues(listName):\n",
    "    print('Preserving NULL values…')\n",
    "    for x in range(len(listName)):\n",
    "        for y in range(len(listName[x])):\n",
    "            if listName[x][y] == '':\n",
    "                listName[x][y] = None\n",
    "    print('NULL values preserved.')"
   ],
   "metadata": {
    "collapsed": false,
    "ExecuteTime": {
     "end_time": "2024-04-23T06:59:02.949295Z",
     "start_time": "2024-04-23T06:59:02.906511Z"
    }
   },
   "id": "ecb0d3b06c03b054",
   "execution_count": 4
  },
  {
   "cell_type": "code",
   "outputs": [],
   "source": [
    "data_jira = GetSpreadsheetData('db_jira', 1)"
   ],
   "metadata": {
    "collapsed": false,
    "ExecuteTime": {
     "end_time": "2024-04-23T06:59:13.293074Z",
     "start_time": "2024-04-23T06:59:02.959377Z"
    }
   },
   "id": "36ee06855b0c0058",
   "execution_count": 5
  },
  {
   "cell_type": "code",
   "outputs": [
    {
     "name": "stdout",
     "output_type": "stream",
     "text": [
      "['Subtask', 'NPS-1111', 'booking-api (gitlab variables): update reference text variables', 'ayman kadioui', 'ayman kadioui', 'Medium', 'In QA', '', '2024-04-21', '2024-04-21', '', '', '', 'In Progress', '2024-04-21', '86160', '2024-04-21', 'To be Refined', '86160', 'In QA', '']\n",
      "8049\n"
     ]
    }
   ],
   "source": [
    "print(data_jira[0])\n",
    "print(len(data_jira))"
   ],
   "metadata": {
    "collapsed": false,
    "ExecuteTime": {
     "end_time": "2024-04-23T06:59:13.303466Z",
     "start_time": "2024-04-23T06:59:13.295092Z"
    }
   },
   "id": "a77a2e847c2b2f7b",
   "execution_count": 6
  },
  {
   "cell_type": "code",
   "outputs": [],
   "source": [
    "def WriteToMySQLTable_jira(sql_data, tableName):\n",
    "    try:\n",
    "        connection = mysql.connector.connect(\n",
    "            user=mc.user,\n",
    "            password=mc.password,\n",
    "            host=mc.host,\n",
    "            database=mc.database\n",
    "        )\n",
    "        sql_drop = \" DROP TABLE IF EXISTS {} \".format(tableName)\n",
    "        sql_create_table = \"\"\"CREATE TABLE {}( \n",
    "            Issue_type VARCHAR(100),\n",
    "            Key_column VARCHAR(100),\n",
    "            Summary VARCHAR(500),\n",
    "            Assignee VARCHAR(100),\n",
    "            Reporter VARCHAR(100),\n",
    "            Priority VARCHAR(100),\n",
    "            Status VARCHAR(100),\n",
    "            Resolution VARCHAR(100),\n",
    "            Created DATETIME,\n",
    "            Updated DATE,\n",
    "            Due DATE,\n",
    "            Days_estimate VARCHAR(100),\n",
    "            Resolved DATE,\n",
    "            Status_category VARCHAR(100),\n",
    "            Status_category_changed DATE,\n",
    "            Status_transition VARCHAR(100),\n",
    "            Status_transition_date DATE,\n",
    "            Status_transition_from VARCHAR(100),\n",
    "            Status_transition_id VARCHAR(100),\n",
    "            Status_transition_to VARCHAR(100),\n",
    "            Story_points_estimation VARCHAR(100)\n",
    "            )\"\"\".format(tableName)\n",
    "\n",
    "        sql_insert_statement = \"\"\"INSERT INTO {}( \n",
    "            Issue_type,\n",
    "            Key_column,\n",
    "            Summary,\n",
    "            Assignee,\n",
    "            Reporter,\n",
    "            Priority,\n",
    "            Status,\n",
    "            Resolution,\n",
    "            Created,\n",
    "            Updated,\n",
    "            Due,\n",
    "            Days_estimate,\n",
    "            Resolved,\n",
    "            Status_category,\n",
    "            Status_category_changed,\n",
    "            Status_transition,\n",
    "            Status_transition_date,\n",
    "            Status_transition_from,\n",
    "            Status_transition_id,\n",
    "            Status_transition_to,\n",
    "            Story_points_estimation)\n",
    "        VALUES ( %s,%s,%s,%s,%s,%s,%s,%s,%s,%s,%s,%s,%s,%s,%s,%s,%s,%s,%s,%s,%s)\"\"\".format(tableName)\n",
    "\n",
    "        cursor = connection.cursor()\n",
    "        cursor.execute(sql_drop)\n",
    "        print('Table {} has been dropped'.format(tableName))\n",
    "        cursor.execute(sql_create_table)\n",
    "        print('Table {} has been created'.format(tableName))\n",
    "\n",
    "        for i in sql_data:\n",
    "            cursor.execute(sql_insert_statement, i)\n",
    "\n",
    "        connection.commit()\n",
    "        print(\"Table {} successfully updated.\".format(tableName))\n",
    "\n",
    "    except mysql.connector.Error as error:\n",
    "        connection.rollback()\n",
    "        print(\"Error: {}. Table {} not updated!\".format(error, tableName))\n",
    "\n",
    "    finally:\n",
    "        cursor.execute('SELECT COUNT(*) FROM {}'.format(tableName))\n",
    "        rowCount = cursor.fetchone()[0]\n",
    "        print(tableName, 'row count:', rowCount)\n",
    "        if connection.is_connected():\n",
    "            cursor.close()\n",
    "            connection.close()\n",
    "            print(\"MySQL connection is closed.\")"
   ],
   "metadata": {
    "collapsed": false,
    "ExecuteTime": {
     "end_time": "2024-04-23T06:59:13.337065Z",
     "start_time": "2024-04-23T06:59:13.305463Z"
    }
   },
   "id": "5dd9e215e3e5f76d",
   "execution_count": 7
  },
  {
   "cell_type": "code",
   "outputs": [
    {
     "name": "stdout",
     "output_type": "stream",
     "text": [
      "Preserving NULL values…\n",
      "NULL values preserved.\n",
      "Table jira has been dropped\n",
      "Table jira has been created\n",
      "Table jira successfully updated.\n",
      "jira row count: 8049\n",
      "MySQL connection is closed.\n"
     ]
    }
   ],
   "source": [
    "PreserveNULLValues(data_jira)\n",
    "WriteToMySQLTable_jira(data_jira, 'jira')"
   ],
   "metadata": {
    "collapsed": false,
    "ExecuteTime": {
     "end_time": "2024-04-23T07:03:42.715913Z",
     "start_time": "2024-04-23T06:59:13.344068Z"
    }
   },
   "id": "f7a73ae46e60fea2",
   "execution_count": 8
  }
 ],
 "metadata": {
  "kernelspec": {
   "display_name": "Python 3 (ipykernel)",
   "language": "python",
   "name": "python3"
  },
  "language_info": {
   "codemirror_mode": {
    "name": "ipython",
    "version": 3
   },
   "file_extension": ".py",
   "mimetype": "text/x-python",
   "name": "python",
   "nbconvert_exporter": "python",
   "pygments_lexer": "ipython3",
   "version": "3.11.5"
  }
 },
 "nbformat": 4,
 "nbformat_minor": 5
}
