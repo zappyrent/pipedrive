{
 "cells": [
  {
   "cell_type": "code",
   "execution_count": 25,
   "id": "38f52f70bde95af5",
   "metadata": {
    "ExecuteTime": {
     "end_time": "2024-05-16T07:32:16.708498800Z",
     "start_time": "2024-05-16T07:32:16.492952200Z"
    }
   },
   "outputs": [],
   "source": [
    "import gspread\n",
    "import mysqlcredentials as mc\n",
    "import mysql.connector\n",
    "from oauth2client.service_account import ServiceAccountCredentials"
   ]
  },
  {
   "cell_type": "code",
   "outputs": [
    {
     "ename": "FileNotFoundError",
     "evalue": "[Errno 2] No such file or directory: 'GoogleSheetsToMySQL.json'",
     "output_type": "error",
     "traceback": [
      "\u001B[1;31m---------------------------------------------------------------------------\u001B[0m",
      "\u001B[1;31mFileNotFoundError\u001B[0m                         Traceback (most recent call last)",
      "Cell \u001B[1;32mIn[26], line 4\u001B[0m\n\u001B[0;32m      1\u001B[0m \u001B[38;5;66;03m# initialize variables for gspread\u001B[39;00m\n\u001B[0;32m      2\u001B[0m scope \u001B[38;5;241m=\u001B[39m [\u001B[38;5;124m'\u001B[39m\u001B[38;5;124mhttps://spreadsheets.google.com/feeds\u001B[39m\u001B[38;5;124m'\u001B[39m,\n\u001B[0;32m      3\u001B[0m \u001B[38;5;124m'\u001B[39m\u001B[38;5;124mhttps://www.googleapis.com/auth/drive\u001B[39m\u001B[38;5;124m'\u001B[39m]\n\u001B[1;32m----> 4\u001B[0m creds \u001B[38;5;241m=\u001B[39m ServiceAccountCredentials\u001B[38;5;241m.\u001B[39mfrom_json_keyfile_name(\u001B[38;5;124m'\u001B[39m\u001B[38;5;124mGoogleSheetsToMySQL.json\u001B[39m\u001B[38;5;124m'\u001B[39m, scope)\n\u001B[0;32m      5\u001B[0m client \u001B[38;5;241m=\u001B[39m gspread\u001B[38;5;241m.\u001B[39mauthorize(creds)\n",
      "File \u001B[1;32m~\\anaconda\\Lib\\site-packages\\oauth2client\\service_account.py:219\u001B[0m, in \u001B[0;36mServiceAccountCredentials.from_json_keyfile_name\u001B[1;34m(cls, filename, scopes, token_uri, revoke_uri)\u001B[0m\n\u001B[0;32m    193\u001B[0m \u001B[38;5;129m@classmethod\u001B[39m\n\u001B[0;32m    194\u001B[0m \u001B[38;5;28;01mdef\u001B[39;00m \u001B[38;5;21mfrom_json_keyfile_name\u001B[39m(\u001B[38;5;28mcls\u001B[39m, filename, scopes\u001B[38;5;241m=\u001B[39m\u001B[38;5;124m'\u001B[39m\u001B[38;5;124m'\u001B[39m,\n\u001B[0;32m    195\u001B[0m                            token_uri\u001B[38;5;241m=\u001B[39m\u001B[38;5;28;01mNone\u001B[39;00m, revoke_uri\u001B[38;5;241m=\u001B[39m\u001B[38;5;28;01mNone\u001B[39;00m):\n\u001B[0;32m    197\u001B[0m \u001B[38;5;250m    \u001B[39m\u001B[38;5;124;03m\"\"\"Factory constructor from JSON keyfile by name.\u001B[39;00m\n\u001B[0;32m    198\u001B[0m \n\u001B[0;32m    199\u001B[0m \u001B[38;5;124;03m    Args:\u001B[39;00m\n\u001B[1;32m   (...)\u001B[0m\n\u001B[0;32m    217\u001B[0m \u001B[38;5;124;03m            the keyfile.\u001B[39;00m\n\u001B[0;32m    218\u001B[0m \u001B[38;5;124;03m    \"\"\"\u001B[39;00m\n\u001B[1;32m--> 219\u001B[0m     \u001B[38;5;28;01mwith\u001B[39;00m \u001B[38;5;28mopen\u001B[39m(filename, \u001B[38;5;124m'\u001B[39m\u001B[38;5;124mr\u001B[39m\u001B[38;5;124m'\u001B[39m) \u001B[38;5;28;01mas\u001B[39;00m file_obj:\n\u001B[0;32m    220\u001B[0m         client_credentials \u001B[38;5;241m=\u001B[39m json\u001B[38;5;241m.\u001B[39mload(file_obj)\n\u001B[0;32m    221\u001B[0m     \u001B[38;5;28;01mreturn\u001B[39;00m \u001B[38;5;28mcls\u001B[39m\u001B[38;5;241m.\u001B[39m_from_parsed_json_keyfile(client_credentials, scopes,\n\u001B[0;32m    222\u001B[0m                                          token_uri\u001B[38;5;241m=\u001B[39mtoken_uri,\n\u001B[0;32m    223\u001B[0m                                          revoke_uri\u001B[38;5;241m=\u001B[39mrevoke_uri)\n",
      "\u001B[1;31mFileNotFoundError\u001B[0m: [Errno 2] No such file or directory: 'GoogleSheetsToMySQL.json'"
     ]
    }
   ],
   "source": [
    "# initialize variables for gspread\n",
    "scope = ['https://spreadsheets.google.com/feeds',\n",
    "'https://www.googleapis.com/auth/drive']\n",
    "creds = ServiceAccountCredentials.from_json_keyfile_name('/Users/PowerBI/Documents/GitHub/pipedrive/pipelines/GoogleSheetsToMySQL.json', scope)\n",
    "client = gspread.authorize(creds)"
   ],
   "metadata": {
    "collapsed": false,
    "ExecuteTime": {
     "end_time": "2024-05-16T07:32:20.048415900Z",
     "start_time": "2024-05-16T07:32:16.569357600Z"
    }
   },
   "id": "ba936cfa1c5b2cd3",
   "execution_count": 26
  },
  {
   "cell_type": "code",
   "outputs": [],
   "source": [
    "# define method to pull data from spreadsheet\n",
    "def GetSpreadsheetData(sheetName, worksheetIndex):\n",
    "    sheet = client.open(sheetName).get_worksheet(worksheetIndex)\n",
    "    return sheet.get_all_values()[1:]"
   ],
   "metadata": {
    "collapsed": false,
    "ExecuteTime": {
     "start_time": "2024-05-16T07:32:19.906939Z"
    }
   },
   "id": "8aa82a97d383558f",
   "execution_count": null
  },
  {
   "cell_type": "code",
   "outputs": [],
   "source": [
    "def PreserveNULLValues(listName):\n",
    "    print('Preserving NULL values…')\n",
    "    for x in range(len(listName)):\n",
    "        for y in range(len(listName[x])):\n",
    "            if listName[x][y] == '':\n",
    "                listName[x][y] = None\n",
    "    print('NULL values preserved.')"
   ],
   "metadata": {
    "collapsed": false,
    "ExecuteTime": {
     "start_time": "2024-05-16T07:32:19.909486400Z"
    }
   },
   "id": "ecb0d3b06c03b054",
   "execution_count": null
  },
  {
   "cell_type": "code",
   "outputs": [],
   "source": [
    "data_jira = GetSpreadsheetData('db_jira', 1)"
   ],
   "metadata": {
    "collapsed": false,
    "ExecuteTime": {
     "start_time": "2024-05-16T07:32:19.912474500Z"
    }
   },
   "id": "36ee06855b0c0058",
   "execution_count": null
  },
  {
   "cell_type": "code",
   "outputs": [],
   "source": [
    "print(data_jira[0])\n",
    "print(len(data_jira))"
   ],
   "metadata": {
    "collapsed": false,
    "ExecuteTime": {
     "start_time": "2024-05-16T07:32:19.915116600Z"
    }
   },
   "id": "a77a2e847c2b2f7b",
   "execution_count": null
  },
  {
   "cell_type": "code",
   "outputs": [],
   "source": [
    "def WriteToMySQLTable_jira(sql_data, tableName):\n",
    "    try:\n",
    "        connection = mysql.connector.connect(\n",
    "            user=mc.user,\n",
    "            password=mc.password,\n",
    "            host=mc.host,\n",
    "            database=mc.database\n",
    "        )\n",
    "        sql_drop = \" DROP TABLE IF EXISTS {} \".format(tableName)\n",
    "        sql_create_table = \"\"\"CREATE TABLE {}( \n",
    "            Issue_type VARCHAR(100),\n",
    "            Key_column VARCHAR(100),\n",
    "            Summary VARCHAR(500),\n",
    "            Assignee VARCHAR(100),\n",
    "            Reporter VARCHAR(100),\n",
    "            Priority VARCHAR(100),\n",
    "            Status VARCHAR(100),\n",
    "            Resolution VARCHAR(100),\n",
    "            Created DATETIME,\n",
    "            Updated DATE,\n",
    "            Due DATE,\n",
    "            Days_estimate VARCHAR(100),\n",
    "            Resolved DATE,\n",
    "            Status_category VARCHAR(100),\n",
    "            Status_category_changed DATE,\n",
    "            Status_transition VARCHAR(100),\n",
    "            Status_transition_date DATE,\n",
    "            Status_transition_from VARCHAR(100),\n",
    "            Status_transition_id VARCHAR(100),\n",
    "            Status_transition_to VARCHAR(100),\n",
    "            Story_points_estimation VARCHAR(100)\n",
    "            )\"\"\".format(tableName)\n",
    "\n",
    "        sql_insert_statement = \"\"\"INSERT INTO {}( \n",
    "            Issue_type,\n",
    "            Key_column,\n",
    "            Summary,\n",
    "            Assignee,\n",
    "            Reporter,\n",
    "            Priority,\n",
    "            Status,\n",
    "            Resolution,\n",
    "            Created,\n",
    "            Updated,\n",
    "            Due,\n",
    "            Days_estimate,\n",
    "            Resolved,\n",
    "            Status_category,\n",
    "            Status_category_changed,\n",
    "            Status_transition,\n",
    "            Status_transition_date,\n",
    "            Status_transition_from,\n",
    "            Status_transition_id,\n",
    "            Status_transition_to,\n",
    "            Story_points_estimation)\n",
    "        VALUES ( %s,%s,%s,%s,%s,%s,%s,%s,%s,%s,%s,%s,%s,%s,%s,%s,%s,%s,%s,%s,%s)\"\"\".format(tableName)\n",
    "\n",
    "        cursor = connection.cursor()\n",
    "        cursor.execute(sql_drop)\n",
    "        print('Table {} has been dropped'.format(tableName))\n",
    "        cursor.execute(sql_create_table)\n",
    "        print('Table {} has been created'.format(tableName))\n",
    "\n",
    "        for i in sql_data:\n",
    "            cursor.execute(sql_insert_statement, i)\n",
    "\n",
    "        connection.commit()\n",
    "        print(\"Table {} successfully updated.\".format(tableName))\n",
    "\n",
    "    except mysql.connector.Error as error:\n",
    "        connection.rollback()\n",
    "        print(\"Error: {}. Table {} not updated!\".format(error, tableName))\n",
    "\n",
    "    finally:\n",
    "        cursor.execute('SELECT COUNT(*) FROM {}'.format(tableName))\n",
    "        rowCount = cursor.fetchone()[0]\n",
    "        print(tableName, 'row count:', rowCount)\n",
    "        if connection.is_connected():\n",
    "            cursor.close()\n",
    "            connection.close()\n",
    "            print(\"MySQL connection is closed.\")"
   ],
   "metadata": {
    "collapsed": false,
    "ExecuteTime": {
     "start_time": "2024-05-16T07:32:19.918884300Z"
    }
   },
   "id": "5dd9e215e3e5f76d",
   "execution_count": null
  },
  {
   "cell_type": "code",
   "outputs": [],
   "source": [
    "PreserveNULLValues(data_jira)\n",
    "WriteToMySQLTable_jira(data_jira, 'jira')"
   ],
   "metadata": {
    "collapsed": false,
    "ExecuteTime": {
     "start_time": "2024-05-16T07:32:19.921532100Z"
    }
   },
   "id": "f7a73ae46e60fea2",
   "execution_count": null
  }
 ],
 "metadata": {
  "kernelspec": {
   "display_name": "Python 3 (ipykernel)",
   "language": "python",
   "name": "python3"
  },
  "language_info": {
   "codemirror_mode": {
    "name": "ipython",
    "version": 3
   },
   "file_extension": ".py",
   "mimetype": "text/x-python",
   "name": "python",
   "nbconvert_exporter": "python",
   "pygments_lexer": "ipython3",
   "version": "3.11.5"
  }
 },
 "nbformat": 4,
 "nbformat_minor": 5
}
