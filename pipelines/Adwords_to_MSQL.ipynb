{
 "cells": [
  {
   "cell_type": "code",
   "execution_count": 1,
   "id": "38f52f70bde95af5",
   "metadata": {
    "ExecuteTime": {
     "end_time": "2024-04-23T06:59:02.858745Z",
     "start_time": "2024-04-23T06:58:58.737216Z"
    }
   },
   "outputs": [],
   "source": [
    "import gspread\n",
    "import mysqlcredentials as mc\n",
    "import mysql.connector\n",
    "from oauth2client.service_account import ServiceAccountCredentials"
   ]
  },
  {
   "cell_type": "code",
   "outputs": [],
   "source": [
    "# initialize variables for gspread\n",
    "scope = ['https://spreadsheets.google.com/feeds',\n",
    "'https://www.googleapis.com/auth/drive']\n",
    "creds = ServiceAccountCredentials.from_json_keyfile_name('GoogleSheetsToMySQL.json', scope)\n",
    "client = gspread.authorize(creds)"
   ],
   "metadata": {
    "collapsed": false,
    "ExecuteTime": {
     "end_time": "2024-04-23T06:59:03.003015Z",
     "start_time": "2024-04-23T06:59:02.861739Z"
    }
   },
   "id": "ba936cfa1c5b2cd3",
   "execution_count": 2
  },
  {
   "cell_type": "code",
   "outputs": [],
   "source": [
    "# define method to pull data from spreadsheet\n",
    "def GetSpreadsheetData(sheetName, worksheetIndex):\n",
    "    sheet = client.open(sheetName).get_worksheet(worksheetIndex)\n",
    "    return sheet.get_all_values()[1:]"
   ],
   "metadata": {
    "collapsed": false,
    "ExecuteTime": {
     "end_time": "2024-04-23T06:59:03.019080Z",
     "start_time": "2024-04-23T06:59:03.009296Z"
    }
   },
   "id": "8aa82a97d383558f",
   "execution_count": 3
  },
  {
   "cell_type": "code",
   "outputs": [],
   "source": [
    "def PreserveNULLValues(listName):\n",
    "    print('Preserving NULL values…')\n",
    "    for x in range(len(listName)):\n",
    "        for y in range(len(listName[x])):\n",
    "            if listName[x][y] == '':\n",
    "                listName[x][y] = None\n",
    "    print('NULL values preserved.')"
   ],
   "metadata": {
    "collapsed": false,
    "ExecuteTime": {
     "end_time": "2024-04-23T06:59:03.056517Z",
     "start_time": "2024-04-23T06:59:03.026243Z"
    }
   },
   "id": "ecb0d3b06c03b054",
   "execution_count": 4
  },
  {
   "cell_type": "code",
   "outputs": [],
   "source": [
    "data2=GetSpreadsheetData('db_adwords', 1)"
   ],
   "metadata": {
    "collapsed": false,
    "ExecuteTime": {
     "end_time": "2024-04-23T06:59:12.192637Z",
     "start_time": "2024-04-23T06:59:03.061897Z"
    }
   },
   "id": "fe75e9f4b9163285",
   "execution_count": 5
  },
  {
   "cell_type": "code",
   "outputs": [
    {
     "name": "stdout",
     "output_type": "stream",
     "text": [
      "['2024-04-22', 'Alta Rilevanza - Locatori', 'Emilia-Romagna', '', '1', '', 'alta_rilevanza_landlord']\n",
      "9756\n"
     ]
    }
   ],
   "source": [
    "print(data2[0])\n",
    "print(len(data2))"
   ],
   "metadata": {
    "collapsed": false,
    "ExecuteTime": {
     "end_time": "2024-04-23T06:59:12.204170Z",
     "start_time": "2024-04-23T06:59:12.194652Z"
    }
   },
   "id": "15949d4ac7a38d19",
   "execution_count": 6
  },
  {
   "cell_type": "code",
   "outputs": [],
   "source": [
    "# define method to write list of data to MySQL table\n",
    "def WriteToMySQLTable2(sql_data, tableName):\n",
    "# we are using a try/except block (also called a try/catch block in other languages) which is good for error handling. It will “try” to execute anything in the “try” block, and if there is an error, it will report the error in the “except” block. Regardless of any errors, the “finally” block will always be executed.\n",
    "    try:\n",
    "# Here we include the connection credentials for MySQL. We create a connection object that we pass the credentials to, and notice that we can specify the database which is ‘sys’ in the MySQLCredentials.py file because I’m using since I’m using the default database in MySQL Workbench 8.0.\n",
    "        connection = mysql.connector.connect(\n",
    "        user = mc.user,\n",
    "        password = mc.password,\n",
    "        host = mc.host,\n",
    "        database = mc.database\n",
    "        )\n",
    "# This command will drop the table, and we could just have the table name hardcoded into the string, but instead I am using the name of the table passed into the method. {} is a placeholder for what we want to pass into this string, and using .format(blah) we can pass the string name from the variable passed into the method here.\n",
    "        sql_drop = \" DROP TABLE IF EXISTS {} \".format(tableName)\n",
    "# Now we will create the table, and the triple quotes are used so that when we go to the next line of code, we remain in a string. Otherwise it will terminate the string at the end of the line, and we want ALL of this to be one giant string. When injecting data into VALUES, we use the placeholder %s for each column of data we have.\n",
    "        sql_create_table = \"\"\"CREATE TABLE {}( \n",
    "            Day DATE,\n",
    "            Campaign VARCHAR(100),\n",
    "            Region VARCHAR(100),\n",
    "            Cost VARCHAR(100),\n",
    "            Impressions VARCHAR(100),\n",
    "            Clicks VARCHAR(100),\n",
    "            Campaign_metabase VARCHAR(100)\n",
    "            )\"\"\".format(tableName)\n",
    " \n",
    "        sql_insert_statement = \"\"\"INSERT INTO {}( \n",
    "            Day,\n",
    "            Campaign,\n",
    "            Region,\n",
    "            Cost,\n",
    "            Impressions,\n",
    "            Clicks,\n",
    "            Campaign_metabase)\n",
    "        VALUES ( %s,%s,%s,%s,%s,%s,%s)\"\"\".format(tableName)\n",
    "# Here we create a cursor, which we will use to execute the MySQL statements above. After each statement is executed, a message will be printed to the console if the execution was successful.\n",
    "        cursor = connection.cursor()\n",
    "        cursor.execute(sql_drop)\n",
    "        print('Table {} has been dropped'.format(tableName))\n",
    "        cursor.execute(sql_create_table)\n",
    "        print('Table {} has been created'.format(tableName))\n",
    "# We need to write each row of data to the table, so we use a for loop that will insert each row of data one at a time\n",
    "        for i in sql_data:\n",
    "            cursor.execute(sql_insert_statement, i)\n",
    "# Now we execute the commit statement, and print to the console that the table was updated successfully\n",
    "        connection.commit()\n",
    "        print(\"Table {} successfully updated.\".format(tableName))\n",
    "# Errors are handled in the except block, and we will get the information printed to the console if there is an error\n",
    "    except mysql.connector.Error as error :\n",
    "        connection.rollback()\n",
    "        print(\"Error: {}. Table {} not updated!\".format(error, tableName))\n",
    "# We need to close the cursor and the connection, and this needs to be done regardless of what happened above.\n",
    "    finally:\n",
    "        cursor.execute('SELECT COUNT(*) FROM {}'.format(tableName))\n",
    "        rowCount = cursor.fetchone()[0]\n",
    "        print(tableName, 'row count:', rowCount)\n",
    "        if connection.is_connected():\n",
    "            cursor.close()\n",
    "            connection.close()\n",
    "            print(\"MySQL connection is closed.\")"
   ],
   "metadata": {
    "collapsed": false,
    "ExecuteTime": {
     "end_time": "2024-04-23T06:59:12.226817Z",
     "start_time": "2024-04-23T06:59:12.207939Z"
    }
   },
   "id": "19b67c808a3817aa",
   "execution_count": 7
  },
  {
   "cell_type": "code",
   "outputs": [
    {
     "name": "stdout",
     "output_type": "stream",
     "text": [
      "Preserving NULL values…\n",
      "NULL values preserved.\n",
      "Table marketing_adwords has been dropped\n",
      "Table marketing_adwords has been created\n",
      "Table marketing_adwords successfully updated.\n",
      "marketing_adwords row count: 9756\n",
      "MySQL connection is closed.\n"
     ]
    }
   ],
   "source": [
    "PreserveNULLValues(data2)\n",
    "WriteToMySQLTable2(data2, 'marketing_adwords')"
   ],
   "metadata": {
    "collapsed": false,
    "ExecuteTime": {
     "end_time": "2024-04-23T07:04:13.465507Z",
     "start_time": "2024-04-23T06:59:12.231852Z"
    }
   },
   "id": "b9464aab7a067bda",
   "execution_count": 8
  }
 ],
 "metadata": {
  "kernelspec": {
   "display_name": "Python 3 (ipykernel)",
   "language": "python",
   "name": "python3"
  },
  "language_info": {
   "codemirror_mode": {
    "name": "ipython",
    "version": 3
   },
   "file_extension": ".py",
   "mimetype": "text/x-python",
   "name": "python",
   "nbconvert_exporter": "python",
   "pygments_lexer": "ipython3",
   "version": "3.11.5"
  }
 },
 "nbformat": 4,
 "nbformat_minor": 5
}
