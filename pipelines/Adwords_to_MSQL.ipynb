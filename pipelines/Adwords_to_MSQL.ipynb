{
 "cells": [
  {
   "cell_type": "code",
   "execution_count": 33,
   "id": "38f52f70bde95af5",
   "metadata": {
    "ExecuteTime": {
     "end_time": "2024-05-16T07:32:06.608995800Z",
     "start_time": "2024-05-16T07:32:06.492356Z"
    }
   },
   "outputs": [],
   "source": [
    "import gspread\n",
    "import mysqlcredentials as mc\n",
    "import mysql.connector\n",
    "from oauth2client.service_account import ServiceAccountCredentials"
   ]
  },
  {
   "cell_type": "code",
   "outputs": [
    {
     "ename": "FileNotFoundError",
     "evalue": "[Errno 2] No such file or directory: 'GoogleSheetsToMySQL.json'",
     "output_type": "error",
     "traceback": [
      "\u001B[1;31m---------------------------------------------------------------------------\u001B[0m",
      "\u001B[1;31mFileNotFoundError\u001B[0m                         Traceback (most recent call last)",
      "Cell \u001B[1;32mIn[34], line 4\u001B[0m\n\u001B[0;32m      1\u001B[0m \u001B[38;5;66;03m# initialize variables for gspread\u001B[39;00m\n\u001B[0;32m      2\u001B[0m scope \u001B[38;5;241m=\u001B[39m [\u001B[38;5;124m'\u001B[39m\u001B[38;5;124mhttps://spreadsheets.google.com/feeds\u001B[39m\u001B[38;5;124m'\u001B[39m,\n\u001B[0;32m      3\u001B[0m \u001B[38;5;124m'\u001B[39m\u001B[38;5;124mhttps://www.googleapis.com/auth/drive\u001B[39m\u001B[38;5;124m'\u001B[39m]\n\u001B[1;32m----> 4\u001B[0m creds \u001B[38;5;241m=\u001B[39m ServiceAccountCredentials\u001B[38;5;241m.\u001B[39mfrom_json_keyfile_name(\u001B[38;5;124m'\u001B[39m\u001B[38;5;124mGoogleSheetsToMySQL.json\u001B[39m\u001B[38;5;124m'\u001B[39m, scope)\n\u001B[0;32m      5\u001B[0m client \u001B[38;5;241m=\u001B[39m gspread\u001B[38;5;241m.\u001B[39mauthorize(creds)\n",
      "File \u001B[1;32m~\\anaconda\\Lib\\site-packages\\oauth2client\\service_account.py:219\u001B[0m, in \u001B[0;36mServiceAccountCredentials.from_json_keyfile_name\u001B[1;34m(cls, filename, scopes, token_uri, revoke_uri)\u001B[0m\n\u001B[0;32m    193\u001B[0m \u001B[38;5;129m@classmethod\u001B[39m\n\u001B[0;32m    194\u001B[0m \u001B[38;5;28;01mdef\u001B[39;00m \u001B[38;5;21mfrom_json_keyfile_name\u001B[39m(\u001B[38;5;28mcls\u001B[39m, filename, scopes\u001B[38;5;241m=\u001B[39m\u001B[38;5;124m'\u001B[39m\u001B[38;5;124m'\u001B[39m,\n\u001B[0;32m    195\u001B[0m                            token_uri\u001B[38;5;241m=\u001B[39m\u001B[38;5;28;01mNone\u001B[39;00m, revoke_uri\u001B[38;5;241m=\u001B[39m\u001B[38;5;28;01mNone\u001B[39;00m):\n\u001B[0;32m    197\u001B[0m \u001B[38;5;250m    \u001B[39m\u001B[38;5;124;03m\"\"\"Factory constructor from JSON keyfile by name.\u001B[39;00m\n\u001B[0;32m    198\u001B[0m \n\u001B[0;32m    199\u001B[0m \u001B[38;5;124;03m    Args:\u001B[39;00m\n\u001B[1;32m   (...)\u001B[0m\n\u001B[0;32m    217\u001B[0m \u001B[38;5;124;03m            the keyfile.\u001B[39;00m\n\u001B[0;32m    218\u001B[0m \u001B[38;5;124;03m    \"\"\"\u001B[39;00m\n\u001B[1;32m--> 219\u001B[0m     \u001B[38;5;28;01mwith\u001B[39;00m \u001B[38;5;28mopen\u001B[39m(filename, \u001B[38;5;124m'\u001B[39m\u001B[38;5;124mr\u001B[39m\u001B[38;5;124m'\u001B[39m) \u001B[38;5;28;01mas\u001B[39;00m file_obj:\n\u001B[0;32m    220\u001B[0m         client_credentials \u001B[38;5;241m=\u001B[39m json\u001B[38;5;241m.\u001B[39mload(file_obj)\n\u001B[0;32m    221\u001B[0m     \u001B[38;5;28;01mreturn\u001B[39;00m \u001B[38;5;28mcls\u001B[39m\u001B[38;5;241m.\u001B[39m_from_parsed_json_keyfile(client_credentials, scopes,\n\u001B[0;32m    222\u001B[0m                                          token_uri\u001B[38;5;241m=\u001B[39mtoken_uri,\n\u001B[0;32m    223\u001B[0m                                          revoke_uri\u001B[38;5;241m=\u001B[39mrevoke_uri)\n",
      "\u001B[1;31mFileNotFoundError\u001B[0m: [Errno 2] No such file or directory: 'GoogleSheetsToMySQL.json'"
     ]
    }
   ],
   "source": [
    "# initialize variables for gspread\n",
    "scope = ['https://spreadsheets.google.com/feeds',\n",
    "'https://www.googleapis.com/auth/drive']\n",
    "creds = ServiceAccountCredentials.from_json_keyfile_name('/Users/PowerBI/Documents/GitHub/pipedrive/pipelines/GoogleSheetsToMySQL.json', scope)\n",
    "client = gspread.authorize(creds)"
   ],
   "metadata": {
    "collapsed": false,
    "ExecuteTime": {
     "end_time": "2024-05-16T07:32:10.450408800Z",
     "start_time": "2024-05-16T07:32:06.584565200Z"
    }
   },
   "id": "ba936cfa1c5b2cd3",
   "execution_count": 34
  },
  {
   "cell_type": "code",
   "outputs": [],
   "source": [
    "# define method to pull data from spreadsheet\n",
    "def GetSpreadsheetData(sheetName, worksheetIndex):\n",
    "    sheet = client.open(sheetName).get_worksheet(worksheetIndex)\n",
    "    return sheet.get_all_values()[1:]"
   ],
   "metadata": {
    "collapsed": false,
    "ExecuteTime": {
     "start_time": "2024-05-16T07:32:10.282369300Z"
    }
   },
   "id": "8aa82a97d383558f",
   "execution_count": null
  },
  {
   "cell_type": "code",
   "outputs": [],
   "source": [
    "def PreserveNULLValues(listName):\n",
    "    print('Preserving NULL values…')\n",
    "    for x in range(len(listName)):\n",
    "        for y in range(len(listName[x])):\n",
    "            if listName[x][y] == '':\n",
    "                listName[x][y] = None\n",
    "    print('NULL values preserved.')"
   ],
   "metadata": {
    "collapsed": false,
    "ExecuteTime": {
     "start_time": "2024-05-16T07:32:10.284922Z"
    }
   },
   "id": "ecb0d3b06c03b054",
   "execution_count": null
  },
  {
   "cell_type": "code",
   "outputs": [],
   "source": [
    "data2=GetSpreadsheetData('db_adwords', 1)"
   ],
   "metadata": {
    "collapsed": false,
    "ExecuteTime": {
     "start_time": "2024-05-16T07:32:10.287513300Z"
    }
   },
   "id": "fe75e9f4b9163285",
   "execution_count": null
  },
  {
   "cell_type": "code",
   "outputs": [],
   "source": [
    "print(data2[0])\n",
    "print(len(data2))"
   ],
   "metadata": {
    "collapsed": false,
    "ExecuteTime": {
     "start_time": "2024-05-16T07:32:10.293822200Z"
    }
   },
   "id": "15949d4ac7a38d19",
   "execution_count": null
  },
  {
   "cell_type": "code",
   "outputs": [],
   "source": [
    "# define method to write list of data to MySQL table\n",
    "def WriteToMySQLTable2(sql_data, tableName):\n",
    "# we are using a try/except block (also called a try/catch block in other languages) which is good for error handling. It will “try” to execute anything in the “try” block, and if there is an error, it will report the error in the “except” block. Regardless of any errors, the “finally” block will always be executed.\n",
    "    try:\n",
    "# Here we include the connection credentials for MySQL. We create a connection object that we pass the credentials to, and notice that we can specify the database which is ‘sys’ in the MySQLCredentials.py file because I’m using since I’m using the default database in MySQL Workbench 8.0.\n",
    "        connection = mysql.connector.connect(\n",
    "        user = mc.user,\n",
    "        password = mc.password,\n",
    "        host = mc.host,\n",
    "        database = mc.database\n",
    "        )\n",
    "# This command will drop the table, and we could just have the table name hardcoded into the string, but instead I am using the name of the table passed into the method. {} is a placeholder for what we want to pass into this string, and using .format(blah) we can pass the string name from the variable passed into the method here.\n",
    "        sql_drop = \" DROP TABLE IF EXISTS {} \".format(tableName)\n",
    "# Now we will create the table, and the triple quotes are used so that when we go to the next line of code, we remain in a string. Otherwise it will terminate the string at the end of the line, and we want ALL of this to be one giant string. When injecting data into VALUES, we use the placeholder %s for each column of data we have.\n",
    "        sql_create_table = \"\"\"CREATE TABLE {}( \n",
    "            Day DATE,\n",
    "            Campaign VARCHAR(100),\n",
    "            Region VARCHAR(100),\n",
    "            Cost VARCHAR(100),\n",
    "            Impressions VARCHAR(100),\n",
    "            Clicks VARCHAR(100),\n",
    "            Campaign_metabase VARCHAR(100)\n",
    "            )\"\"\".format(tableName)\n",
    " \n",
    "        sql_insert_statement = \"\"\"INSERT INTO {}( \n",
    "            Day,\n",
    "            Campaign,\n",
    "            Region,\n",
    "            Cost,\n",
    "            Impressions,\n",
    "            Clicks,\n",
    "            Campaign_metabase)\n",
    "        VALUES ( %s,%s,%s,%s,%s,%s,%s)\"\"\".format(tableName)\n",
    "# Here we create a cursor, which we will use to execute the MySQL statements above. After each statement is executed, a message will be printed to the console if the execution was successful.\n",
    "        cursor = connection.cursor()\n",
    "        cursor.execute(sql_drop)\n",
    "        print('Table {} has been dropped'.format(tableName))\n",
    "        cursor.execute(sql_create_table)\n",
    "        print('Table {} has been created'.format(tableName))\n",
    "# We need to write each row of data to the table, so we use a for loop that will insert each row of data one at a time\n",
    "        for i in sql_data:\n",
    "            cursor.execute(sql_insert_statement, i)\n",
    "# Now we execute the commit statement, and print to the console that the table was updated successfully\n",
    "        connection.commit()\n",
    "        print(\"Table {} successfully updated.\".format(tableName))\n",
    "# Errors are handled in the except block, and we will get the information printed to the console if there is an error\n",
    "    except mysql.connector.Error as error :\n",
    "        connection.rollback()\n",
    "        print(\"Error: {}. Table {} not updated!\".format(error, tableName))\n",
    "# We need to close the cursor and the connection, and this needs to be done regardless of what happened above.\n",
    "    finally:\n",
    "        cursor.execute('SELECT COUNT(*) FROM {}'.format(tableName))\n",
    "        rowCount = cursor.fetchone()[0]\n",
    "        print(tableName, 'row count:', rowCount)\n",
    "        if connection.is_connected():\n",
    "            cursor.close()\n",
    "            connection.close()\n",
    "            print(\"MySQL connection is closed.\")"
   ],
   "metadata": {
    "collapsed": false,
    "ExecuteTime": {
     "start_time": "2024-05-16T07:32:10.303088800Z"
    }
   },
   "id": "19b67c808a3817aa",
   "execution_count": null
  },
  {
   "cell_type": "code",
   "outputs": [],
   "source": [
    "PreserveNULLValues(data2)\n",
    "WriteToMySQLTable2(data2, 'marketing_adwords')"
   ],
   "metadata": {
    "collapsed": false,
    "ExecuteTime": {
     "start_time": "2024-05-16T07:32:10.309712500Z"
    }
   },
   "id": "b9464aab7a067bda",
   "execution_count": null
  }
 ],
 "metadata": {
  "kernelspec": {
   "display_name": "Python 3 (ipykernel)",
   "language": "python",
   "name": "python3"
  },
  "language_info": {
   "codemirror_mode": {
    "name": "ipython",
    "version": 3
   },
   "file_extension": ".py",
   "mimetype": "text/x-python",
   "name": "python",
   "nbconvert_exporter": "python",
   "pygments_lexer": "ipython3",
   "version": "3.11.5"
  }
 },
 "nbformat": 4,
 "nbformat_minor": 5
}
