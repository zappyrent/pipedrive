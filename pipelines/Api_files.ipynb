{
 "cells": [
  {
   "cell_type": "code",
   "outputs": [],
   "source": [
    "import requests\n",
    "import pandas as pd\n",
    "from pandas import json_normalize\n",
    "from IPython.display import display\n",
    "import gspread\n",
    "import mysqlcredentials as mc\n",
    "import mysql.connector\n",
    "from oauth2client.service_account import ServiceAccountCredentials\n",
    "import json\n",
    "from datetime import datetime"
   ],
   "metadata": {
    "collapsed": false,
    "ExecuteTime": {
     "end_time": "2024-05-03T12:41:59.932755700Z",
     "start_time": "2024-05-03T12:41:57.327469200Z"
    }
   },
   "id": "e5684e35f79e9c69",
   "execution_count": 1
  },
  {
   "cell_type": "markdown",
   "source": [
    "# Leads"
   ],
   "metadata": {
    "collapsed": false
   },
   "id": "665cc61e9435d2b2"
  },
  {
   "cell_type": "code",
   "outputs": [],
   "source": [
    "# Replace 'YOUR_API_TOKEN' with your Pipedrive API token\n",
    "api_token = '2be723d875edae489bdce028746e35bef6e3db80'\n",
    "\n",
    "# Base URL for the Pipedrive leads endpoint\n",
    "base_url = 'https://zappyrent.pipedrive.com/v1/leads'\n",
    "\n",
    "# Common request parameters (including your API token)\n",
    "common_params = {\n",
    "    'api_token': api_token,\n",
    "    'start': 0,       # The first page index\n",
    "    'limit': 500,     # The number of records per page\n",
    "}"
   ],
   "metadata": {
    "collapsed": false,
    "ExecuteTime": {
     "end_time": "2024-05-03T12:41:59.965977600Z",
     "start_time": "2024-05-03T12:41:59.934772700Z"
    }
   },
   "id": "114fa59bdc2b4d89",
   "execution_count": 2
  },
  {
   "cell_type": "code",
   "outputs": [],
   "source": [
    "# Initialize a list to store all records\n",
    "all_leads = []\n",
    "\n",
    "while True:\n",
    "    # Make a GET request to fetch leads\n",
    "    response = requests.get(base_url, params=common_params)\n",
    "\n",
    "    # Check if the request was successful (status code 200)\n",
    "    if response.status_code == 200:\n",
    "        data = response.json()\n",
    "        leads = data['data']\n",
    "\n",
    "        # Add leads to the main list\n",
    "        all_leads.extend(leads)\n",
    "\n",
    "        # Check if there are more pages to be fetched\n",
    "        pagination_info = data['additional_data']['pagination']\n",
    "        if not pagination_info['more_items_in_collection']:\n",
    "            break\n",
    "\n",
    "        # Update the 'start' value for the next page\n",
    "        common_params['start'] += common_params['limit']\n",
    "    else:\n",
    "        print(f\"Request error: {response.status_code} - {response.text}\")\n",
    "        break"
   ],
   "metadata": {
    "collapsed": false,
    "ExecuteTime": {
     "end_time": "2024-05-03T12:54:56.357240100Z",
     "start_time": "2024-05-03T12:41:59.952980Z"
    }
   },
   "id": "7294fcf37480b0a0",
   "execution_count": 3
  },
  {
   "cell_type": "code",
   "outputs": [
    {
     "name": "stdout",
     "output_type": "stream",
     "text": [
      "Total leads found: 216419\n"
     ]
    }
   ],
   "source": [
    "# 'all_leads' now contains all leads in list format\n",
    "df_leads = json_normalize(all_leads)\n",
    "df_leads.to_csv(r'C:\\Users\\PowerBI\\Desktop\\Power BI\\pipedrive\\dashboard_files\\leads.txt',sep='\\t',encoding='utf-8')\n",
    "print(f\"Total leads found: {len(all_leads)}\")"
   ],
   "metadata": {
    "collapsed": false,
    "ExecuteTime": {
     "end_time": "2024-05-03T14:45:43.553059700Z",
     "start_time": "2024-05-03T14:45:28.280199800Z"
    }
   },
   "id": "175d56f0530ed63f",
   "execution_count": 124
  },
  {
   "cell_type": "code",
   "outputs": [
    {
     "data": {
      "text/plain": "                                     id        title  owner_id  creator_id  \\\n0  89c69fc0-dbb2-11ec-b73e-af821b3fa46a  dsfsre lead  14243005    14243005   \n1  290a09f0-e8d3-11ec-93ed-e13389699fb6        23099  15071558    14243005   \n2  a703d500-e8df-11ec-b717-4da453e201f8        23106  14243005    14243005   \n3  bf329c90-e8e6-11ec-8286-f1657ee68585        23108  14243005    14243005   \n4  e878af10-e8e9-11ec-8ed8-6530d0eb3efe        23111  14243005    14243005   \n\n  label_ids  value expected_close_date  person_id  organization_id  \\\n0        []    NaN                None        NaN              NaN   \n1        []    NaN                None       36.0              NaN   \n2        []    NaN                None       43.0              NaN   \n3        []    NaN                None       45.0              NaN   \n4        []    NaN                None       48.0              NaN   \n\n   is_archived  ... ebafffbe882cf7add8fc2f39f0f1545a8a644bcd  \\\n0         True  ...                                      NaN   \n1         True  ...                                      NaN   \n2         True  ...                                      NaN   \n3         True  ...                                      NaN   \n4         True  ...                                      NaN   \n\n  6d531eec678f16a3bd63c414c4dc5a6310ca32db  \\\n0                                      NaN   \n1                                      NaN   \n2                                      NaN   \n3                                      NaN   \n4                                      NaN   \n\n  81cd4ac0649ffbe517006a8ab9a205f54d599d08  \\\n0                                      NaN   \n1                                      NaN   \n2                                      NaN   \n3                                      NaN   \n4                                      NaN   \n\n  f1ba7aa9ea84dd08a93dd2b5847ff70ebfb517ed  \\\n0                                      NaN   \n1                                      NaN   \n2                                      NaN   \n3                                      NaN   \n4                                      NaN   \n\n  1b01467fb3947caaa5d55ffc13457786d1edded1  \\\n0                                      NaN   \n1                                      NaN   \n2                                      NaN   \n3                                      NaN   \n4                                      NaN   \n\n   e7200b1990890527058a4df0f75976c7559f64fd  \\\n0                                       NaN   \n1                                       NaN   \n2                                       NaN   \n3                                       NaN   \n4                                       NaN   \n\n   c61aa7beae8120f1eeae79becaeb77321f7b88f5  \\\n0                                       NaN   \n1                                       NaN   \n2                                       NaN   \n3                                       NaN   \n4                                       NaN   \n\n  524a9902a56a12b832b0571105470c3fa8daf990  \\\n0                                      NaN   \n1                                      NaN   \n2                                      NaN   \n3                                      NaN   \n4                                      NaN   \n\n  eef838068043fa723f3ada7f366af5d138aba01a  \\\n0                                      NaN   \n1                                      NaN   \n2                                      NaN   \n3                                      NaN   \n4                                      NaN   \n\n   8b4f04ce85d872c702e9ad430b709cead479d991  \n0                                       NaN  \n1                                       NaN  \n2                                       NaN  \n3                                       NaN  \n4                                       NaN  \n\n[5 rows x 52 columns]",
      "text/html": "<div>\n<style scoped>\n    .dataframe tbody tr th:only-of-type {\n        vertical-align: middle;\n    }\n\n    .dataframe tbody tr th {\n        vertical-align: top;\n    }\n\n    .dataframe thead th {\n        text-align: right;\n    }\n</style>\n<table border=\"1\" class=\"dataframe\">\n  <thead>\n    <tr style=\"text-align: right;\">\n      <th></th>\n      <th>id</th>\n      <th>title</th>\n      <th>owner_id</th>\n      <th>creator_id</th>\n      <th>label_ids</th>\n      <th>value</th>\n      <th>expected_close_date</th>\n      <th>person_id</th>\n      <th>organization_id</th>\n      <th>is_archived</th>\n      <th>...</th>\n      <th>ebafffbe882cf7add8fc2f39f0f1545a8a644bcd</th>\n      <th>6d531eec678f16a3bd63c414c4dc5a6310ca32db</th>\n      <th>81cd4ac0649ffbe517006a8ab9a205f54d599d08</th>\n      <th>f1ba7aa9ea84dd08a93dd2b5847ff70ebfb517ed</th>\n      <th>1b01467fb3947caaa5d55ffc13457786d1edded1</th>\n      <th>e7200b1990890527058a4df0f75976c7559f64fd</th>\n      <th>c61aa7beae8120f1eeae79becaeb77321f7b88f5</th>\n      <th>524a9902a56a12b832b0571105470c3fa8daf990</th>\n      <th>eef838068043fa723f3ada7f366af5d138aba01a</th>\n      <th>8b4f04ce85d872c702e9ad430b709cead479d991</th>\n    </tr>\n  </thead>\n  <tbody>\n    <tr>\n      <th>0</th>\n      <td>89c69fc0-dbb2-11ec-b73e-af821b3fa46a</td>\n      <td>dsfsre lead</td>\n      <td>14243005</td>\n      <td>14243005</td>\n      <td>[]</td>\n      <td>NaN</td>\n      <td>None</td>\n      <td>NaN</td>\n      <td>NaN</td>\n      <td>True</td>\n      <td>...</td>\n      <td>NaN</td>\n      <td>NaN</td>\n      <td>NaN</td>\n      <td>NaN</td>\n      <td>NaN</td>\n      <td>NaN</td>\n      <td>NaN</td>\n      <td>NaN</td>\n      <td>NaN</td>\n      <td>NaN</td>\n    </tr>\n    <tr>\n      <th>1</th>\n      <td>290a09f0-e8d3-11ec-93ed-e13389699fb6</td>\n      <td>23099</td>\n      <td>15071558</td>\n      <td>14243005</td>\n      <td>[]</td>\n      <td>NaN</td>\n      <td>None</td>\n      <td>36.0</td>\n      <td>NaN</td>\n      <td>True</td>\n      <td>...</td>\n      <td>NaN</td>\n      <td>NaN</td>\n      <td>NaN</td>\n      <td>NaN</td>\n      <td>NaN</td>\n      <td>NaN</td>\n      <td>NaN</td>\n      <td>NaN</td>\n      <td>NaN</td>\n      <td>NaN</td>\n    </tr>\n    <tr>\n      <th>2</th>\n      <td>a703d500-e8df-11ec-b717-4da453e201f8</td>\n      <td>23106</td>\n      <td>14243005</td>\n      <td>14243005</td>\n      <td>[]</td>\n      <td>NaN</td>\n      <td>None</td>\n      <td>43.0</td>\n      <td>NaN</td>\n      <td>True</td>\n      <td>...</td>\n      <td>NaN</td>\n      <td>NaN</td>\n      <td>NaN</td>\n      <td>NaN</td>\n      <td>NaN</td>\n      <td>NaN</td>\n      <td>NaN</td>\n      <td>NaN</td>\n      <td>NaN</td>\n      <td>NaN</td>\n    </tr>\n    <tr>\n      <th>3</th>\n      <td>bf329c90-e8e6-11ec-8286-f1657ee68585</td>\n      <td>23108</td>\n      <td>14243005</td>\n      <td>14243005</td>\n      <td>[]</td>\n      <td>NaN</td>\n      <td>None</td>\n      <td>45.0</td>\n      <td>NaN</td>\n      <td>True</td>\n      <td>...</td>\n      <td>NaN</td>\n      <td>NaN</td>\n      <td>NaN</td>\n      <td>NaN</td>\n      <td>NaN</td>\n      <td>NaN</td>\n      <td>NaN</td>\n      <td>NaN</td>\n      <td>NaN</td>\n      <td>NaN</td>\n    </tr>\n    <tr>\n      <th>4</th>\n      <td>e878af10-e8e9-11ec-8ed8-6530d0eb3efe</td>\n      <td>23111</td>\n      <td>14243005</td>\n      <td>14243005</td>\n      <td>[]</td>\n      <td>NaN</td>\n      <td>None</td>\n      <td>48.0</td>\n      <td>NaN</td>\n      <td>True</td>\n      <td>...</td>\n      <td>NaN</td>\n      <td>NaN</td>\n      <td>NaN</td>\n      <td>NaN</td>\n      <td>NaN</td>\n      <td>NaN</td>\n      <td>NaN</td>\n      <td>NaN</td>\n      <td>NaN</td>\n      <td>NaN</td>\n    </tr>\n  </tbody>\n</table>\n<p>5 rows × 52 columns</p>\n</div>"
     },
     "execution_count": 125,
     "metadata": {},
     "output_type": "execute_result"
    }
   ],
   "source": [
    "df_leads.head()"
   ],
   "metadata": {
    "collapsed": false,
    "ExecuteTime": {
     "end_time": "2024-05-03T14:45:43.632748600Z",
     "start_time": "2024-05-03T14:45:43.555058Z"
    }
   },
   "id": "cbf193d1d9932674",
   "execution_count": 125
  },
  {
   "cell_type": "code",
   "outputs": [],
   "source": [
    "df_leads.rename(columns={\"71c903148dc11457f69aba83f90dc9d0ee7d57fb\": \"available_date\",\n",
    "                         \"e30d58a6ee435dd8c768a7c68abe54f72f53baa9\": \"mkt_acquisition_channel\",\n",
    "                         \"6bd95fa18eb839a1b909b550d7316dd8afb59f4f\": \"mkt_city_campaigns\",\n",
    "                         \"c7a0f20bd13245a3c3b459b5426ccd1c61782ae1\": \"mkt_acquisition_campaigns\",\n",
    "                         \"a15519619a00909f08af00216ea4c2ffb3963164\": \"cancelled_reason\",\n",
    "                         \"252a7fb8fdcdd7ff687c33d1bce5f964b874000b\": \"property_status\",\n",
    "                         \"e605cdbbb061dd00ea8252d1b410830cfac0de66\": \"property_type\",\n",
    "                         \"9c0928ae67f7b8698c4012ec4bbf334f23cf1a11\": \"uranus_dashboard\",\n",
    "                         \"974d7808fa9de9ee49266f33fabb309b109a1685\": \"property_id\",\n",
    "                         \"2c4832f2c2dca397c70c64bf0a478dbae635bff6\": \"city\",\n",
    "                         \"f4dc2b3f8b7965df490dc8b3c25fcbd090ec2b6d\": \"note\",\n",
    "                         \"e98d1f8ff53a34773103a9f2ce9b3ff6199537c5\": \"archived\",\n",
    "                         \"eaa56d256066650c5bb0a3b625f71dd6817eea28\": \"Lead created - Date\",\n",
    "                         \"8ce2908bbeeee7f6890ed042dc29f76c2840c5a9\": \"URL\",\n",
    "                         \"921f82c3f329d8eb8169864481113d0822472848\": \"Myphoner\",\n",
    "                         \"8eb0af5491820792745791a5c568447a11a6d1f7\": \"mkt_acquisition_source\",\n",
    "                         \"f1ba7aa9ea84dd08a93dd2b5847ff70ebfb517ed\": \"mkt_acquisition_content\",\n",
    "                         \"ebafffbe882cf7add8fc2f39f0f1545a8a644bcd\": \"Hinterland\",\n",
    "                         \"e7200b1990890527058a4df0f75976c7559f64fd\": \"mkt_acquisition_medium\",\n",
    "                         \"1b01467fb3947caaa5d55ffc13457786d1edded1\": \"mkt_acquisition_term\",\n",
    "                         \"6d531eec678f16a3bd63c414c4dc5a6310ca32db\": \"ref_code\",\n",
    "                         \"81cd4ac0649ffbe517006a8ab9a205f54d599d08\": \"referral_id\",\n",
    "                         \"c61aa7beae8120f1eeae79becaeb77321f7b88f5\": \"Address\",\n",
    "                         \"524a9902a56a12b832b0571105470c3fa8daf990\": \"Interessato\",\n",
    "                         \"eef838068043fa723f3ada7f366af5d138aba01a\": \"Aircall Tags\",\n",
    "                         \"8b4f04ce85d872c702e9ad430b709cead479d991\": \"Qualified Ready nel passato\",\n",
    "                         \"9869bde30bf6179eceeaaa12372ce9a918b1b41d\": \"codfisc\",\n",
    "                         \"158a26b7724e3ba1a3096cc0096344efa03aa24d\": \"Archiviation Date (Later)\", \"id\": \"lead.id\"},\n",
    "                inplace=True)"
   ],
   "metadata": {
    "collapsed": false,
    "ExecuteTime": {
     "end_time": "2024-05-03T14:45:43.635642300Z",
     "start_time": "2024-05-03T14:45:43.594425900Z"
    }
   },
   "id": "fe89af07d1603e84",
   "execution_count": 126
  },
  {
   "cell_type": "code",
   "outputs": [],
   "source": [
    "df_leads['add_time'] = pd.to_datetime(df_leads['add_time'])"
   ],
   "metadata": {
    "collapsed": false,
    "ExecuteTime": {
     "end_time": "2024-05-03T14:45:48.646968200Z",
     "start_time": "2024-05-03T14:45:43.611669300Z"
    }
   },
   "id": "79b8ea384f19cba0",
   "execution_count": 127
  },
  {
   "cell_type": "code",
   "outputs": [],
   "source": [
    "df_leads['update_time'] = pd.to_datetime(df_leads['update_time'])"
   ],
   "metadata": {
    "collapsed": false,
    "ExecuteTime": {
     "end_time": "2024-05-03T14:45:50.246358100Z",
     "start_time": "2024-05-03T14:45:48.646968200Z"
    }
   },
   "id": "61129bf4efb9ff87",
   "execution_count": 128
  },
  {
   "cell_type": "code",
   "outputs": [],
   "source": [
    "df_leads['Lead created - Date'] = pd.to_datetime(df_leads['Lead created - Date'])"
   ],
   "metadata": {
    "collapsed": false,
    "ExecuteTime": {
     "end_time": "2024-05-03T14:45:50.307250Z",
     "start_time": "2024-05-03T14:45:50.249351200Z"
    }
   },
   "id": "ee2e597d2c071145",
   "execution_count": 129
  },
  {
   "cell_type": "markdown",
   "source": [
    "### Lead Preproccessing"
   ],
   "metadata": {
    "collapsed": false
   },
   "id": "46d8886c91f445d1"
  },
  {
   "cell_type": "code",
   "outputs": [],
   "source": [
    "df_leads['label_ids'] = 0"
   ],
   "metadata": {
    "collapsed": false,
    "ExecuteTime": {
     "end_time": "2024-05-03T14:45:50.350236Z",
     "start_time": "2024-05-03T14:45:50.294230400Z"
    }
   },
   "id": "52b7c1a5ffa47876",
   "execution_count": 130
  },
  {
   "cell_type": "code",
   "outputs": [],
   "source": [
    "df_leads = df_leads.fillna('NaN')"
   ],
   "metadata": {
    "collapsed": false,
    "ExecuteTime": {
     "end_time": "2024-05-03T14:45:51.300421700Z",
     "start_time": "2024-05-03T14:45:50.301240600Z"
    }
   },
   "id": "68e41d0b95811aaa",
   "execution_count": 131
  },
  {
   "cell_type": "code",
   "outputs": [
    {
     "data": {
      "text/plain": "215583                    mettere casa in affitto\n215584                 agenzia per affittare casa\n215599                     affittare casa propria\n215621                             affittare casa\n215627                             affittare casa\n215628                             affittare casa\n215634                  affittare la propria casa\n215658                 agenzia per affittare casa\n215688                 agenzia per affittare casa\n215691                                           \n215731                             affittare casa\n215776              gestione appartamenti firenze\n215794                 agenzia per affittare casa\n215795                       agenzia affitto casa\n215796                 agenzia per affittare casa\n215818                    mettere casa in affitto\n215820                      gestione appartamenti\n215821                       agenzia affitto casa\n215855                                        NaN\n215867                       agenzia affitto casa\n215887                 agenzia per affittare casa\n215889    come mettere in affitto un appartamento\n215893                       agenzia affitto casa\n215894                       agenzia affitto casa\n215895                       agenzia affitto casa\n215943                    mettere casa in affitto\n215989                 agenzia per affittare casa\n216036    come mettere in affitto un appartamento\n216037                         affittare casa mia\n216041                             affittare casa\n216045                             affittare casa\n216059                        come affittare casa\n216066                 agenzia per affittare casa\n216105                             affittare casa\n216122                 agenzia per affittare casa\n216247    come mettere in affitto un appartamento\n216254                             affittare casa\n216259                       agenzia affitto casa\n216260                       agenzia affitto casa\n216264                             affittare casa\n216267                             affittare casa\n216273                      gestione affitti roma\n216284                       agenzia affitto casa\n216294                             affittare casa\n216295                             affittare casa\n216300                         affittare casa mia\n216306                 agenzia per affittare casa\n216417           gestione appartamenti in affitto\nName: mkt_acquisition_term, dtype: object"
     },
     "execution_count": 132,
     "metadata": {},
     "output_type": "execute_result"
    }
   ],
   "source": [
    "df_leads['mkt_acquisition_term'][(df_leads['mkt_acquisition_channel'] == 'cpc') & (df_leads['cancelled_reason'] != '') & (df_leads['add_time'] >= '2024-04-01') ]"
   ],
   "metadata": {
    "collapsed": false,
    "ExecuteTime": {
     "end_time": "2024-05-03T14:45:51.414845600Z",
     "start_time": "2024-05-03T14:45:51.303422500Z"
    }
   },
   "id": "5ecd6ffc0c4f7492",
   "execution_count": 132
  },
  {
   "cell_type": "code",
   "outputs": [],
   "source": [
    "df_leads['mkt_acquisition_term'] = df_leads['mkt_acquisition_term'].str.replace(' ', '_')\n"
   ],
   "metadata": {
    "collapsed": false,
    "ExecuteTime": {
     "end_time": "2024-05-03T14:45:56.738170900Z",
     "start_time": "2024-05-03T14:45:56.622275100Z"
    }
   },
   "id": "1572a9c505e71a54",
   "execution_count": 133
  },
  {
   "cell_type": "code",
   "outputs": [
    {
     "ename": "TypeError",
     "evalue": "list indices must be integers or slices, not str",
     "output_type": "error",
     "traceback": [
      "\u001B[1;31m---------------------------------------------------------------------------\u001B[0m",
      "\u001B[1;31mTypeError\u001B[0m                                 Traceback (most recent call last)",
      "Cell \u001B[1;32mIn[136], line 1\u001B[0m\n\u001B[1;32m----> 1\u001B[0m df_leads[(df_leads[\u001B[38;5;124m'\u001B[39m\u001B[38;5;124mmkt_acquisition_channel\u001B[39m\u001B[38;5;124m'\u001B[39m]\u001B[38;5;241m==\u001B[39m\u001B[38;5;124m'\u001B[39m\u001B[38;5;124mcpc\u001B[39m\u001B[38;5;124m'\u001B[39m) \u001B[38;5;241m&\u001B[39m (df_leads[\u001B[38;5;124m'\u001B[39m\u001B[38;5;124madd_time\u001B[39m\u001B[38;5;124m'\u001B[39m] \u001B[38;5;241m>\u001B[39m\u001B[38;5;241m=\u001B[39m \u001B[38;5;124m'\u001B[39m\u001B[38;5;124m2024-04-01\u001B[39m\u001B[38;5;124m'\u001B[39m)]\n",
      "\u001B[1;31mTypeError\u001B[0m: list indices must be integers or slices, not str"
     ]
    }
   ],
   "source": [
    "df_leads[(df_leads['mkt_acquisition_channel']=='cpc') & (df_leads['add_time'] >= '2024-04-01')]"
   ],
   "metadata": {
    "collapsed": false,
    "ExecuteTime": {
     "end_time": "2024-05-03T14:46:43.551470700Z",
     "start_time": "2024-05-03T14:46:43.442533600Z"
    }
   },
   "id": "5f41bc9f219bc1e0",
   "execution_count": 136
  },
  {
   "cell_type": "code",
   "outputs": [],
   "source": [
    "df_leads = df_leads.values.tolist()"
   ],
   "metadata": {
    "collapsed": false,
    "ExecuteTime": {
     "end_time": "2024-05-03T14:46:37.446423300Z",
     "start_time": "2024-05-03T14:46:33.872793700Z"
    }
   },
   "id": "207e794d2e077eda",
   "execution_count": 135
  },
  {
   "cell_type": "markdown",
   "source": [
    "# Person"
   ],
   "metadata": {
    "collapsed": false
   },
   "id": "bd123d78556ad420"
  },
  {
   "cell_type": "code",
   "outputs": [],
   "source": [
    "## Person\n",
    "# Replace 'YOUR_API_TOKEN' with your Pipedrive API token\n",
    "api_token = '2be723d875edae489bdce028746e35bef6e3db80'\n",
    "\n",
    "# Base URL for the Pipedrive leads endpoint\n",
    "base_url = ('https://zappyrent.pipedrive.com/v1/persons')\n",
    "\n",
    "# Common request parameters (including your API token)\n",
    "common_params = {\n",
    "    'api_token': api_token,\n",
    "    'start': 0,  # The first page index\n",
    "    'limit': 500,  # The number of records per page\n",
    "}\n",
    "\n",
    "# Initialize a list to store all records\n",
    "all_person = []\n",
    "\n",
    "while True:\n",
    "    # Make a GET request to fetch leads\n",
    "    response = requests.get(base_url, params=common_params)\n",
    "\n",
    "    # Check if the request was successful (status code 200)\n",
    "    if response.status_code == 200:\n",
    "        data = response.json()\n",
    "        deals = data['data']\n",
    "\n",
    "        # Add leads to the main list\n",
    "        all_person.extend(deals)\n",
    "\n",
    "        # Check if there are more pages to be fetched\n",
    "        pagination_info = data['additional_data']['pagination']\n",
    "        if not pagination_info['more_items_in_collection']:\n",
    "            break\n",
    "\n",
    "        # Update the 'start' value for the next page\n",
    "        common_params['start'] += common_params['limit']\n",
    "    else:\n",
    "        print(f\"Request error: {response.status_code} - {response.text}\")\n",
    "        break"
   ],
   "metadata": {
    "collapsed": false,
    "ExecuteTime": {
     "end_time": "2024-04-26T11:49:13.397198300Z",
     "start_time": "2024-04-26T11:35:43.315765300Z"
    }
   },
   "id": "90b00cb8ced55b3e",
   "execution_count": 95
  },
  {
   "cell_type": "code",
   "outputs": [
    {
     "name": "stdout",
     "output_type": "stream",
     "text": [
      "Total person found: 255544\n"
     ]
    }
   ],
   "source": [
    "df_person = json_normalize(all_person)\n",
    "df_person.to_csv(r'C:\\Users\\PowerBI\\Desktop\\Power BI\\pipedrive\\dashboard_files\\person.txt', sep='\\t', encoding='utf-8')\n",
    "print(f\"Total person found: {len(all_person)}\")"
   ],
   "metadata": {
    "collapsed": false,
    "ExecuteTime": {
     "end_time": "2024-04-26T11:49:54.917543200Z",
     "start_time": "2024-04-26T11:49:13.440315300Z"
    }
   },
   "id": "e279f313904a05de",
   "execution_count": 96
  },
  {
   "cell_type": "markdown",
   "source": [
    "### Person Preprocessing"
   ],
   "metadata": {
    "collapsed": false
   },
   "id": "e6036115435ee746"
  },
  {
   "cell_type": "code",
   "outputs": [],
   "source": [
    "df_person['email'] = 0\n",
    "df_person['label_ids'] = 0\n",
    "df_person['im'] = 0\n",
    "df_person['org_id.label_ids'] = 0"
   ],
   "metadata": {
    "collapsed": false,
    "ExecuteTime": {
     "end_time": "2024-04-26T11:49:54.947490200Z",
     "start_time": "2024-04-26T11:49:54.917543200Z"
    }
   },
   "id": "75e4155a98c17a14",
   "execution_count": 97
  },
  {
   "cell_type": "code",
   "outputs": [],
   "source": [
    "# Extract 'value' from 'phone' column\n",
    "df_person['phone'] = df_person['phone'].apply(lambda x: x[0]['value'] if x else None)"
   ],
   "metadata": {
    "collapsed": false,
    "ExecuteTime": {
     "end_time": "2024-04-26T11:49:55.160768600Z",
     "start_time": "2024-04-26T11:49:54.931647300Z"
    }
   },
   "id": "f0d092947e79a6e3",
   "execution_count": 98
  },
  {
   "cell_type": "code",
   "outputs": [],
   "source": [
    "df_person['add_time'] = pd.to_datetime(df_person['add_time'])"
   ],
   "metadata": {
    "collapsed": false,
    "ExecuteTime": {
     "end_time": "2024-04-26T11:49:55.576876400Z",
     "start_time": "2024-04-26T11:49:55.182374500Z"
    }
   },
   "id": "e08f18622f8ef010",
   "execution_count": 99
  },
  {
   "cell_type": "code",
   "outputs": [],
   "source": [
    "df_person['update_time'] = pd.to_datetime(df_person['update_time'])"
   ],
   "metadata": {
    "collapsed": false,
    "ExecuteTime": {
     "end_time": "2024-04-26T11:49:55.988473300Z",
     "start_time": "2024-04-26T11:49:55.577133700Z"
    }
   },
   "id": "630a714e44b32754",
   "execution_count": 100
  },
  {
   "cell_type": "code",
   "outputs": [],
   "source": [
    "df_person = df_person.fillna('NaN')"
   ],
   "metadata": {
    "collapsed": false,
    "ExecuteTime": {
     "end_time": "2024-04-26T11:49:58.164424900Z",
     "start_time": "2024-04-26T11:49:55.989855500Z"
    }
   },
   "id": "e1415bc73f66173a",
   "execution_count": 101
  },
  {
   "cell_type": "code",
   "outputs": [],
   "source": [
    "df_person = df_person.values.tolist()"
   ],
   "metadata": {
    "collapsed": false,
    "ExecuteTime": {
     "end_time": "2024-04-26T11:50:02.062070700Z",
     "start_time": "2024-04-26T11:49:58.168903400Z"
    }
   },
   "id": "f2c1cf606c541d23",
   "execution_count": 102
  },
  {
   "cell_type": "markdown",
   "source": [
    "# Deals"
   ],
   "metadata": {
    "collapsed": false
   },
   "id": "3dc63fd769f5bfaa"
  },
  {
   "cell_type": "code",
   "outputs": [],
   "source": [
    "## DEALS\n",
    "# Replace 'YOUR_API_TOKEN' with your Pipedrive API token\n",
    "api_token = '2be723d875edae489bdce028746e35bef6e3db80'\n",
    "\n",
    "# Base URL for the Pipedrive leads endpoint\n",
    "base_url = ('https://zappyrent.pipedrive.com/v1/deals')\n",
    "\n",
    "# Common request parameters (including your API token)\n",
    "common_params = {\n",
    "    'api_token': api_token,\n",
    "    'start': 0,  # The first page index\n",
    "    'limit': 500,  # The number of records per page\n",
    "}\n",
    "\n",
    "# Initialize a list to store all records\n",
    "all_deals = []\n",
    "\n",
    "while True:\n",
    "    # Make a GET request to fetch leads\n",
    "    response = requests.get(base_url, params=common_params)\n",
    "\n",
    "    # Check if the request was successful (status code 200)\n",
    "    if response.status_code == 200:\n",
    "        data = response.json()\n",
    "        deals = data['data']\n",
    "\n",
    "        # Add leads to the main list\n",
    "        all_deals.extend(deals)\n",
    "\n",
    "        # Check if there are more pages to be fetched\n",
    "        pagination_info = data['additional_data']['pagination']\n",
    "        if not pagination_info['more_items_in_collection']:\n",
    "            break\n",
    "\n",
    "        # Update the 'start' value for the next page\n",
    "        common_params['start'] += common_params['limit']\n",
    "    else:\n",
    "        print(f\"Request error: {response.status_code} - {response.text}\")\n",
    "        break"
   ],
   "metadata": {
    "collapsed": false,
    "ExecuteTime": {
     "end_time": "2024-04-26T11:51:07.117460400Z",
     "start_time": "2024-04-26T11:50:02.061023600Z"
    }
   },
   "id": "80522ec2e1646bc7",
   "execution_count": 103
  },
  {
   "cell_type": "code",
   "outputs": [
    {
     "name": "stdout",
     "output_type": "stream",
     "text": [
      "Total deals found: 30564\n"
     ]
    }
   ],
   "source": [
    "# 'all_leads' now contains all leads in list format\n",
    "df_deals = json_normalize(all_deals)\n",
    "df_deals.to_csv(r'C:\\Users\\PowerBI\\Desktop\\Power BI\\pipedrive\\dashboard_files\\deals.txt', sep='\\t', encoding='utf-8')\n",
    "print(f\"Total deals found: {len(all_deals)}\")"
   ],
   "metadata": {
    "collapsed": false,
    "ExecuteTime": {
     "end_time": "2024-04-26T11:51:13.400631800Z",
     "start_time": "2024-04-26T11:51:07.134531900Z"
    }
   },
   "id": "6bd06e86f2b0160e",
   "execution_count": 104
  },
  {
   "cell_type": "code",
   "outputs": [],
   "source": [
    "df_deals.rename(columns={\"71c903148dc11457f69aba83f90dc9d0ee7d57fb\": \"available_date\",\n",
    "                         \"e30d58a6ee435dd8c768a7c68abe54f72f53baa9\": \"mkt_acquisition_channel\",\n",
    "                         \"6bd95fa18eb839a1b909b550d7316dd8afb59f4f\": \"mkt_city_campaigns\",\n",
    "                         \"c7a0f20bd13245a3c3b459b5426ccd1c61782ae1\": \"mkt_acquisition_campaigns\",\n",
    "                         \"a15519619a00909f08af00216ea4c2ffb3963164\": \"cancelled_reason\",\n",
    "                         \"252a7fb8fdcdd7ff687c33d1bce5f964b874000b\": \"property_status\",\n",
    "                         \"e605cdbbb061dd00ea8252d1b410830cfac0de66\": \"property_type\",\n",
    "                         \"9c0928ae67f7b8698c4012ec4bbf334f23cf1a11\": \"uranus_dashboard\",\n",
    "                         \"974d7808fa9de9ee49266f33fabb309b109a1685\": \"property_id\",\n",
    "                         \"2c4832f2c2dca397c70c64bf0a478dbae635bff6\": \"city\",\n",
    "                         \"f4dc2b3f8b7965df490dc8b3c25fcbd090ec2b6d\": \"note\",\n",
    "                         \"e98d1f8ff53a34773103a9f2ce9b3ff6199537c5\": \"archived\",\n",
    "                         \"eaa56d256066650c5bb0a3b625f71dd6817eea28\": \"Lead created - Date\",\n",
    "                         \"8ce2908bbeeee7f6890ed042dc29f76c2840c5a9\": \"URL\",\n",
    "                         \"921f82c3f329d8eb8169864481113d0822472848\": \"Myphoner\",\n",
    "                         \"8eb0af5491820792745791a5c568447a11a6d1f7\": \"mkt_acquisition_source\",\n",
    "                         \"f1ba7aa9ea84dd08a93dd2b5847ff70ebfb517ed\": \"mkt_acquisition_content\",\n",
    "                         \"ebafffbe882cf7add8fc2f39f0f1545a8a644bcd\": \"Hinterland\",\n",
    "                         \"e7200b1990890527058a4df0f75976c7559f64fd\": \"mkt_acquisition_medium\",\n",
    "                         \"1b01467fb3947caaa5d55ffc13457786d1edded1\": \"mkt_acquisition_term\",\n",
    "                         \"6d531eec678f16a3bd63c414c4dc5a6310ca32db\": \"ref_code\",\n",
    "                         \"81cd4ac0649ffbe517006a8ab9a205f54d599d08\": \"referral_id\",\n",
    "                         \"c61aa7beae8120f1eeae79becaeb77321f7b88f5\": \"Address\",\n",
    "                         \"524a9902a56a12b832b0571105470c3fa8daf990\": \"Interessato\",\n",
    "                         \"eef838068043fa723f3ada7f366af5d138aba01a\": \"Aircall Tags\",\n",
    "                         \"8b4f04ce85d872c702e9ad430b709cead479d991\": \"Qualified Ready nel passato\",\n",
    "                         \"9869bde30bf6179eceeaaa12372ce9a918b1b41d\": \"codfisc\",\n",
    "                         \"158a26b7724e3ba1a3096cc0096344efa03aa24d\": \"Archiviation Date (Later)\", \"id\": \"deal.id\"},\n",
    "                inplace=True)"
   ],
   "metadata": {
    "collapsed": false,
    "ExecuteTime": {
     "end_time": "2024-04-26T11:51:13.431336300Z",
     "start_time": "2024-04-26T11:51:13.394780800Z"
    }
   },
   "id": "644baddb87a60bca",
   "execution_count": 105
  },
  {
   "cell_type": "markdown",
   "source": [
    "### Deals Preprocessing"
   ],
   "metadata": {
    "collapsed": false
   },
   "id": "e7dd71abc8e7bc94"
  },
  {
   "cell_type": "code",
   "outputs": [],
   "source": [
    "df_deals['person_id.email'] = 0\n",
    "df_deals['person_id.phone'] = 0\n",
    "df_deals['org_id.label_ids'] = 0"
   ],
   "metadata": {
    "collapsed": false,
    "ExecuteTime": {
     "end_time": "2024-04-26T11:51:13.505989400Z",
     "start_time": "2024-04-26T11:51:13.413793500Z"
    }
   },
   "id": "91a87258dda69eba",
   "execution_count": 106
  },
  {
   "cell_type": "code",
   "outputs": [],
   "source": [
    "df_deals['add_time'] = pd.to_datetime(df_deals['add_time'])"
   ],
   "metadata": {
    "collapsed": false,
    "ExecuteTime": {
     "end_time": "2024-04-26T11:51:13.616158300Z",
     "start_time": "2024-04-26T11:51:13.427689300Z"
    }
   },
   "id": "8417b92c30922f4c",
   "execution_count": 107
  },
  {
   "cell_type": "code",
   "outputs": [],
   "source": [
    "df_deals['update_time'] = pd.to_datetime(df_deals['update_time'])"
   ],
   "metadata": {
    "collapsed": false,
    "ExecuteTime": {
     "end_time": "2024-04-26T11:51:13.708562500Z",
     "start_time": "2024-04-26T11:51:13.599601100Z"
    }
   },
   "id": "5c735b9ca48d52ec",
   "execution_count": 108
  },
  {
   "cell_type": "code",
   "outputs": [],
   "source": [
    "df_deals['Lead created - Date'] = pd.to_datetime(df_deals['Lead created - Date'])"
   ],
   "metadata": {
    "collapsed": false,
    "ExecuteTime": {
     "end_time": "2024-04-26T11:51:13.749164900Z",
     "start_time": "2024-04-26T11:51:13.657625200Z"
    }
   },
   "id": "d4ea57037c92da49",
   "execution_count": 109
  },
  {
   "cell_type": "code",
   "outputs": [],
   "source": [
    "df_deals['won_time'] = pd.to_datetime(df_deals['won_time'])"
   ],
   "metadata": {
    "collapsed": false,
    "ExecuteTime": {
     "end_time": "2024-04-26T11:51:13.787500300Z",
     "start_time": "2024-04-26T11:51:13.676089600Z"
    }
   },
   "id": "47520626e8890171",
   "execution_count": 110
  },
  {
   "cell_type": "code",
   "outputs": [],
   "source": [
    "df_deals = df_deals.fillna('NaN')"
   ],
   "metadata": {
    "collapsed": false,
    "ExecuteTime": {
     "end_time": "2024-04-26T11:51:14.180048800Z",
     "start_time": "2024-04-26T11:51:13.722988100Z"
    }
   },
   "id": "6f3e79d44f70cdb1",
   "execution_count": 111
  },
  {
   "cell_type": "code",
   "outputs": [],
   "source": [
    "df_deals = df_deals.values.tolist()"
   ],
   "metadata": {
    "collapsed": false,
    "ExecuteTime": {
     "end_time": "2024-04-26T11:51:14.805198800Z",
     "start_time": "2024-04-26T11:51:14.185469Z"
    }
   },
   "id": "7b737196251c3d26",
   "execution_count": 112
  },
  {
   "cell_type": "code",
   "outputs": [],
   "source": [
    "# define method to write list of data to MySQL table\n",
    "def WriteToMySQLTable(sql_data, tableName):\n",
    "    try:\n",
    "        connection = mysql.connector.connect(\n",
    "            user=mc.user,\n",
    "            password=mc.password,\n",
    "            host=mc.host,\n",
    "            database=mc.database)\n",
    "        sql_drop = \" DROP TABLE IF EXISTS {} \".format(tableName)\n",
    "        sql_create_table = \"\"\"CREATE TABLE {}( \n",
    "            deal_id VARCHAR(100),\n",
    "            org_id VARCHAR(100),\n",
    "            stage_id VARCHAR(100),\n",
    "            title VARCHAR(100),\n",
    "            value VARCHAR(100),\n",
    "            currency VARCHAR(100),\n",
    "            add_time DATE,\n",
    "            update_time DATE,\n",
    "            stage_change_time VARCHAR(100),\n",
    "            active VARCHAR(100),\n",
    "            deleted VARCHAR(100),\n",
    "            status VARCHAR(100),\n",
    "            probability VARCHAR(100),\n",
    "            next_activity_date VARCHAR(100),\n",
    "            next_activity_time VARCHAR(100),\n",
    "            next_activity_id VARCHAR(100),\n",
    "            last_activity_id VARCHAR(100),\n",
    "            last_activity_date VARCHAR(100),\n",
    "            lost_reason VARCHAR(100),\n",
    "            visible_to VARCHAR(100),\n",
    "            close_time VARCHAR(100),\n",
    "            pipeline_id VARCHAR(100),\n",
    "            won_time VARCHAR(100),\n",
    "            first_won_time VARCHAR(100),\n",
    "            lost_time VARCHAR(100),\n",
    "            products_count VARCHAR(100),\n",
    "            files_count VARCHAR(100),\n",
    "            notes_count VARCHAR(100),\n",
    "            followers_count VARCHAR(100),\n",
    "            email_messages_count VARCHAR(100),\n",
    "            activities_count VARCHAR(100),\n",
    "            done_activities_count VARCHAR(100),\n",
    "            undone_activities_count VARCHAR(100),\n",
    "            participants_count VARCHAR(100),\n",
    "            expected_close_date VARCHAR(100),\n",
    "            last_incoming_mail_time VARCHAR(100),\n",
    "            last_outgoing_mail_time VARCHAR(100),\n",
    "            label VARCHAR(100),\n",
    "            local_won_date VARCHAR(100),\n",
    "            local_lost_date VARCHAR(100),\n",
    "            local_close_date VARCHAR(100),\n",
    "            origin VARCHAR(100),\n",
    "            origin_id VARCHAR(100),\n",
    "            channel VARCHAR(100),\n",
    "            channel_id VARCHAR(100),\n",
    "            stage_order_nr VARCHAR(100),\n",
    "            person_name VARCHAR(100),\n",
    "            org_name VARCHAR(100),\n",
    "            next_activity_subject VARCHAR(100),\n",
    "            next_activity_type VARCHAR(100),\n",
    "            next_activity_duration VARCHAR(100),\n",
    "            next_activity_note VARCHAR(100),\n",
    "            formatted_value VARCHAR(100),\n",
    "            weighted_value VARCHAR(100),\n",
    "            formatted_weighted_value VARCHAR(100),\n",
    "            weighted_value_currency VARCHAR(100),\n",
    "            rotten_time VARCHAR(100),\n",
    "            owner_name VARCHAR(100),\n",
    "            cc_email VARCHAR(100),\n",
    "            available_date VARCHAR(100),\n",
    "            mkt_acquisition_channel VARCHAR(100),\n",
    "            mkt_city_campaigns VARCHAR(100),\n",
    "            mkt_acquisition_campaigns VARCHAR(100),\n",
    "            cancelled_reason VARCHAR(100),\n",
    "            property_status VARCHAR(100),\n",
    "            property_type VARCHAR(100),\n",
    "            uranus_dashboard VARCHAR(100),\n",
    "            property_id VARCHAR(100),\n",
    "            city VARCHAR(100),\n",
    "            note VARCHAR(100),\n",
    "            archived VARCHAR(100),\n",
    "            Lead_created_Date DATE,\n",
    "            URL VARCHAR(100),\n",
    "            Myphoner VARCHAR(100),\n",
    "            mkt_acquisition_source VARCHAR(100),\n",
    "            mkt_acquisition_content VARCHAR(100),\n",
    "            Hinterland VARCHAR(100),\n",
    "            mkt_acquisition_medium VARCHAR(100),\n",
    "            mkt_acquisition_term VARCHAR(100),\n",
    "            ref_code VARCHAR(100),\n",
    "            referral_id VARCHAR(100),\n",
    "            Address VARCHAR(100),\n",
    "            Interessato VARCHAR(100),\n",
    "            Aircall_Tags VARCHAR(100),\n",
    "            Qualified_Ready_nel_passato VARCHAR(100),\n",
    "            codfisc VARCHAR(100),\n",
    "            Archiviation_Date_Later VARCHAR(100),\n",
    "            7dad498e50b4e0bc327b113997ed188b832419ab VARCHAR(100),\n",
    "            org_hidden VARCHAR(100),\n",
    "            person_hidden VARCHAR(100),\n",
    "            creator_user_id_id VARCHAR(100),\n",
    "            creator_user_id_name VARCHAR(100),\n",
    "            creator_user_id_email VARCHAR(100),\n",
    "            creator_user_id_has_pic VARCHAR(100),\n",
    "            creator_user_id_pic_hash VARCHAR(100),\n",
    "            creator_user_id_active_flag VARCHAR(100),\n",
    "            creator_user_id_value VARCHAR(100),\n",
    "            user_id_id VARCHAR(100),\n",
    "            user_id_name VARCHAR(100),\n",
    "            user_id_email VARCHAR(100),\n",
    "            user_id_has_pic VARCHAR(100),\n",
    "            user_id_pic_hash VARCHAR(100),\n",
    "            user_id_active_flag VARCHAR(100),\n",
    "            user_id_value VARCHAR(100),\n",
    "            person_id_active_flag VARCHAR(100),\n",
    "            person_id_name VARCHAR(100),\n",
    "            person_id_email VARCHAR(100),\n",
    "            person_id_phone VARCHAR(100),\n",
    "            person_id_owner_id VARCHAR(100),\n",
    "            person_id_value INTEGER,\n",
    "            person_id VARCHAR(100),\n",
    "            org_id_name VARCHAR(100),\n",
    "            org_id_people_count VARCHAR(100),\n",
    "            org_id_owner_id INTEGER,\n",
    "            org_id_address VARCHAR(100),\n",
    "            org_id_active_flag VARCHAR(100),\n",
    "            org_id_cc_email VARCHAR(100),\n",
    "            org_id_label_ids VARCHAR(100),\n",
    "            org_id_owner_name VARCHAR(100),\n",
    "            org_id_value VARCHAR(100)\n",
    "            )\"\"\".format(tableName)\n",
    "\n",
    "        sql_insert_statement = \"\"\"INSERT INTO {}( \n",
    "            deal_id,\n",
    "            org_id,\n",
    "            stage_id,\n",
    "            title,\n",
    "            value,\n",
    "            currency,\n",
    "            add_time,\n",
    "            update_time,\n",
    "            stage_change_time,\n",
    "            active,\n",
    "            deleted,\n",
    "            status,\n",
    "            probability,\n",
    "            next_activity_date,\n",
    "            next_activity_time,\n",
    "            next_activity_id,\n",
    "            last_activity_id,\n",
    "            last_activity_date,\n",
    "            lost_reason,\n",
    "            visible_to,\n",
    "            close_time,\n",
    "            pipeline_id,\n",
    "            won_time,\n",
    "            first_won_time,\n",
    "            lost_time,\n",
    "            products_count,\n",
    "            files_count,\n",
    "            notes_count,\n",
    "            followers_count,\n",
    "            email_messages_count,\n",
    "            activities_count,\n",
    "            done_activities_count,\n",
    "            undone_activities_count,\n",
    "            participants_count,\n",
    "            expected_close_date,\n",
    "            last_incoming_mail_time,\n",
    "            last_outgoing_mail_time,\n",
    "            label,\n",
    "            local_won_date,\n",
    "            local_lost_date,\n",
    "            local_close_date,\n",
    "            origin,\n",
    "            origin_id,\n",
    "            channel,\n",
    "            channel_id,\n",
    "            stage_order_nr,\n",
    "            person_name,\n",
    "            org_name,\n",
    "            next_activity_subject,\n",
    "            next_activity_type,\n",
    "            next_activity_duration,\n",
    "            next_activity_note,\n",
    "            formatted_value,\n",
    "            weighted_value,\n",
    "            formatted_weighted_value,\n",
    "            weighted_value_currency,\n",
    "            rotten_time,\n",
    "            owner_name,\n",
    "            cc_email,\n",
    "            available_date,\n",
    "            mkt_acquisition_channel,\n",
    "            mkt_city_campaigns,\n",
    "            mkt_acquisition_campaigns,\n",
    "            cancelled_reason,\n",
    "            property_status,\n",
    "            property_type,\n",
    "            uranus_dashboard,\n",
    "            property_id,\n",
    "            city,\n",
    "            note,\n",
    "            archived,\n",
    "            Lead_created_Date,\n",
    "            URL,\n",
    "            Myphoner,\n",
    "            mkt_acquisition_source,\n",
    "            mkt_acquisition_content,\n",
    "            Hinterland,\n",
    "            mkt_acquisition_medium,\n",
    "            mkt_acquisition_term,\n",
    "            ref_code,\n",
    "            referral_id,\n",
    "            Address,\n",
    "            Interessato,\n",
    "            Aircall_Tags,\n",
    "            Qualified_Ready_nel_passato,\n",
    "            codfisc,\n",
    "            Archiviation_Date_Later,\n",
    "            7dad498e50b4e0bc327b113997ed188b832419ab,\n",
    "            org_hidden,\n",
    "            person_hidden,\n",
    "            creator_user_id_id,\n",
    "            creator_user_id_name,\n",
    "            creator_user_id_email,\n",
    "            creator_user_id_has_pic,\n",
    "            creator_user_id_pic_hash,\n",
    "            creator_user_id_active_flag,\n",
    "            creator_user_id_value,\n",
    "            user_id_id,\n",
    "            user_id_name,\n",
    "            user_id_email,\n",
    "            user_id_has_pic,\n",
    "            user_id_pic_hash,\n",
    "            user_id_active_flag,\n",
    "            user_id_value,\n",
    "            person_id_active_flag,\n",
    "            person_id_name,\n",
    "            person_id_email,\n",
    "            person_id_phone,\n",
    "            person_id_owner_id,\n",
    "            person_id_value,\n",
    "            person_id,\n",
    "            org_id_name,\n",
    "            org_id_people_count,\n",
    "            org_id_owner_id,\n",
    "            org_id_address,\n",
    "            org_id_active_flag,\n",
    "            org_id_cc_email,\n",
    "            org_id_label_ids,\n",
    "            org_id_owner_name,\n",
    "            org_id_value)\n",
    "        VALUES (%s,%s,%s,%s,%s,%s,%s,%s,%s,%s,%s,%s,%s,%s,%s,%s,%s,%s,%s,%s,%s,%s,%s,%s,%s,%s,%s,%s,%s,%s,%s,%s,%s,%s,%s,%s,%s,%s,%s,%s,%s,%s,%s,%s,%s,%s,%s,%s,%s,%s,%s,%s,%s,%s,%s,%s,%s,%s,%s,%s,%s,%s,%s,%s,%s,%s,%s,%s,%s,%s,%s,%s,%s,%s,%s,%s,%s,%s,%s,%s,%s,%s,%s,%s,%s,%s,%s,%s,%s,%s,%s,%s,%s,%s,%s,%s,%s,%s,%s,%s,%s,%s,%s,%s,%s,%s,%s,%s,%s,%s,%s,%s,%s,%s,%s,%s,%s,%s,%s,%s)\"\"\".format(tableName)\n",
    "        \n",
    "        cursor = connection.cursor()\n",
    "        cursor.execute(sql_drop)\n",
    "        print('Table {} has been dropped'.format(tableName))\n",
    "        cursor.execute(sql_create_table)\n",
    "        print('Table {} has been created'.format(tableName))\n",
    "        \n",
    "        for i in sql_data:\n",
    "            cursor.execute(sql_insert_statement, i)\n",
    "\n",
    "        connection.commit()\n",
    "        print(\"Table {} successfully updated.\".format(tableName))\n",
    "    # Errors are handled in the except block, and we will get the information printed to the console if there is an error\n",
    "    except mysql.connector.Error as error:\n",
    "        connection.rollback()\n",
    "        print(\"Error: {}. Table {} not updated!\".format(error, tableName))\n",
    "    # We need to close the cursor and the connection, and this needs to be done regardless of what happened above.\n",
    "    finally:\n",
    "        cursor.execute('SELECT COUNT(*) FROM {}'.format(tableName))\n",
    "        rowCount = cursor.fetchone()[0]\n",
    "        print(tableName, 'row count:', rowCount)\n",
    "        if connection.is_connected():\n",
    "            cursor.close()\n",
    "            connection.close()\n",
    "            print(\"MySQL connection is closed.\")"
   ],
   "metadata": {
    "collapsed": false,
    "ExecuteTime": {
     "end_time": "2024-04-26T11:51:14.851860200Z",
     "start_time": "2024-04-26T11:51:14.807711400Z"
    }
   },
   "id": "7d6feff2f8f781af",
   "execution_count": 113
  },
  {
   "cell_type": "code",
   "outputs": [],
   "source": [
    "# define method to write list of data to MySQL table\n",
    "def WriteToMySQLTable_person(sql_data, tableName):\n",
    "    try:\n",
    "        connection = mysql.connector.connect(\n",
    "            user=mc.user,\n",
    "            password=mc.password,\n",
    "            host=mc.host,\n",
    "            database=mc.database)\n",
    "        sql_drop = \" DROP TABLE IF EXISTS {} \".format(tableName)\n",
    "        sql_create_table = \"\"\"CREATE TABLE {}( \n",
    "                                    id VARCHAR(100),\n",
    "                                    company_id VARCHAR(100),\n",
    "                                    org_id VARCHAR(100),\n",
    "                                    name VARCHAR(100),\n",
    "                                    first_name VARCHAR(100),\n",
    "                                    last_name VARCHAR(100),\n",
    "                                    open_deals_count VARCHAR(100),\n",
    "                                    related_open_deals_count VARCHAR(100),\n",
    "                                    closed_deals_count VARCHAR(100),\n",
    "                                    related_closed_deals_count VARCHAR(100),\n",
    "                                    participant_open_deals_count VARCHAR(100),\n",
    "                                    participant_closed_deals_count VARCHAR(100),\n",
    "                                    email_messages_count VARCHAR(100),\n",
    "                                    activities_count VARCHAR(100),\n",
    "                                    done_activities_count VARCHAR(100),\n",
    "                                    undone_activities_count VARCHAR(100),\n",
    "                                    files_count VARCHAR(100),\n",
    "                                    notes_count VARCHAR(100),\n",
    "                                    followers_count VARCHAR(100),\n",
    "                                    won_deals_count VARCHAR(100),\n",
    "                                    related_won_deals_count VARCHAR(100),\n",
    "                                    lost_deals_count VARCHAR(100),\n",
    "                                    related_lost_deals_count VARCHAR(100),\n",
    "                                    active_flag VARCHAR(100),\n",
    "                                    phone VARCHAR(100),\n",
    "                                    email VARCHAR(100),\n",
    "                                    first_char VARCHAR(100),\n",
    "                                    update_time DATE,\n",
    "                                    delete_time VARCHAR(100),\n",
    "                                    add_time DATE,\n",
    "                                    visible_to VARCHAR(100),\n",
    "                                    picture_id VARCHAR(100),\n",
    "                                    next_activity_date VARCHAR(100),\n",
    "                                    next_activity_time VARCHAR(100),\n",
    "                                    next_activity_id VARCHAR(100),\n",
    "                                    last_activity_id VARCHAR(100),\n",
    "                                    last_activity_date VARCHAR(100),\n",
    "                                    last_incoming_mail_time VARCHAR(100),\n",
    "                                    last_outgoing_mail_time VARCHAR(100),\n",
    "                                    label VARCHAR(100),\n",
    "                                    label_ids VARCHAR(100),\n",
    "                                    im VARCHAR(100),\n",
    "                                    postal_address VARCHAR(100),\n",
    "                                    postal_address_lat VARCHAR(100),\n",
    "                                    postal_address_long VARCHAR(100),\n",
    "                                    postal_address_subpremise VARCHAR(100),\n",
    "                                    postal_address_street_number VARCHAR(100),\n",
    "                                    postal_address_route VARCHAR(100),\n",
    "                                    postal_address_sublocality VARCHAR(100),\n",
    "                                    postal_address_locality VARCHAR(100),\n",
    "                                    postal_address_admin_area_level_1 VARCHAR(100),\n",
    "                                    postal_address_admin_area_level_2 VARCHAR(100),\n",
    "                                    postal_address_country VARCHAR(100),\n",
    "                                    postal_address_postal_code VARCHAR(100),\n",
    "                                    postal_address_formatted_address VARCHAR(100),\n",
    "                                    notes VARCHAR(100),\n",
    "                                    birthday VARCHAR(100),\n",
    "                                    job_title VARCHAR(100),\n",
    "                                    org_name VARCHAR(100),\n",
    "                                    owner_name VARCHAR(100),\n",
    "                                    primary_email VARCHAR(100),\n",
    "                                    e590fd69916defff8f1245ccac5678d3336ba8dd VARCHAR(100),\n",
    "                                    b20755ef11d478af2c8f2ddfddc84d61eca934fc VARCHAR(100),\n",
    "                                    b7d9d2682c5cfc9d0d78d8dc13b28ff254022847 VARCHAR(100),\n",
    "                                    95cb3ea1f52348d739b34d6b4d61208c5a24d160 VARCHAR(100),\n",
    "                                    fe5989bb199ee84a6842ba7120507599616a8200 VARCHAR(100),\n",
    "                                    cc_email VARCHAR(100),\n",
    "                                    owner_id_id VARCHAR(100),\n",
    "                                    owner_id_name VARCHAR(100),\n",
    "                                    owner_id_email VARCHAR(100),\n",
    "                                    owner_id_has_pic VARCHAR(100),\n",
    "                                    owner_id_pic_hash VARCHAR(100),\n",
    "                                    owner_id_active_flag VARCHAR(100),\n",
    "                                    owner_id_value VARCHAR(100),\n",
    "                                    org_id_name VARCHAR(100),\n",
    "                                    org_id_people_count VARCHAR(100),\n",
    "                                    org_id_owner_id VARCHAR(100),\n",
    "                                    org_id_address VARCHAR(100),\n",
    "                                    org_id_active_flag VARCHAR(100),\n",
    "                                    org_id_cc_email VARCHAR(100),\n",
    "                                    org_id_label_ids VARCHAR(100),\n",
    "                                    org_id_owner_name VARCHAR(100),\n",
    "                                    org_id_value VARCHAR(100),\n",
    "                                    picture_id_item_type VARCHAR(100),\n",
    "                                    picture_id_item_id VARCHAR(100),\n",
    "                                    picture_id_active_flag VARCHAR(100),\n",
    "                                    picture_id_add_time VARCHAR(100),\n",
    "                                    picture_id_update_time VARCHAR(100),\n",
    "                                    picture_id_added_by_user_id VARCHAR(100),\n",
    "                                    picture_id_file_size VARCHAR(100),\n",
    "                                    picture_id_pictures_128 VARCHAR(100),\n",
    "                                    picture_id_pictures_512 VARCHAR(100),\n",
    "                                    picture_id_value VARCHAR(100)\n",
    "            )\"\"\".format(tableName)\n",
    "\n",
    "        sql_insert_statement = \"\"\"INSERT INTO {}( \n",
    "                                    id,\n",
    "                                    company_id,\n",
    "                                    org_id,\n",
    "                                    name,\n",
    "                                    first_name,\n",
    "                                    last_name,\n",
    "                                    open_deals_count,\n",
    "                                    related_open_deals_count,\n",
    "                                    closed_deals_count,\n",
    "                                    related_closed_deals_count,\n",
    "                                    participant_open_deals_count,\n",
    "                                    participant_closed_deals_count,\n",
    "                                    email_messages_count,\n",
    "                                    activities_count,\n",
    "                                    done_activities_count,\n",
    "                                    undone_activities_count,\n",
    "                                    files_count,\n",
    "                                    notes_count,\n",
    "                                    followers_count,\n",
    "                                    won_deals_count,\n",
    "                                    related_won_deals_count,\n",
    "                                    lost_deals_count,\n",
    "                                    related_lost_deals_count,\n",
    "                                    active_flag,\n",
    "                                    phone,\n",
    "                                    email,\n",
    "                                    first_char,\n",
    "                                    update_time,\n",
    "                                    delete_time,\n",
    "                                    add_time,\n",
    "                                    visible_to,\n",
    "                                    picture_id,\n",
    "                                    next_activity_date,\n",
    "                                    next_activity_time,\n",
    "                                    next_activity_id,\n",
    "                                    last_activity_id,\n",
    "                                    last_activity_date,\n",
    "                                    last_incoming_mail_time,\n",
    "                                    last_outgoing_mail_time,\n",
    "                                    label,\n",
    "                                    label_ids,\n",
    "                                    im,\n",
    "                                    postal_address,\n",
    "                                    postal_address_lat,\n",
    "                                    postal_address_long,\n",
    "                                    postal_address_subpremise,\n",
    "                                    postal_address_street_number,\n",
    "                                    postal_address_route,\n",
    "                                    postal_address_sublocality,\n",
    "                                    postal_address_locality,\n",
    "                                    postal_address_admin_area_level_1,\n",
    "                                    postal_address_admin_area_level_2,\n",
    "                                    postal_address_country,\n",
    "                                    postal_address_postal_code,\n",
    "                                    postal_address_formatted_address,\n",
    "                                    notes,\n",
    "                                    birthday,\n",
    "                                    job_title,\n",
    "                                    org_name,\n",
    "                                    owner_name,\n",
    "                                    primary_email,\n",
    "                                    e590fd69916defff8f1245ccac5678d3336ba8dd,\n",
    "                                    b20755ef11d478af2c8f2ddfddc84d61eca934fc,\n",
    "                                    b7d9d2682c5cfc9d0d78d8dc13b28ff254022847,\n",
    "                                    95cb3ea1f52348d739b34d6b4d61208c5a24d160,\n",
    "                                    fe5989bb199ee84a6842ba7120507599616a8200,\n",
    "                                    cc_email,\n",
    "                                    owner_id_id,\n",
    "                                    owner_id_name,\n",
    "                                    owner_id_email,\n",
    "                                    owner_id_has_pic,\n",
    "                                    owner_id_pic_hash,\n",
    "                                    owner_id_active_flag,\n",
    "                                    owner_id_value,\n",
    "                                    org_id_name,\n",
    "                                    org_id_people_count,\n",
    "                                    org_id_owner_id,\n",
    "                                    org_id_address,\n",
    "                                    org_id_active_flag,\n",
    "                                    org_id_cc_email,\n",
    "                                    org_id_label_ids,\n",
    "                                    org_id_owner_name,\n",
    "                                    org_id_value,\n",
    "                                    picture_id_item_type,\n",
    "                                    picture_id_item_id,\n",
    "                                    picture_id_active_flag,\n",
    "                                    picture_id_add_time,\n",
    "                                    picture_id_update_time,\n",
    "                                    picture_id_added_by_user_id,\n",
    "                                    picture_id_file_size,\n",
    "                                    picture_id_pictures_128,\n",
    "                                    picture_id_pictures_512,\n",
    "                                    picture_id_value\n",
    "                                    )\n",
    "        VALUES (%s,%s,%s,%s,%s,%s,%s,%s,%s,%s,%s,%s,%s,%s,%s,%s,%s,%s,%s,%s,%s,%s,%s,%s,%s,%s,%s,%s,%s,%s,%s,%s,%s,%s,%s,%s,%s,%s,%s,%s,%s,%s,%s,%s,%s,%s,%s,%s,%s,%s,%s,%s,%s,%s,%s,%s,%s,%s,%s,%s,%s,%s,%s,%s,%s,%s,%s,%s,%s,%s,%s,%s,%s,%s,%s,%s,%s,%s,%s,%s,%s,%s,%s,%s,%s,%s,%s,%s,%s,%s,%s,%s,%s)\"\"\".format(tableName)\n",
    "        \n",
    "        cursor = connection.cursor()\n",
    "        cursor.execute(sql_drop)\n",
    "        print('Table {} has been dropped'.format(tableName))\n",
    "        cursor.execute(sql_create_table)\n",
    "        print('Table {} has been created'.format(tableName))\n",
    "        \n",
    "        for i in sql_data:\n",
    "            cursor.execute(sql_insert_statement, i)\n",
    "\n",
    "        connection.commit()\n",
    "        print(\"Table {} successfully updated.\".format(tableName))\n",
    "    # Errors are handled in the except block, and we will get the information printed to the console if there is an error\n",
    "    except mysql.connector.Error as error:\n",
    "        connection.rollback()\n",
    "        print(\"Error: {}. Table {} not updated!\".format(error, tableName))\n",
    "    # We need to close the cursor and the connection, and this needs to be done regardless of what happened above.\n",
    "    finally:\n",
    "        cursor.execute('SELECT COUNT(*) FROM {}'.format(tableName))\n",
    "        rowCount = cursor.fetchone()[0]\n",
    "        print(tableName, 'row count:', rowCount)\n",
    "        if connection.is_connected():\n",
    "            cursor.close()\n",
    "            connection.close()\n",
    "            print(\"MySQL connection is closed.\")"
   ],
   "metadata": {
    "collapsed": false,
    "ExecuteTime": {
     "end_time": "2024-04-26T11:51:14.885729100Z",
     "start_time": "2024-04-26T11:51:14.849074700Z"
    }
   },
   "id": "def8b1a62b1b348b",
   "execution_count": 114
  },
  {
   "cell_type": "code",
   "outputs": [],
   "source": [
    "# define method to write list of data to MySQL table\n",
    "def WriteToMySQLTable_leads(sql_data, tableName):\n",
    "    try:\n",
    "        connection = mysql.connector.connect(\n",
    "            user=mc.user,\n",
    "            password=mc.password,\n",
    "            host=mc.host,\n",
    "            database=mc.database)\n",
    "        sql_drop = \" DROP TABLE IF EXISTS {} \".format(tableName)\n",
    "        sql_create_table = \"\"\"CREATE TABLE {}( \n",
    "                                    lead_id VARCHAR(100),\n",
    "                                    title VARCHAR(100),\n",
    "                                    owner_id VARCHAR(100),\n",
    "                                    creator_id VARCHAR(100),\n",
    "                                    label_ids VARCHAR(100),\n",
    "                                    value VARCHAR(100),\n",
    "                                    expected_close_date VARCHAR(100),\n",
    "                                    person_id INTEGER,\n",
    "                                    organization_id VARCHAR(100),\n",
    "                                    is_archived VARCHAR(100),\n",
    "                                    source_name VARCHAR(100),\n",
    "                                    origin VARCHAR(100),\n",
    "                                    origin_id VARCHAR(100),\n",
    "                                    channel VARCHAR(100),\n",
    "                                    channel_id VARCHAR(100),\n",
    "                                    was_seen VARCHAR(100),\n",
    "                                    next_activity_id VARCHAR(100),\n",
    "                                    add_time DATE,\n",
    "                                    update_time DATE,\n",
    "                                    cancelled_reason VARCHAR(100),\n",
    "                                    visible_to VARCHAR(100),\n",
    "                                    cc_email VARCHAR(100),\n",
    "                                    mkt_acquisition_channel VARCHAR(100),\n",
    "                                    mkt_city_campaigns VARCHAR(100),\n",
    "                                    mkt_acquisition_campaign VARCHAR(100),\n",
    "                                    property_status VARCHAR(100),\n",
    "                                    property_type VARCHAR(100),\n",
    "                                    property_id VARCHAR(100),\n",
    "                                    city VARCHAR(100),\n",
    "                                    mkt_acquisition_source VARCHAR(100),\n",
    "                                    available_date VARCHAR(100),\n",
    "                                    archived VARCHAR(100),\n",
    "                                    Lead_created_Date DATE,\n",
    "                                    codfisc VARCHAR(100),\n",
    "                                    uranus_dashboard VARCHAR(100),\n",
    "                                    note VARCHAR(100),\n",
    "                                    value_amount VARCHAR(100),\n",
    "                                    value_currency VARCHAR(100),\n",
    "                                    URL VARCHAR(100),\n",
    "                                    Myphoner VARCHAR(100),\n",
    "                                    Archiviation_Date_Later VARCHAR(100),\n",
    "                                    Hinterland VARCHAR(100),\n",
    "                                    ref_code VARCHAR(100),\n",
    "                                    referral_id VARCHAR(100),\n",
    "                                    mkt_acquisition_content VARCHAR(100),\n",
    "                                    mkt_acquisition_term TEXT(200),\n",
    "                                    mkt_acquisition_medium VARCHAR(100),\n",
    "                                    Address VARCHAR(100),\n",
    "                                    Interessato VARCHAR(100),\n",
    "                                    Aircall_Tags VARCHAR(100),\n",
    "                                    Qualified_Ready_nel_passato VARCHAR(100),\n",
    "                                7dad498e50b4e0bc327b113997ed188b832419ab VARCHAR(100)\n",
    "                                    \n",
    "            )\"\"\".format(tableName)\n",
    "\n",
    "        sql_insert_statement = \"\"\"INSERT INTO {}( \n",
    "                                    lead_id,\n",
    "                                    title,\n",
    "                                    owner_id,\n",
    "                                    creator_id,\n",
    "                                    label_ids,\n",
    "                                    value,\n",
    "                                    expected_close_date,\n",
    "                                    person_id,\n",
    "                                    organization_id,\n",
    "                                    is_archived,\n",
    "                                    source_name,\n",
    "                                    origin,\n",
    "                                    origin_id,\n",
    "                                    channel,\n",
    "                                    channel_id,\n",
    "                                    was_seen,\n",
    "                                    next_activity_id,\n",
    "                                    add_time,\n",
    "                                    update_time,\n",
    "                                    cancelled_reason,\n",
    "                                    visible_to,\n",
    "                                    cc_email,\n",
    "                                    mkt_acquisition_channel,\n",
    "                                    mkt_city_campaigns,\n",
    "                                    mkt_acquisition_campaign,\n",
    "                                    property_status,\n",
    "                                    property_type,\n",
    "                                    property_id,\n",
    "                                    city,\n",
    "                                    mkt_acquisition_source,\n",
    "                                    available_date,\n",
    "                                    archived,\n",
    "                                    Lead_created_Date,\n",
    "                                    codfisc,\n",
    "                                    uranus_dashboard,\n",
    "                                    note,\n",
    "                                    value_amount,\n",
    "                                    value_currency,\n",
    "                                    URL,\n",
    "                                    Myphoner,\n",
    "                                    Archiviation_Date_Later,\n",
    "                                    Hinterland,\n",
    "                                    ref_code,\n",
    "                                    referral_id,\n",
    "                                    mkt_acquisition_content,\n",
    "                                    mkt_acquisition_term,\n",
    "                                    mkt_acquisition_medium,\n",
    "                                    Address,\n",
    "                                    Interessato,\n",
    "                                    Aircall_Tags,\n",
    "                                    Qualified_Ready_nel_passato,\n",
    "                                    7dad498e50b4e0bc327b113997ed188b832419ab    \n",
    "                                    )\n",
    "        VALUES (%s,%s,%s,%s,%s,%s,%s,%s,%s,%s,%s,%s,%s,%s,%s,%s,%s,%s,%s,%s,%s,%s,%s,%s,%s,%s,%s,%s,%s,%s,%s,%s,%s,%s,%s,%s,%s,%s,%s,%s,%s,%s,%s,%s,%s,%s,%s,%s,%s,%s,%s,%s)\"\"\".format(tableName)\n",
    "        \n",
    "        cursor = connection.cursor()\n",
    "        cursor.execute(sql_drop)\n",
    "        print('Table {} has been dropped'.format(tableName))\n",
    "        cursor.execute(sql_create_table)\n",
    "        print('Table {} has been created'.format(tableName))\n",
    "        \n",
    "        for i in sql_data:\n",
    "            cursor.execute(sql_insert_statement, i)\n",
    "\n",
    "        connection.commit()\n",
    "        print(\"Table {} successfully updated.\".format(tableName))\n",
    "    # Errors are handled in the except block, and we will get the information printed to the console if there is an error\n",
    "    except mysql.connector.Error as error:\n",
    "        connection.rollback()\n",
    "        print(\"Error: {}. Table {} not updated!\".format(error, tableName))\n",
    "    # We need to close the cursor and the connection, and this needs to be done regardless of what happened above.\n",
    "    finally:\n",
    "        cursor.execute('SELECT COUNT(*) FROM {}'.format(tableName))\n",
    "        rowCount = cursor.fetchone()[0]\n",
    "        print(tableName, 'row count:', rowCount)\n",
    "        if connection.is_connected():\n",
    "            cursor.close()\n",
    "            connection.close()\n",
    "            print(\"MySQL connection is closed.\")"
   ],
   "metadata": {
    "collapsed": false,
    "ExecuteTime": {
     "end_time": "2024-05-03T14:47:49.586281100Z",
     "start_time": "2024-05-03T14:47:49.509892300Z"
    }
   },
   "id": "d5bdd1e993570e55",
   "execution_count": 138
  },
  {
   "cell_type": "code",
   "outputs": [
    {
     "name": "stdout",
     "output_type": "stream",
     "text": [
      "Table deals_api has been dropped\n",
      "Table deals_api has been created\n",
      "Table deals_api successfully updated.\n",
      "deals_api row count: 30564\n",
      "MySQL connection is closed.\n"
     ]
    }
   ],
   "source": [
    "WriteToMySQLTable(df_deals,'deals')"
   ],
   "metadata": {
    "collapsed": false,
    "ExecuteTime": {
     "end_time": "2024-04-26T11:52:03.447646600Z",
     "start_time": "2024-04-26T11:51:14.889944300Z"
    }
   },
   "id": "4c4eb4740222dded",
   "execution_count": 116
  },
  {
   "cell_type": "code",
   "outputs": [
    {
     "name": "stdout",
     "output_type": "stream",
     "text": [
      "Table persons_api has been dropped\n",
      "Table persons_api has been created\n",
      "Table persons_api successfully updated.\n",
      "persons_api row count: 255544\n",
      "MySQL connection is closed.\n"
     ]
    }
   ],
   "source": [
    "WriteToMySQLTable_person(df_person,'person')"
   ],
   "metadata": {
    "collapsed": false,
    "ExecuteTime": {
     "end_time": "2024-04-26T11:58:16.382015200Z",
     "start_time": "2024-04-26T11:52:03.404397100Z"
    }
   },
   "id": "73b51725de89e786",
   "execution_count": 117
  },
  {
   "cell_type": "code",
   "outputs": [
    {
     "name": "stdout",
     "output_type": "stream",
     "text": [
      "Table leads has been dropped\n",
      "Table leads has been created\n",
      "Table leads successfully updated.\n",
      "leads row count: 216419\n",
      "MySQL connection is closed.\n"
     ]
    }
   ],
   "source": [
    "WriteToMySQLTable_leads(df_leads,'leads')"
   ],
   "metadata": {
    "collapsed": false,
    "ExecuteTime": {
     "end_time": "2024-05-03T14:52:27.636623800Z",
     "start_time": "2024-05-03T14:48:00.113232600Z"
    }
   },
   "id": "5a800797ea945483",
   "execution_count": 139
  },
  {
   "cell_type": "code",
   "outputs": [],
   "source": [],
   "metadata": {
    "collapsed": false
   },
   "id": "b72b51661cb6a6bd"
  }
 ],
 "metadata": {
  "kernelspec": {
   "display_name": "Python 3",
   "language": "python",
   "name": "python3"
  },
  "language_info": {
   "codemirror_mode": {
    "name": "ipython",
    "version": 2
   },
   "file_extension": ".py",
   "mimetype": "text/x-python",
   "name": "python",
   "nbconvert_exporter": "python",
   "pygments_lexer": "ipython2",
   "version": "2.7.6"
  }
 },
 "nbformat": 4,
 "nbformat_minor": 5
}
